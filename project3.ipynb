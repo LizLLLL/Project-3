{
 "cells": [
  {
   "cell_type": "markdown",
   "id": "f9b1b9f7-d6c2-418d-be1e-7adb7a7fc6e0",
   "metadata": {},
   "source": [
    "## Project 3\n",
    "\n",
    "## Distribution of EV Charging Stations in NYC"
   ]
  },
  {
   "cell_type": "markdown",
   "id": "6b00e456-3829-43d6-8c04-094e194964ce",
   "metadata": {},
   "source": [
    "**Prompt**"
   ]
  },
  {
   "cell_type": "markdown",
   "id": "022b85c7-9a71-4210-85b5-8f64b1e554fd",
   "metadata": {},
   "source": [
    "- **Dataset(s) to be used:** [https://data.cityofnewyork.us/City-Government/NYC-EV-Fleet-Station-Network/fc53-9hrv/about_data ]\n",
    "- **Analysis question:** [This analysis explores the geographic distribution of EV charging stations across the five boroughs of New York City. We'll investigate whether there are disparities in charging infrastructure, which could highlight areas for improvement in resource allocation.]\n",
    "- **Columns that will (likely) be used:**\n",
    "  - [BOROUGH] Specifies the NYC borough where the station is located.\n",
    "  - [TYPE OF CHARGER] Describes the type of charger at the station.\n",
    "  - [LATITUDE] Latitude coordinate for the station's location.\n",
    "  - [LONGITUDE] Longitude coordinate for the station's location\n",
    "- **Hypothesis**: [The number and type of EV charging stations (standard vs. fast-charging, solar-powered vs. grid-powered) are unevenly distributed across the five NYC boroughs, potentially reflecting differences in fleet vehicle usage, area size, commercial development or administrative priorities. The more commercially developed Manhattan has more EV charging stations than others.]\n",
    "- **Site URL:** https://lizlll-project-3.readthedocs.io/en/latest/project3.html"
   ]
  },
  {
   "cell_type": "markdown",
   "id": "8cce6227-28ee-4cbf-8dd5-f2a0dd9bf754",
   "metadata": {},
   "source": [
    "### Introduction\n",
    "\n",
    "Electric vehicle (EV) infrastructure is critical to supporting NYC's growing fleet of electric and plug-in hybrid vehicles. In this project, we examine data provided by the New York City Department of Citywide Administrative Services (DCAS), focusing on the distribution of EV charging stations in NYC.  \n",
    "\n",
    "DCAS is rapidly expanding its base of electric chargers to support its electric and plug-in hybrid vehicles. They have installed over 1,600 charging ports across over 1,025 charging stations, including over 180 fast-charging stations, at City garages and parking locations around the city. \n",
    "\n",
    "This analysis explores the geographic distribution of EV charging stations across the five boroughs of New York City. We'll investigate whether there are disparities in charging infrastructure, which could highlight areas for improvement in resource allocation.\n",
    "\n",
    "**The Hypothesis**:  \n",
    "The number and type of EV charging stations (standard vs. fast-charging, solar-powered vs. grid-powered) are **unevenly distributed** across the five NYC boroughs, potentially reflecting differences in fleet vehicle usage, area size, commercial development or administrative priorities. Does the more commercially developed Manhattan have more EV charging stations than others? \n"
   ]
  },
  {
   "cell_type": "markdown",
   "id": "ca86a191-6b38-4e26-add6-21de19bf462d",
   "metadata": {},
   "source": [
    "### About the Data"
   ]
  },
  {
   "cell_type": "markdown",
   "id": "e6c413ed-fa6b-4822-9363-3c0273a61848",
   "metadata": {},
   "source": [
    "This dataset was last updated by the DCAS on November 12, 2024. It includes 1410 rows and 18 columns; each row represents a charging station. Station information, geographic details, boroughs, and charger types are some of the key features of the dataset. For our analysis, we focus on the following columns:  \n",
    "\n",
    "- BOROUGH: Specifies the NYC borough where the station is located.\n",
    "- TYPE OF CHARGER: Describes the type of charger at the station (e.g., Level 2 Charger, Level 3 Fast Charger, Solar-powered).\n",
    "- LATITUDE: Latitude coordinate for the station's location.\n",
    "- LONGITUDE: Longitude coordinate for the station's location.\n",
    "\n",
    "These columns will help us understand the geographic distribution of different types of chargers at stations and evaluate differences across boroughs. They enable us to create visualizations like bar charts and geospatial maps to uncover patterns and disparities in EV charging infrastructure across NYC for testing our hypothesis. \n",
    "\n",
    "**Note** : *In this analysis, \"charging stations\" refers to the stations with different types of chargers, which essentially is delegated by the column \"TYPE OF CHARGER\".*\n",
    "\n",
    "More specific data info can be found here: \n",
    "https://data.cityofnewyork.us/City-Government/NYC-EV-Fleet-Station-Network/fc53-9hrv/about_data"
   ]
  },
  {
   "cell_type": "markdown",
   "id": "80ac55f8-dc5e-4530-ae7f-038665fa035d",
   "metadata": {},
   "source": [
    "### Step 1: Load and Inspect the Data "
   ]
  },
  {
   "cell_type": "code",
   "execution_count": 3,
   "id": "efeaa9a9-4b38-4b9b-86d1-6f054eed8eb6",
   "metadata": {},
   "outputs": [
    {
     "name": "stdout",
     "output_type": "stream",
     "text": [
      "Missing values:\n",
      " AGENCY                                          0\n",
      "STATION NAME                                    0\n",
      "TYPE OF CHARGER                                 0\n",
      "NO. OF PLUGS                                    0\n",
      "ADDRESS                                        11\n",
      "CITY                                           11\n",
      "POSTCODE                                       11\n",
      "BOROUGH                                        11\n",
      "PUBLIC CHARGER?                              1337\n",
      "FEE FOR CITY DRIVERS                         1339\n",
      "LATITUDE                                      287\n",
      "LONGITUDE                                     287\n",
      "COMMUNITY DISTRICT                            287\n",
      "COUNCIL DISTRICT                              287\n",
      "CENSUS TRACT 2020                             287\n",
      "BIN                                           365\n",
      "BBL                                           365\n",
      "NEIGHBORHOOD TABULATION AREA (NTA) (2020)     287\n",
      "dtype: int64\n"
     ]
    }
   ],
   "source": [
    "import pandas as pd \n",
    "import plotly.express as px \n",
    "import plotly.io as pio \n",
    "\n",
    "pio.renderers.default = 'vscode+jupyterlab+notebook_connected'\n",
    "\n",
    "# Load the data and preview the dataset to understand its structure\n",
    "ev_charging = pd.read_csv(\"NYC_EV_Fleet_Station_Network_2024.csv\")\n",
    "\n",
    "ev_charging.head()\n",
    "\n",
    "# Check for missing values in the dataset\n",
    "missing_values = ev_charging.isnull().sum()\n",
    "print(\"Missing values:\\n\", missing_values)\n"
   ]
  },
  {
   "cell_type": "markdown",
   "id": "c86e3cdc-c9fb-40a3-ba36-75214114ccb3",
   "metadata": {},
   "source": [
    "### Step 2: Data Cleaning and Filtering\n",
    "\n",
    "We want to ensure that the data is consistent, such as checking for typos in borough names. We'll also filter for the \"Borough\", \"Type of Charger\", \"Latitude\" and \"Longitude\" columns to focus our analysis."
   ]
  },
  {
   "cell_type": "code",
   "execution_count": 4,
   "id": "aa91c0f9-a311-43b4-942d-f506b9098e6e",
   "metadata": {},
   "outputs": [
    {
     "name": "stdout",
     "output_type": "stream",
     "text": [
      "Unique Borough Values: ['Brooklyn' 'Staten Island' 'Manhattan' 'Queens' 'Bronx' 'Upstate' nan]\n"
     ]
    }
   ],
   "source": [
    "# Inspect unique values in the \"BOROUGH\" column\n",
    "unique_boroughs = ev_charging['BOROUGH'].unique()\n",
    "print(\"Unique Borough Values:\", unique_boroughs)"
   ]
  },
  {
   "cell_type": "code",
   "execution_count": 5,
   "id": "d04f8934-cac6-496f-800f-cef749295d00",
   "metadata": {},
   "outputs": [
    {
     "name": "stdout",
     "output_type": "stream",
     "text": [
      "Type of chargers: ['Level 3 Fast Charger' 'Level 2 Charger' 'EV Solar Arc Charger'\n",
      " 'Level 3 Fast Charger - Boost' 'EV Solar Canopy Charger' 'Mobile Charger'\n",
      " 'L2 DOT Flo Curbside Charger' 'DOT Municipal Level 2 Charger'\n",
      " 'DOT Municipal Level 3 Charger']\n"
     ]
    }
   ],
   "source": [
    "# Inspect unique values in the \"TYPE OF CHARGER\" column\n",
    "charger_types = ev_charging['TYPE OF CHARGER'].unique()\n",
    "print(\"Type of chargers:\", charger_types)"
   ]
  },
  {
   "cell_type": "code",
   "execution_count": 6,
   "id": "7e2db215-1749-4f21-a329-03e217284151",
   "metadata": {},
   "outputs": [
    {
     "data": {
      "text/html": [
       "<div>\n",
       "<style scoped>\n",
       "    .dataframe tbody tr th:only-of-type {\n",
       "        vertical-align: middle;\n",
       "    }\n",
       "\n",
       "    .dataframe tbody tr th {\n",
       "        vertical-align: top;\n",
       "    }\n",
       "\n",
       "    .dataframe thead th {\n",
       "        text-align: right;\n",
       "    }\n",
       "</style>\n",
       "<table border=\"1\" class=\"dataframe\">\n",
       "  <thead>\n",
       "    <tr style=\"text-align: right;\">\n",
       "      <th></th>\n",
       "      <th>BOROUGH</th>\n",
       "      <th>TYPE OF CHARGER</th>\n",
       "      <th>LATITUDE</th>\n",
       "      <th>LONGITUDE</th>\n",
       "    </tr>\n",
       "  </thead>\n",
       "  <tbody>\n",
       "    <tr>\n",
       "      <th>0</th>\n",
       "      <td>Brooklyn</td>\n",
       "      <td>Level 3 Fast Charger</td>\n",
       "      <td>40.668034</td>\n",
       "      <td>-73.869949</td>\n",
       "    </tr>\n",
       "    <tr>\n",
       "      <th>1</th>\n",
       "      <td>Brooklyn</td>\n",
       "      <td>Level 3 Fast Charger</td>\n",
       "      <td>40.668034</td>\n",
       "      <td>-73.869949</td>\n",
       "    </tr>\n",
       "    <tr>\n",
       "      <th>2</th>\n",
       "      <td>Brooklyn</td>\n",
       "      <td>Level 2 Charger</td>\n",
       "      <td>40.668034</td>\n",
       "      <td>-73.869949</td>\n",
       "    </tr>\n",
       "    <tr>\n",
       "      <th>3</th>\n",
       "      <td>Staten Island</td>\n",
       "      <td>Level 2 Charger</td>\n",
       "      <td>40.640708</td>\n",
       "      <td>-74.077697</td>\n",
       "    </tr>\n",
       "    <tr>\n",
       "      <th>4</th>\n",
       "      <td>Manhattan</td>\n",
       "      <td>Level 2 Charger</td>\n",
       "      <td>40.712806</td>\n",
       "      <td>-74.006096</td>\n",
       "    </tr>\n",
       "  </tbody>\n",
       "</table>\n",
       "</div>"
      ],
      "text/plain": [
       "         BOROUGH       TYPE OF CHARGER   LATITUDE  LONGITUDE\n",
       "0       Brooklyn  Level 3 Fast Charger  40.668034 -73.869949\n",
       "1       Brooklyn  Level 3 Fast Charger  40.668034 -73.869949\n",
       "2       Brooklyn       Level 2 Charger  40.668034 -73.869949\n",
       "3  Staten Island       Level 2 Charger  40.640708 -74.077697\n",
       "4      Manhattan       Level 2 Charger  40.712806 -74.006096"
      ]
     },
     "execution_count": 6,
     "metadata": {},
     "output_type": "execute_result"
    }
   ],
   "source": [
    "# Filter for the columns we are focusing on\n",
    "\n",
    "columns = ['BOROUGH', 'TYPE OF CHARGER', 'LATITUDE', 'LONGITUDE']\n",
    "ev_charging = ev_charging[columns]\n",
    "\n",
    "# Preview the cleaned dataset\n",
    "ev_charging.head()"
   ]
  },
  {
   "cell_type": "markdown",
   "id": "31983ddd-047b-4258-89c4-9182010bbea4",
   "metadata": {},
   "source": [
    "### Step 3: Group and Aggregate the Data "
   ]
  },
  {
   "cell_type": "markdown",
   "id": "138ae23e-1c3f-40df-9c71-dbecf76f50e1",
   "metadata": {},
   "source": [
    "To understand the distribution of types of chargers(charging stations) across boroughs, we are going to group the data by \"Borough\" and \"Type of Chargers\" and count the number of chargers for each type (\"Level 3 Fast Charger\", \"Level 2 Charger\", \"EV Solar Arc Charger\", \"Level 3 Fast Charger - Boost\", \"EV Solar Canopy Charger\", \"Mobile Charger\", \"L2 DOT Flo Curbside Charger\",\"DOT Municipal Level 2 Charger\", \"DOT Municipal Level 3 Charger\"].  "
   ]
  },
  {
   "cell_type": "code",
   "execution_count": 7,
   "id": "209d2f5e-b91f-4ba3-91fc-b24943f3451c",
   "metadata": {},
   "outputs": [
    {
     "data": {
      "text/html": [
       "<div>\n",
       "<style scoped>\n",
       "    .dataframe tbody tr th:only-of-type {\n",
       "        vertical-align: middle;\n",
       "    }\n",
       "\n",
       "    .dataframe tbody tr th {\n",
       "        vertical-align: top;\n",
       "    }\n",
       "\n",
       "    .dataframe thead th {\n",
       "        text-align: right;\n",
       "    }\n",
       "</style>\n",
       "<table border=\"1\" class=\"dataframe\">\n",
       "  <thead>\n",
       "    <tr style=\"text-align: right;\">\n",
       "      <th></th>\n",
       "      <th>BOROUGH</th>\n",
       "      <th>TYPE OF CHARGER</th>\n",
       "      <th>Count</th>\n",
       "    </tr>\n",
       "  </thead>\n",
       "  <tbody>\n",
       "    <tr>\n",
       "      <th>0</th>\n",
       "      <td>Bronx</td>\n",
       "      <td>DOT Municipal Level 2 Charger</td>\n",
       "      <td>1</td>\n",
       "    </tr>\n",
       "    <tr>\n",
       "      <th>1</th>\n",
       "      <td>Bronx</td>\n",
       "      <td>EV Solar Arc Charger</td>\n",
       "      <td>27</td>\n",
       "    </tr>\n",
       "    <tr>\n",
       "      <th>2</th>\n",
       "      <td>Bronx</td>\n",
       "      <td>EV Solar Canopy Charger</td>\n",
       "      <td>6</td>\n",
       "    </tr>\n",
       "    <tr>\n",
       "      <th>3</th>\n",
       "      <td>Bronx</td>\n",
       "      <td>L2 DOT Flo Curbside Charger</td>\n",
       "      <td>4</td>\n",
       "    </tr>\n",
       "    <tr>\n",
       "      <th>4</th>\n",
       "      <td>Bronx</td>\n",
       "      <td>Level 2 Charger</td>\n",
       "      <td>118</td>\n",
       "    </tr>\n",
       "  </tbody>\n",
       "</table>\n",
       "</div>"
      ],
      "text/plain": [
       "  BOROUGH                TYPE OF CHARGER  Count\n",
       "0   Bronx  DOT Municipal Level 2 Charger      1\n",
       "1   Bronx           EV Solar Arc Charger     27\n",
       "2   Bronx        EV Solar Canopy Charger      6\n",
       "3   Bronx    L2 DOT Flo Curbside Charger      4\n",
       "4   Bronx                Level 2 Charger    118"
      ]
     },
     "execution_count": 7,
     "metadata": {},
     "output_type": "execute_result"
    }
   ],
   "source": [
    "# Group data by BOROUGH and TYPE OF CHARGER \n",
    "charger_counts = ev_charging.groupby(['BOROUGH', 'TYPE OF CHARGER']).size()\n",
    "\n",
    "# Convert the grouped data to a DataFrame\n",
    "charger_counts = charger_counts.reset_index(name='Count')\n",
    "\n",
    "# Preview the grouped data\n",
    "charger_counts.head()"
   ]
  },
  {
   "cell_type": "code",
   "execution_count": 8,
   "id": "72f8ca7d-5308-4f72-b827-59fd6263ff45",
   "metadata": {},
   "outputs": [
    {
     "data": {
      "text/html": [
       "<div>\n",
       "<style scoped>\n",
       "    .dataframe tbody tr th:only-of-type {\n",
       "        vertical-align: middle;\n",
       "    }\n",
       "\n",
       "    .dataframe tbody tr th {\n",
       "        vertical-align: top;\n",
       "    }\n",
       "\n",
       "    .dataframe thead th {\n",
       "        text-align: right;\n",
       "    }\n",
       "</style>\n",
       "<table border=\"1\" class=\"dataframe\">\n",
       "  <thead>\n",
       "    <tr style=\"text-align: right;\">\n",
       "      <th></th>\n",
       "      <th>BOROUGH</th>\n",
       "      <th>TOTAL_CHARGERS</th>\n",
       "    </tr>\n",
       "  </thead>\n",
       "  <tbody>\n",
       "    <tr>\n",
       "      <th>0</th>\n",
       "      <td>Bronx</td>\n",
       "      <td>179</td>\n",
       "    </tr>\n",
       "    <tr>\n",
       "      <th>1</th>\n",
       "      <td>Brooklyn</td>\n",
       "      <td>292</td>\n",
       "    </tr>\n",
       "    <tr>\n",
       "      <th>2</th>\n",
       "      <td>Manhattan</td>\n",
       "      <td>301</td>\n",
       "    </tr>\n",
       "    <tr>\n",
       "      <th>3</th>\n",
       "      <td>Queens</td>\n",
       "      <td>447</td>\n",
       "    </tr>\n",
       "    <tr>\n",
       "      <th>4</th>\n",
       "      <td>Staten Island</td>\n",
       "      <td>123</td>\n",
       "    </tr>\n",
       "    <tr>\n",
       "      <th>5</th>\n",
       "      <td>Upstate</td>\n",
       "      <td>57</td>\n",
       "    </tr>\n",
       "  </tbody>\n",
       "</table>\n",
       "</div>"
      ],
      "text/plain": [
       "         BOROUGH  TOTAL_CHARGERS\n",
       "0          Bronx             179\n",
       "1       Brooklyn             292\n",
       "2      Manhattan             301\n",
       "3         Queens             447\n",
       "4  Staten Island             123\n",
       "5        Upstate              57"
      ]
     },
     "execution_count": 8,
     "metadata": {},
     "output_type": "execute_result"
    }
   ],
   "source": [
    "# Create a dataset for total chargers by borough, not specifying charger type\n",
    "total_chargers_by_borough = ev_charging.groupby('BOROUGH').size().reset_index(name='TOTAL_CHARGERS')\n",
    "total_chargers_by_borough"
   ]
  },
  {
   "cell_type": "markdown",
   "id": "b136f5ba-8cba-4ea6-a561-ddcbf2903f88",
   "metadata": {},
   "source": [
    "### Step 4: Visualizing Borough-Level Distribution of Chargers "
   ]
  },
  {
   "cell_type": "markdown",
   "id": "a3daf3bb-7bed-4f91-bbac-8de2990d2ee8",
   "metadata": {},
   "source": [
    "To visualize the number of chargers in each borough, categorized by charger type and not, we are going to create two bar charts. "
   ]
  },
  {
   "cell_type": "code",
   "execution_count": 9,
   "id": "7853145a-cf87-470c-840f-0716fe3da152",
   "metadata": {},
   "outputs": [
    {
     "data": {
      "text/html": [
       "        <script type=\"text/javascript\">\n",
       "        window.PlotlyConfig = {MathJaxConfig: 'local'};\n",
       "        if (window.MathJax && window.MathJax.Hub && window.MathJax.Hub.Config) {window.MathJax.Hub.Config({SVG: {font: \"STIX-Web\"}});}\n",
       "        if (typeof require !== 'undefined') {\n",
       "        require.undef(\"plotly\");\n",
       "        requirejs.config({\n",
       "            paths: {\n",
       "                'plotly': ['https://cdn.plot.ly/plotly-2.35.2.min']\n",
       "            }\n",
       "        });\n",
       "        require(['plotly'], function(Plotly) {\n",
       "            window._Plotly = Plotly;\n",
       "        });\n",
       "        }\n",
       "        </script>\n",
       "        "
      ]
     },
     "metadata": {},
     "output_type": "display_data"
    },
    {
     "data": {
      "application/vnd.plotly.v1+json": {
       "config": {
        "plotlyServerURL": "https://plot.ly"
       },
       "data": [
        {
         "alignmentgroup": "True",
         "hovertemplate": "NYC Borough=%{x}<br>Total Chargers=%{text}<extra></extra>",
         "legendgroup": "",
         "marker": {
          "color": "#636efa",
          "pattern": {
           "shape": ""
          }
         },
         "name": "",
         "offsetgroup": "",
         "orientation": "v",
         "showlegend": false,
         "text": [
          179,
          292,
          301,
          447,
          123,
          57
         ],
         "textposition": "auto",
         "type": "bar",
         "x": [
          "Bronx",
          "Brooklyn",
          "Manhattan",
          "Queens",
          "Staten Island",
          "Upstate"
         ],
         "xaxis": "x",
         "y": [
          179,
          292,
          301,
          447,
          123,
          57
         ],
         "yaxis": "y"
        }
       ],
       "layout": {
        "barmode": "relative",
        "legend": {
         "tracegroupgap": 0
        },
        "template": {
         "data": {
          "bar": [
           {
            "error_x": {
             "color": "#2a3f5f"
            },
            "error_y": {
             "color": "#2a3f5f"
            },
            "marker": {
             "line": {
              "color": "#E5ECF6",
              "width": 0.5
             },
             "pattern": {
              "fillmode": "overlay",
              "size": 10,
              "solidity": 0.2
             }
            },
            "type": "bar"
           }
          ],
          "barpolar": [
           {
            "marker": {
             "line": {
              "color": "#E5ECF6",
              "width": 0.5
             },
             "pattern": {
              "fillmode": "overlay",
              "size": 10,
              "solidity": 0.2
             }
            },
            "type": "barpolar"
           }
          ],
          "carpet": [
           {
            "aaxis": {
             "endlinecolor": "#2a3f5f",
             "gridcolor": "white",
             "linecolor": "white",
             "minorgridcolor": "white",
             "startlinecolor": "#2a3f5f"
            },
            "baxis": {
             "endlinecolor": "#2a3f5f",
             "gridcolor": "white",
             "linecolor": "white",
             "minorgridcolor": "white",
             "startlinecolor": "#2a3f5f"
            },
            "type": "carpet"
           }
          ],
          "choropleth": [
           {
            "colorbar": {
             "outlinewidth": 0,
             "ticks": ""
            },
            "type": "choropleth"
           }
          ],
          "contour": [
           {
            "colorbar": {
             "outlinewidth": 0,
             "ticks": ""
            },
            "colorscale": [
             [
              0,
              "#0d0887"
             ],
             [
              0.1111111111111111,
              "#46039f"
             ],
             [
              0.2222222222222222,
              "#7201a8"
             ],
             [
              0.3333333333333333,
              "#9c179e"
             ],
             [
              0.4444444444444444,
              "#bd3786"
             ],
             [
              0.5555555555555556,
              "#d8576b"
             ],
             [
              0.6666666666666666,
              "#ed7953"
             ],
             [
              0.7777777777777778,
              "#fb9f3a"
             ],
             [
              0.8888888888888888,
              "#fdca26"
             ],
             [
              1,
              "#f0f921"
             ]
            ],
            "type": "contour"
           }
          ],
          "contourcarpet": [
           {
            "colorbar": {
             "outlinewidth": 0,
             "ticks": ""
            },
            "type": "contourcarpet"
           }
          ],
          "heatmap": [
           {
            "colorbar": {
             "outlinewidth": 0,
             "ticks": ""
            },
            "colorscale": [
             [
              0,
              "#0d0887"
             ],
             [
              0.1111111111111111,
              "#46039f"
             ],
             [
              0.2222222222222222,
              "#7201a8"
             ],
             [
              0.3333333333333333,
              "#9c179e"
             ],
             [
              0.4444444444444444,
              "#bd3786"
             ],
             [
              0.5555555555555556,
              "#d8576b"
             ],
             [
              0.6666666666666666,
              "#ed7953"
             ],
             [
              0.7777777777777778,
              "#fb9f3a"
             ],
             [
              0.8888888888888888,
              "#fdca26"
             ],
             [
              1,
              "#f0f921"
             ]
            ],
            "type": "heatmap"
           }
          ],
          "heatmapgl": [
           {
            "colorbar": {
             "outlinewidth": 0,
             "ticks": ""
            },
            "colorscale": [
             [
              0,
              "#0d0887"
             ],
             [
              0.1111111111111111,
              "#46039f"
             ],
             [
              0.2222222222222222,
              "#7201a8"
             ],
             [
              0.3333333333333333,
              "#9c179e"
             ],
             [
              0.4444444444444444,
              "#bd3786"
             ],
             [
              0.5555555555555556,
              "#d8576b"
             ],
             [
              0.6666666666666666,
              "#ed7953"
             ],
             [
              0.7777777777777778,
              "#fb9f3a"
             ],
             [
              0.8888888888888888,
              "#fdca26"
             ],
             [
              1,
              "#f0f921"
             ]
            ],
            "type": "heatmapgl"
           }
          ],
          "histogram": [
           {
            "marker": {
             "pattern": {
              "fillmode": "overlay",
              "size": 10,
              "solidity": 0.2
             }
            },
            "type": "histogram"
           }
          ],
          "histogram2d": [
           {
            "colorbar": {
             "outlinewidth": 0,
             "ticks": ""
            },
            "colorscale": [
             [
              0,
              "#0d0887"
             ],
             [
              0.1111111111111111,
              "#46039f"
             ],
             [
              0.2222222222222222,
              "#7201a8"
             ],
             [
              0.3333333333333333,
              "#9c179e"
             ],
             [
              0.4444444444444444,
              "#bd3786"
             ],
             [
              0.5555555555555556,
              "#d8576b"
             ],
             [
              0.6666666666666666,
              "#ed7953"
             ],
             [
              0.7777777777777778,
              "#fb9f3a"
             ],
             [
              0.8888888888888888,
              "#fdca26"
             ],
             [
              1,
              "#f0f921"
             ]
            ],
            "type": "histogram2d"
           }
          ],
          "histogram2dcontour": [
           {
            "colorbar": {
             "outlinewidth": 0,
             "ticks": ""
            },
            "colorscale": [
             [
              0,
              "#0d0887"
             ],
             [
              0.1111111111111111,
              "#46039f"
             ],
             [
              0.2222222222222222,
              "#7201a8"
             ],
             [
              0.3333333333333333,
              "#9c179e"
             ],
             [
              0.4444444444444444,
              "#bd3786"
             ],
             [
              0.5555555555555556,
              "#d8576b"
             ],
             [
              0.6666666666666666,
              "#ed7953"
             ],
             [
              0.7777777777777778,
              "#fb9f3a"
             ],
             [
              0.8888888888888888,
              "#fdca26"
             ],
             [
              1,
              "#f0f921"
             ]
            ],
            "type": "histogram2dcontour"
           }
          ],
          "mesh3d": [
           {
            "colorbar": {
             "outlinewidth": 0,
             "ticks": ""
            },
            "type": "mesh3d"
           }
          ],
          "parcoords": [
           {
            "line": {
             "colorbar": {
              "outlinewidth": 0,
              "ticks": ""
             }
            },
            "type": "parcoords"
           }
          ],
          "pie": [
           {
            "automargin": true,
            "type": "pie"
           }
          ],
          "scatter": [
           {
            "fillpattern": {
             "fillmode": "overlay",
             "size": 10,
             "solidity": 0.2
            },
            "type": "scatter"
           }
          ],
          "scatter3d": [
           {
            "line": {
             "colorbar": {
              "outlinewidth": 0,
              "ticks": ""
             }
            },
            "marker": {
             "colorbar": {
              "outlinewidth": 0,
              "ticks": ""
             }
            },
            "type": "scatter3d"
           }
          ],
          "scattercarpet": [
           {
            "marker": {
             "colorbar": {
              "outlinewidth": 0,
              "ticks": ""
             }
            },
            "type": "scattercarpet"
           }
          ],
          "scattergeo": [
           {
            "marker": {
             "colorbar": {
              "outlinewidth": 0,
              "ticks": ""
             }
            },
            "type": "scattergeo"
           }
          ],
          "scattergl": [
           {
            "marker": {
             "colorbar": {
              "outlinewidth": 0,
              "ticks": ""
             }
            },
            "type": "scattergl"
           }
          ],
          "scattermapbox": [
           {
            "marker": {
             "colorbar": {
              "outlinewidth": 0,
              "ticks": ""
             }
            },
            "type": "scattermapbox"
           }
          ],
          "scatterpolar": [
           {
            "marker": {
             "colorbar": {
              "outlinewidth": 0,
              "ticks": ""
             }
            },
            "type": "scatterpolar"
           }
          ],
          "scatterpolargl": [
           {
            "marker": {
             "colorbar": {
              "outlinewidth": 0,
              "ticks": ""
             }
            },
            "type": "scatterpolargl"
           }
          ],
          "scatterternary": [
           {
            "marker": {
             "colorbar": {
              "outlinewidth": 0,
              "ticks": ""
             }
            },
            "type": "scatterternary"
           }
          ],
          "surface": [
           {
            "colorbar": {
             "outlinewidth": 0,
             "ticks": ""
            },
            "colorscale": [
             [
              0,
              "#0d0887"
             ],
             [
              0.1111111111111111,
              "#46039f"
             ],
             [
              0.2222222222222222,
              "#7201a8"
             ],
             [
              0.3333333333333333,
              "#9c179e"
             ],
             [
              0.4444444444444444,
              "#bd3786"
             ],
             [
              0.5555555555555556,
              "#d8576b"
             ],
             [
              0.6666666666666666,
              "#ed7953"
             ],
             [
              0.7777777777777778,
              "#fb9f3a"
             ],
             [
              0.8888888888888888,
              "#fdca26"
             ],
             [
              1,
              "#f0f921"
             ]
            ],
            "type": "surface"
           }
          ],
          "table": [
           {
            "cells": {
             "fill": {
              "color": "#EBF0F8"
             },
             "line": {
              "color": "white"
             }
            },
            "header": {
             "fill": {
              "color": "#C8D4E3"
             },
             "line": {
              "color": "white"
             }
            },
            "type": "table"
           }
          ]
         },
         "layout": {
          "annotationdefaults": {
           "arrowcolor": "#2a3f5f",
           "arrowhead": 0,
           "arrowwidth": 1
          },
          "autotypenumbers": "strict",
          "coloraxis": {
           "colorbar": {
            "outlinewidth": 0,
            "ticks": ""
           }
          },
          "colorscale": {
           "diverging": [
            [
             0,
             "#8e0152"
            ],
            [
             0.1,
             "#c51b7d"
            ],
            [
             0.2,
             "#de77ae"
            ],
            [
             0.3,
             "#f1b6da"
            ],
            [
             0.4,
             "#fde0ef"
            ],
            [
             0.5,
             "#f7f7f7"
            ],
            [
             0.6,
             "#e6f5d0"
            ],
            [
             0.7,
             "#b8e186"
            ],
            [
             0.8,
             "#7fbc41"
            ],
            [
             0.9,
             "#4d9221"
            ],
            [
             1,
             "#276419"
            ]
           ],
           "sequential": [
            [
             0,
             "#0d0887"
            ],
            [
             0.1111111111111111,
             "#46039f"
            ],
            [
             0.2222222222222222,
             "#7201a8"
            ],
            [
             0.3333333333333333,
             "#9c179e"
            ],
            [
             0.4444444444444444,
             "#bd3786"
            ],
            [
             0.5555555555555556,
             "#d8576b"
            ],
            [
             0.6666666666666666,
             "#ed7953"
            ],
            [
             0.7777777777777778,
             "#fb9f3a"
            ],
            [
             0.8888888888888888,
             "#fdca26"
            ],
            [
             1,
             "#f0f921"
            ]
           ],
           "sequentialminus": [
            [
             0,
             "#0d0887"
            ],
            [
             0.1111111111111111,
             "#46039f"
            ],
            [
             0.2222222222222222,
             "#7201a8"
            ],
            [
             0.3333333333333333,
             "#9c179e"
            ],
            [
             0.4444444444444444,
             "#bd3786"
            ],
            [
             0.5555555555555556,
             "#d8576b"
            ],
            [
             0.6666666666666666,
             "#ed7953"
            ],
            [
             0.7777777777777778,
             "#fb9f3a"
            ],
            [
             0.8888888888888888,
             "#fdca26"
            ],
            [
             1,
             "#f0f921"
            ]
           ]
          },
          "colorway": [
           "#636efa",
           "#EF553B",
           "#00cc96",
           "#ab63fa",
           "#FFA15A",
           "#19d3f3",
           "#FF6692",
           "#B6E880",
           "#FF97FF",
           "#FECB52"
          ],
          "font": {
           "color": "#2a3f5f"
          },
          "geo": {
           "bgcolor": "white",
           "lakecolor": "white",
           "landcolor": "#E5ECF6",
           "showlakes": true,
           "showland": true,
           "subunitcolor": "white"
          },
          "hoverlabel": {
           "align": "left"
          },
          "hovermode": "closest",
          "mapbox": {
           "style": "light"
          },
          "paper_bgcolor": "white",
          "plot_bgcolor": "#E5ECF6",
          "polar": {
           "angularaxis": {
            "gridcolor": "white",
            "linecolor": "white",
            "ticks": ""
           },
           "bgcolor": "#E5ECF6",
           "radialaxis": {
            "gridcolor": "white",
            "linecolor": "white",
            "ticks": ""
           }
          },
          "scene": {
           "xaxis": {
            "backgroundcolor": "#E5ECF6",
            "gridcolor": "white",
            "gridwidth": 2,
            "linecolor": "white",
            "showbackground": true,
            "ticks": "",
            "zerolinecolor": "white"
           },
           "yaxis": {
            "backgroundcolor": "#E5ECF6",
            "gridcolor": "white",
            "gridwidth": 2,
            "linecolor": "white",
            "showbackground": true,
            "ticks": "",
            "zerolinecolor": "white"
           },
           "zaxis": {
            "backgroundcolor": "#E5ECF6",
            "gridcolor": "white",
            "gridwidth": 2,
            "linecolor": "white",
            "showbackground": true,
            "ticks": "",
            "zerolinecolor": "white"
           }
          },
          "shapedefaults": {
           "line": {
            "color": "#2a3f5f"
           }
          },
          "ternary": {
           "aaxis": {
            "gridcolor": "white",
            "linecolor": "white",
            "ticks": ""
           },
           "baxis": {
            "gridcolor": "white",
            "linecolor": "white",
            "ticks": ""
           },
           "bgcolor": "#E5ECF6",
           "caxis": {
            "gridcolor": "white",
            "linecolor": "white",
            "ticks": ""
           }
          },
          "title": {
           "x": 0.05
          },
          "xaxis": {
           "automargin": true,
           "gridcolor": "white",
           "linecolor": "white",
           "ticks": "",
           "title": {
            "standoff": 15
           },
           "zerolinecolor": "white",
           "zerolinewidth": 2
          },
          "yaxis": {
           "automargin": true,
           "gridcolor": "white",
           "linecolor": "white",
           "ticks": "",
           "title": {
            "standoff": 15
           },
           "zerolinecolor": "white",
           "zerolinewidth": 2
          }
         }
        },
        "title": {
         "text": "Total Number of EV Chargers Across Boroughs"
        },
        "uniformtext": {
         "minsize": 10,
         "mode": "hide"
        },
        "xaxis": {
         "anchor": "y",
         "domain": [
          0,
          1
         ],
         "title": {
          "text": "Borough"
         }
        },
        "yaxis": {
         "anchor": "x",
         "domain": [
          0,
          1
         ],
         "title": {
          "text": "Total Number of Chargers"
         }
        }
       }
      },
      "image/png": "[encoded data removed]",
      "text/html": [
       "<div>                            <div id=\"6561f62a-6c95-4e28-b236-960df603117a\" class=\"plotly-graph-div\" style=\"height:525px; width:100%;\"></div>            <script type=\"text/javascript\">                require([\"plotly\"], function(Plotly) {                    window.PLOTLYENV=window.PLOTLYENV || {};                                    if (document.getElementById(\"6561f62a-6c95-4e28-b236-960df603117a\")) {                    Plotly.newPlot(                        \"6561f62a-6c95-4e28-b236-960df603117a\",                        [{\"alignmentgroup\":\"True\",\"hovertemplate\":\"NYC Borough=%{x}\\u003cbr\\u003eTotal Chargers=%{text}\\u003cextra\\u003e\\u003c\\u002fextra\\u003e\",\"legendgroup\":\"\",\"marker\":{\"color\":\"#636efa\",\"pattern\":{\"shape\":\"\"}},\"name\":\"\",\"offsetgroup\":\"\",\"orientation\":\"v\",\"showlegend\":false,\"text\":[179.0,292.0,301.0,447.0,123.0,57.0],\"textposition\":\"auto\",\"x\":[\"Bronx\",\"Brooklyn\",\"Manhattan\",\"Queens\",\"Staten Island\",\"Upstate\"],\"xaxis\":\"x\",\"y\":[179,292,301,447,123,57],\"yaxis\":\"y\",\"type\":\"bar\"}],                        {\"template\":{\"data\":{\"histogram2dcontour\":[{\"type\":\"histogram2dcontour\",\"colorbar\":{\"outlinewidth\":0,\"ticks\":\"\"},\"colorscale\":[[0.0,\"#0d0887\"],[0.1111111111111111,\"#46039f\"],[0.2222222222222222,\"#7201a8\"],[0.3333333333333333,\"#9c179e\"],[0.4444444444444444,\"#bd3786\"],[0.5555555555555556,\"#d8576b\"],[0.6666666666666666,\"#ed7953\"],[0.7777777777777778,\"#fb9f3a\"],[0.8888888888888888,\"#fdca26\"],[1.0,\"#f0f921\"]]}],\"choropleth\":[{\"type\":\"choropleth\",\"colorbar\":{\"outlinewidth\":0,\"ticks\":\"\"}}],\"histogram2d\":[{\"type\":\"histogram2d\",\"colorbar\":{\"outlinewidth\":0,\"ticks\":\"\"},\"colorscale\":[[0.0,\"#0d0887\"],[0.1111111111111111,\"#46039f\"],[0.2222222222222222,\"#7201a8\"],[0.3333333333333333,\"#9c179e\"],[0.4444444444444444,\"#bd3786\"],[0.5555555555555556,\"#d8576b\"],[0.6666666666666666,\"#ed7953\"],[0.7777777777777778,\"#fb9f3a\"],[0.8888888888888888,\"#fdca26\"],[1.0,\"#f0f921\"]]}],\"heatmap\":[{\"type\":\"heatmap\",\"colorbar\":{\"outlinewidth\":0,\"ticks\":\"\"},\"colorscale\":[[0.0,\"#0d0887\"],[0.1111111111111111,\"#46039f\"],[0.2222222222222222,\"#7201a8\"],[0.3333333333333333,\"#9c179e\"],[0.4444444444444444,\"#bd3786\"],[0.5555555555555556,\"#d8576b\"],[0.6666666666666666,\"#ed7953\"],[0.7777777777777778,\"#fb9f3a\"],[0.8888888888888888,\"#fdca26\"],[1.0,\"#f0f921\"]]}],\"heatmapgl\":[{\"type\":\"heatmapgl\",\"colorbar\":{\"outlinewidth\":0,\"ticks\":\"\"},\"colorscale\":[[0.0,\"#0d0887\"],[0.1111111111111111,\"#46039f\"],[0.2222222222222222,\"#7201a8\"],[0.3333333333333333,\"#9c179e\"],[0.4444444444444444,\"#bd3786\"],[0.5555555555555556,\"#d8576b\"],[0.6666666666666666,\"#ed7953\"],[0.7777777777777778,\"#fb9f3a\"],[0.8888888888888888,\"#fdca26\"],[1.0,\"#f0f921\"]]}],\"contourcarpet\":[{\"type\":\"contourcarpet\",\"colorbar\":{\"outlinewidth\":0,\"ticks\":\"\"}}],\"contour\":[{\"type\":\"contour\",\"colorbar\":{\"outlinewidth\":0,\"ticks\":\"\"},\"colorscale\":[[0.0,\"#0d0887\"],[0.1111111111111111,\"#46039f\"],[0.2222222222222222,\"#7201a8\"],[0.3333333333333333,\"#9c179e\"],[0.4444444444444444,\"#bd3786\"],[0.5555555555555556,\"#d8576b\"],[0.6666666666666666,\"#ed7953\"],[0.7777777777777778,\"#fb9f3a\"],[0.8888888888888888,\"#fdca26\"],[1.0,\"#f0f921\"]]}],\"surface\":[{\"type\":\"surface\",\"colorbar\":{\"outlinewidth\":0,\"ticks\":\"\"},\"colorscale\":[[0.0,\"#0d0887\"],[0.1111111111111111,\"#46039f\"],[0.2222222222222222,\"#7201a8\"],[0.3333333333333333,\"#9c179e\"],[0.4444444444444444,\"#bd3786\"],[0.5555555555555556,\"#d8576b\"],[0.6666666666666666,\"#ed7953\"],[0.7777777777777778,\"#fb9f3a\"],[0.8888888888888888,\"#fdca26\"],[1.0,\"#f0f921\"]]}],\"mesh3d\":[{\"type\":\"mesh3d\",\"colorbar\":{\"outlinewidth\":0,\"ticks\":\"\"}}],\"scatter\":[{\"fillpattern\":{\"fillmode\":\"overlay\",\"size\":10,\"solidity\":0.2},\"type\":\"scatter\"}],\"parcoords\":[{\"type\":\"parcoords\",\"line\":{\"colorbar\":{\"outlinewidth\":0,\"ticks\":\"\"}}}],\"scatterpolargl\":[{\"type\":\"scatterpolargl\",\"marker\":{\"colorbar\":{\"outlinewidth\":0,\"ticks\":\"\"}}}],\"bar\":[{\"error_x\":{\"color\":\"#2a3f5f\"},\"error_y\":{\"color\":\"#2a3f5f\"},\"marker\":{\"line\":{\"color\":\"#E5ECF6\",\"width\":0.5},\"pattern\":{\"fillmode\":\"overlay\",\"size\":10,\"solidity\":0.2}},\"type\":\"bar\"}],\"scattergeo\":[{\"type\":\"scattergeo\",\"marker\":{\"colorbar\":{\"outlinewidth\":0,\"ticks\":\"\"}}}],\"scatterpolar\":[{\"type\":\"scatterpolar\",\"marker\":{\"colorbar\":{\"outlinewidth\":0,\"ticks\":\"\"}}}],\"histogram\":[{\"marker\":{\"pattern\":{\"fillmode\":\"overlay\",\"size\":10,\"solidity\":0.2}},\"type\":\"histogram\"}],\"scattergl\":[{\"type\":\"scattergl\",\"marker\":{\"colorbar\":{\"outlinewidth\":0,\"ticks\":\"\"}}}],\"scatter3d\":[{\"type\":\"scatter3d\",\"line\":{\"colorbar\":{\"outlinewidth\":0,\"ticks\":\"\"}},\"marker\":{\"colorbar\":{\"outlinewidth\":0,\"ticks\":\"\"}}}],\"scattermapbox\":[{\"type\":\"scattermapbox\",\"marker\":{\"colorbar\":{\"outlinewidth\":0,\"ticks\":\"\"}}}],\"scatterternary\":[{\"type\":\"scatterternary\",\"marker\":{\"colorbar\":{\"outlinewidth\":0,\"ticks\":\"\"}}}],\"scattercarpet\":[{\"type\":\"scattercarpet\",\"marker\":{\"colorbar\":{\"outlinewidth\":0,\"ticks\":\"\"}}}],\"carpet\":[{\"aaxis\":{\"endlinecolor\":\"#2a3f5f\",\"gridcolor\":\"white\",\"linecolor\":\"white\",\"minorgridcolor\":\"white\",\"startlinecolor\":\"#2a3f5f\"},\"baxis\":{\"endlinecolor\":\"#2a3f5f\",\"gridcolor\":\"white\",\"linecolor\":\"white\",\"minorgridcolor\":\"white\",\"startlinecolor\":\"#2a3f5f\"},\"type\":\"carpet\"}],\"table\":[{\"cells\":{\"fill\":{\"color\":\"#EBF0F8\"},\"line\":{\"color\":\"white\"}},\"header\":{\"fill\":{\"color\":\"#C8D4E3\"},\"line\":{\"color\":\"white\"}},\"type\":\"table\"}],\"barpolar\":[{\"marker\":{\"line\":{\"color\":\"#E5ECF6\",\"width\":0.5},\"pattern\":{\"fillmode\":\"overlay\",\"size\":10,\"solidity\":0.2}},\"type\":\"barpolar\"}],\"pie\":[{\"automargin\":true,\"type\":\"pie\"}]},\"layout\":{\"autotypenumbers\":\"strict\",\"colorway\":[\"#636efa\",\"#EF553B\",\"#00cc96\",\"#ab63fa\",\"#FFA15A\",\"#19d3f3\",\"#FF6692\",\"#B6E880\",\"#FF97FF\",\"#FECB52\"],\"font\":{\"color\":\"#2a3f5f\"},\"hovermode\":\"closest\",\"hoverlabel\":{\"align\":\"left\"},\"paper_bgcolor\":\"white\",\"plot_bgcolor\":\"#E5ECF6\",\"polar\":{\"bgcolor\":\"#E5ECF6\",\"angularaxis\":{\"gridcolor\":\"white\",\"linecolor\":\"white\",\"ticks\":\"\"},\"radialaxis\":{\"gridcolor\":\"white\",\"linecolor\":\"white\",\"ticks\":\"\"}},\"ternary\":{\"bgcolor\":\"#E5ECF6\",\"aaxis\":{\"gridcolor\":\"white\",\"linecolor\":\"white\",\"ticks\":\"\"},\"baxis\":{\"gridcolor\":\"white\",\"linecolor\":\"white\",\"ticks\":\"\"},\"caxis\":{\"gridcolor\":\"white\",\"linecolor\":\"white\",\"ticks\":\"\"}},\"coloraxis\":{\"colorbar\":{\"outlinewidth\":0,\"ticks\":\"\"}},\"colorscale\":{\"sequential\":[[0.0,\"#0d0887\"],[0.1111111111111111,\"#46039f\"],[0.2222222222222222,\"#7201a8\"],[0.3333333333333333,\"#9c179e\"],[0.4444444444444444,\"#bd3786\"],[0.5555555555555556,\"#d8576b\"],[0.6666666666666666,\"#ed7953\"],[0.7777777777777778,\"#fb9f3a\"],[0.8888888888888888,\"#fdca26\"],[1.0,\"#f0f921\"]],\"sequentialminus\":[[0.0,\"#0d0887\"],[0.1111111111111111,\"#46039f\"],[0.2222222222222222,\"#7201a8\"],[0.3333333333333333,\"#9c179e\"],[0.4444444444444444,\"#bd3786\"],[0.5555555555555556,\"#d8576b\"],[0.6666666666666666,\"#ed7953\"],[0.7777777777777778,\"#fb9f3a\"],[0.8888888888888888,\"#fdca26\"],[1.0,\"#f0f921\"]],\"diverging\":[[0,\"#8e0152\"],[0.1,\"#c51b7d\"],[0.2,\"#de77ae\"],[0.3,\"#f1b6da\"],[0.4,\"#fde0ef\"],[0.5,\"#f7f7f7\"],[0.6,\"#e6f5d0\"],[0.7,\"#b8e186\"],[0.8,\"#7fbc41\"],[0.9,\"#4d9221\"],[1,\"#276419\"]]},\"xaxis\":{\"gridcolor\":\"white\",\"linecolor\":\"white\",\"ticks\":\"\",\"title\":{\"standoff\":15},\"zerolinecolor\":\"white\",\"automargin\":true,\"zerolinewidth\":2},\"yaxis\":{\"gridcolor\":\"white\",\"linecolor\":\"white\",\"ticks\":\"\",\"title\":{\"standoff\":15},\"zerolinecolor\":\"white\",\"automargin\":true,\"zerolinewidth\":2},\"scene\":{\"xaxis\":{\"backgroundcolor\":\"#E5ECF6\",\"gridcolor\":\"white\",\"linecolor\":\"white\",\"showbackground\":true,\"ticks\":\"\",\"zerolinecolor\":\"white\",\"gridwidth\":2},\"yaxis\":{\"backgroundcolor\":\"#E5ECF6\",\"gridcolor\":\"white\",\"linecolor\":\"white\",\"showbackground\":true,\"ticks\":\"\",\"zerolinecolor\":\"white\",\"gridwidth\":2},\"zaxis\":{\"backgroundcolor\":\"#E5ECF6\",\"gridcolor\":\"white\",\"linecolor\":\"white\",\"showbackground\":true,\"ticks\":\"\",\"zerolinecolor\":\"white\",\"gridwidth\":2}},\"shapedefaults\":{\"line\":{\"color\":\"#2a3f5f\"}},\"annotationdefaults\":{\"arrowcolor\":\"#2a3f5f\",\"arrowhead\":0,\"arrowwidth\":1},\"geo\":{\"bgcolor\":\"white\",\"landcolor\":\"#E5ECF6\",\"subunitcolor\":\"white\",\"showland\":true,\"showlakes\":true,\"lakecolor\":\"white\"},\"title\":{\"x\":0.05},\"mapbox\":{\"style\":\"light\"}}},\"xaxis\":{\"anchor\":\"y\",\"domain\":[0.0,1.0],\"title\":{\"text\":\"Borough\"}},\"yaxis\":{\"anchor\":\"x\",\"domain\":[0.0,1.0],\"title\":{\"text\":\"Total Number of Chargers\"}},\"legend\":{\"tracegroupgap\":0},\"title\":{\"text\":\"Total Number of EV Chargers Across Boroughs\"},\"barmode\":\"relative\",\"uniformtext\":{\"minsize\":10,\"mode\":\"hide\"}},                        {\"responsive\": true}                    ).then(function(){\n",
       "                            \n",
       "var gd = document.getElementById('6561f62a-6c95-4e28-b236-960df603117a');\n",
       "var x = new MutationObserver(function (mutations, observer) {{\n",
       "        var display = window.getComputedStyle(gd).display;\n",
       "        if (!display || display === 'none') {{\n",
       "            console.log([gd, 'removed!']);\n",
       "            Plotly.purge(gd);\n",
       "            observer.disconnect();\n",
       "        }}\n",
       "}});\n",
       "\n",
       "// Listen for the removal of the full notebook cells\n",
       "var notebookContainer = gd.closest('#notebook-container');\n",
       "if (notebookContainer) {{\n",
       "    x.observe(notebookContainer, {childList: true});\n",
       "}}\n",
       "\n",
       "// Listen for the clearing of the current output cell\n",
       "var outputEl = gd.closest('.output');\n",
       "if (outputEl) {{\n",
       "    x.observe(outputEl, {childList: true});\n",
       "}}\n",
       "\n",
       "                        })                };                });            </script>        </div>"
      ]
     },
     "metadata": {},
     "output_type": "display_data"
    }
   ],
   "source": [
    "# Create a bar chart displaying the number of chargers in each borough\n",
    "fig_total = px.bar(\n",
    "    total_chargers_by_borough,\n",
    "    x='BOROUGH',\n",
    "    y='TOTAL_CHARGERS',\n",
    "    title='Total Number of EV Chargers Across Boroughs',\n",
    "    labels={'TOTAL_CHARGERS': 'Total Chargers', 'BOROUGH': 'NYC Borough'},\n",
    "    text='TOTAL_CHARGERS'\n",
    ")\n",
    "\n",
    "# Customize the chart layout for better readability\n",
    "fig_total.update_layout(\n",
    "    xaxis_title='Borough',\n",
    "    yaxis_title='Total Number of Chargers',\n",
    "    uniformtext_minsize=10,\n",
    "    uniformtext_mode='hide'\n",
    ")\n",
    "\n",
    "fig_total.show()"
   ]
  },
  {
   "cell_type": "code",
   "execution_count": 10,
   "id": "6a0d8d58-e907-4ead-8ab2-6739a941a34f",
   "metadata": {
    "editable": true,
    "slideshow": {
     "slide_type": ""
    },
    "tags": []
   },
   "outputs": [
    {
     "data": {
      "application/vnd.plotly.v1+json": {
       "config": {
        "plotlyServerURL": "https://plot.ly"
       },
       "data": [
        {
         "alignmentgroup": "True",
         "hovertemplate": "TYPE OF CHARGER=DOT Municipal Level 2 Charger<br>NYC Borough=%{x}<br>Number of Chargers=%{y}<extra></extra>",
         "legendgroup": "DOT Municipal Level 2 Charger",
         "marker": {
          "color": "#636efa",
          "pattern": {
           "shape": ""
          }
         },
         "name": "DOT Municipal Level 2 Charger",
         "offsetgroup": "DOT Municipal Level 2 Charger",
         "orientation": "v",
         "showlegend": true,
         "textposition": "auto",
         "type": "bar",
         "x": [
          "Bronx",
          "Manhattan",
          "Queens",
          "Staten Island"
         ],
         "xaxis": "x",
         "y": [
          1,
          1,
          4,
          1
         ],
         "yaxis": "y"
        },
        {
         "alignmentgroup": "True",
         "hovertemplate": "TYPE OF CHARGER=EV Solar Arc Charger<br>NYC Borough=%{x}<br>Number of Chargers=%{y}<extra></extra>",
         "legendgroup": "EV Solar Arc Charger",
         "marker": {
          "color": "#EF553B",
          "pattern": {
           "shape": ""
          }
         },
         "name": "EV Solar Arc Charger",
         "offsetgroup": "EV Solar Arc Charger",
         "orientation": "v",
         "showlegend": true,
         "textposition": "auto",
         "type": "bar",
         "x": [
          "Bronx",
          "Brooklyn",
          "Manhattan",
          "Queens",
          "Staten Island",
          "Upstate"
         ],
         "xaxis": "x",
         "y": [
          27,
          36,
          21,
          44,
          23,
          3
         ],
         "yaxis": "y"
        },
        {
         "alignmentgroup": "True",
         "hovertemplate": "TYPE OF CHARGER=EV Solar Canopy Charger<br>NYC Borough=%{x}<br>Number of Chargers=%{y}<extra></extra>",
         "legendgroup": "EV Solar Canopy Charger",
         "marker": {
          "color": "#00cc96",
          "pattern": {
           "shape": ""
          }
         },
         "name": "EV Solar Canopy Charger",
         "offsetgroup": "EV Solar Canopy Charger",
         "orientation": "v",
         "showlegend": true,
         "textposition": "auto",
         "type": "bar",
         "x": [
          "Bronx"
         ],
         "xaxis": "x",
         "y": [
          6
         ],
         "yaxis": "y"
        },
        {
         "alignmentgroup": "True",
         "hovertemplate": "TYPE OF CHARGER=L2 DOT Flo Curbside Charger<br>NYC Borough=%{x}<br>Number of Chargers=%{y}<extra></extra>",
         "legendgroup": "L2 DOT Flo Curbside Charger",
         "marker": {
          "color": "#ab63fa",
          "pattern": {
           "shape": ""
          }
         },
         "name": "L2 DOT Flo Curbside Charger",
         "offsetgroup": "L2 DOT Flo Curbside Charger",
         "orientation": "v",
         "showlegend": true,
         "textposition": "auto",
         "type": "bar",
         "x": [
          "Bronx",
          "Brooklyn",
          "Manhattan",
          "Queens",
          "Staten Island"
         ],
         "xaxis": "x",
         "y": [
          4,
          17,
          9,
          8,
          1
         ],
         "yaxis": "y"
        },
        {
         "alignmentgroup": "True",
         "hovertemplate": "TYPE OF CHARGER=Level 2 Charger<br>NYC Borough=%{x}<br>Number of Chargers=%{y}<extra></extra>",
         "legendgroup": "Level 2 Charger",
         "marker": {
          "color": "#FFA15A",
          "pattern": {
           "shape": ""
          }
         },
         "name": "Level 2 Charger",
         "offsetgroup": "Level 2 Charger",
         "orientation": "v",
         "showlegend": true,
         "textposition": "auto",
         "type": "bar",
         "x": [
          "Bronx",
          "Brooklyn",
          "Manhattan",
          "Queens",
          "Staten Island",
          "Upstate"
         ],
         "xaxis": "x",
         "y": [
          118,
          170,
          177,
          300,
          70,
          37
         ],
         "yaxis": "y"
        },
        {
         "alignmentgroup": "True",
         "hovertemplate": "TYPE OF CHARGER=Level 3 Fast Charger<br>NYC Borough=%{x}<br>Number of Chargers=%{y}<extra></extra>",
         "legendgroup": "Level 3 Fast Charger",
         "marker": {
          "color": "#19d3f3",
          "pattern": {
           "shape": ""
          }
         },
         "name": "Level 3 Fast Charger",
         "offsetgroup": "Level 3 Fast Charger",
         "orientation": "v",
         "showlegend": true,
         "textposition": "auto",
         "type": "bar",
         "x": [
          "Bronx",
          "Brooklyn",
          "Manhattan",
          "Queens",
          "Staten Island",
          "Upstate"
         ],
         "xaxis": "x",
         "y": [
          23,
          67,
          92,
          86,
          28,
          17
         ],
         "yaxis": "y"
        },
        {
         "alignmentgroup": "True",
         "hovertemplate": "TYPE OF CHARGER=Level 3 Fast Charger - Boost<br>NYC Borough=%{x}<br>Number of Chargers=%{y}<extra></extra>",
         "legendgroup": "Level 3 Fast Charger - Boost",
         "marker": {
          "color": "#FF6692",
          "pattern": {
           "shape": ""
          }
         },
         "name": "Level 3 Fast Charger - Boost",
         "offsetgroup": "Level 3 Fast Charger - Boost",
         "orientation": "v",
         "showlegend": true,
         "textposition": "auto",
         "type": "bar",
         "x": [
          "Brooklyn",
          "Queens"
         ],
         "xaxis": "x",
         "y": [
          2,
          3
         ],
         "yaxis": "y"
        },
        {
         "alignmentgroup": "True",
         "hovertemplate": "TYPE OF CHARGER=DOT Municipal Level 3 Charger<br>NYC Borough=%{x}<br>Number of Chargers=%{y}<extra></extra>",
         "legendgroup": "DOT Municipal Level 3 Charger",
         "marker": {
          "color": "#B6E880",
          "pattern": {
           "shape": ""
          }
         },
         "name": "DOT Municipal Level 3 Charger",
         "offsetgroup": "DOT Municipal Level 3 Charger",
         "orientation": "v",
         "showlegend": true,
         "textposition": "auto",
         "type": "bar",
         "x": [
          "Manhattan",
          "Queens"
         ],
         "xaxis": "x",
         "y": [
          1,
          2
         ],
         "yaxis": "y"
        }
       ],
       "layout": {
        "barmode": "group",
        "legend": {
         "title": {
          "text": "TYPE OF CHARGER"
         },
         "tracegroupgap": 0
        },
        "template": {
         "data": {
          "bar": [
           {
            "error_x": {
             "color": "#2a3f5f"
            },
            "error_y": {
             "color": "#2a3f5f"
            },
            "marker": {
             "line": {
              "color": "#E5ECF6",
              "width": 0.5
             },
             "pattern": {
              "fillmode": "overlay",
              "size": 10,
              "solidity": 0.2
             }
            },
            "type": "bar"
           }
          ],
          "barpolar": [
           {
            "marker": {
             "line": {
              "color": "#E5ECF6",
              "width": 0.5
             },
             "pattern": {
              "fillmode": "overlay",
              "size": 10,
              "solidity": 0.2
             }
            },
            "type": "barpolar"
           }
          ],
          "carpet": [
           {
            "aaxis": {
             "endlinecolor": "#2a3f5f",
             "gridcolor": "white",
             "linecolor": "white",
             "minorgridcolor": "white",
             "startlinecolor": "#2a3f5f"
            },
            "baxis": {
             "endlinecolor": "#2a3f5f",
             "gridcolor": "white",
             "linecolor": "white",
             "minorgridcolor": "white",
             "startlinecolor": "#2a3f5f"
            },
            "type": "carpet"
           }
          ],
          "choropleth": [
           {
            "colorbar": {
             "outlinewidth": 0,
             "ticks": ""
            },
            "type": "choropleth"
           }
          ],
          "contour": [
           {
            "colorbar": {
             "outlinewidth": 0,
             "ticks": ""
            },
            "colorscale": [
             [
              0,
              "#0d0887"
             ],
             [
              0.1111111111111111,
              "#46039f"
             ],
             [
              0.2222222222222222,
              "#7201a8"
             ],
             [
              0.3333333333333333,
              "#9c179e"
             ],
             [
              0.4444444444444444,
              "#bd3786"
             ],
             [
              0.5555555555555556,
              "#d8576b"
             ],
             [
              0.6666666666666666,
              "#ed7953"
             ],
             [
              0.7777777777777778,
              "#fb9f3a"
             ],
             [
              0.8888888888888888,
              "#fdca26"
             ],
             [
              1,
              "#f0f921"
             ]
            ],
            "type": "contour"
           }
          ],
          "contourcarpet": [
           {
            "colorbar": {
             "outlinewidth": 0,
             "ticks": ""
            },
            "type": "contourcarpet"
           }
          ],
          "heatmap": [
           {
            "colorbar": {
             "outlinewidth": 0,
             "ticks": ""
            },
            "colorscale": [
             [
              0,
              "#0d0887"
             ],
             [
              0.1111111111111111,
              "#46039f"
             ],
             [
              0.2222222222222222,
              "#7201a8"
             ],
             [
              0.3333333333333333,
              "#9c179e"
             ],
             [
              0.4444444444444444,
              "#bd3786"
             ],
             [
              0.5555555555555556,
              "#d8576b"
             ],
             [
              0.6666666666666666,
              "#ed7953"
             ],
             [
              0.7777777777777778,
              "#fb9f3a"
             ],
             [
              0.8888888888888888,
              "#fdca26"
             ],
             [
              1,
              "#f0f921"
             ]
            ],
            "type": "heatmap"
           }
          ],
          "heatmapgl": [
           {
            "colorbar": {
             "outlinewidth": 0,
             "ticks": ""
            },
            "colorscale": [
             [
              0,
              "#0d0887"
             ],
             [
              0.1111111111111111,
              "#46039f"
             ],
             [
              0.2222222222222222,
              "#7201a8"
             ],
             [
              0.3333333333333333,
              "#9c179e"
             ],
             [
              0.4444444444444444,
              "#bd3786"
             ],
             [
              0.5555555555555556,
              "#d8576b"
             ],
             [
              0.6666666666666666,
              "#ed7953"
             ],
             [
              0.7777777777777778,
              "#fb9f3a"
             ],
             [
              0.8888888888888888,
              "#fdca26"
             ],
             [
              1,
              "#f0f921"
             ]
            ],
            "type": "heatmapgl"
           }
          ],
          "histogram": [
           {
            "marker": {
             "pattern": {
              "fillmode": "overlay",
              "size": 10,
              "solidity": 0.2
             }
            },
            "type": "histogram"
           }
          ],
          "histogram2d": [
           {
            "colorbar": {
             "outlinewidth": 0,
             "ticks": ""
            },
            "colorscale": [
             [
              0,
              "#0d0887"
             ],
             [
              0.1111111111111111,
              "#46039f"
             ],
             [
              0.2222222222222222,
              "#7201a8"
             ],
             [
              0.3333333333333333,
              "#9c179e"
             ],
             [
              0.4444444444444444,
              "#bd3786"
             ],
             [
              0.5555555555555556,
              "#d8576b"
             ],
             [
              0.6666666666666666,
              "#ed7953"
             ],
             [
              0.7777777777777778,
              "#fb9f3a"
             ],
             [
              0.8888888888888888,
              "#fdca26"
             ],
             [
              1,
              "#f0f921"
             ]
            ],
            "type": "histogram2d"
           }
          ],
          "histogram2dcontour": [
           {
            "colorbar": {
             "outlinewidth": 0,
             "ticks": ""
            },
            "colorscale": [
             [
              0,
              "#0d0887"
             ],
             [
              0.1111111111111111,
              "#46039f"
             ],
             [
              0.2222222222222222,
              "#7201a8"
             ],
             [
              0.3333333333333333,
              "#9c179e"
             ],
             [
              0.4444444444444444,
              "#bd3786"
             ],
             [
              0.5555555555555556,
              "#d8576b"
             ],
             [
              0.6666666666666666,
              "#ed7953"
             ],
             [
              0.7777777777777778,
              "#fb9f3a"
             ],
             [
              0.8888888888888888,
              "#fdca26"
             ],
             [
              1,
              "#f0f921"
             ]
            ],
            "type": "histogram2dcontour"
           }
          ],
          "mesh3d": [
           {
            "colorbar": {
             "outlinewidth": 0,
             "ticks": ""
            },
            "type": "mesh3d"
           }
          ],
          "parcoords": [
           {
            "line": {
             "colorbar": {
              "outlinewidth": 0,
              "ticks": ""
             }
            },
            "type": "parcoords"
           }
          ],
          "pie": [
           {
            "automargin": true,
            "type": "pie"
           }
          ],
          "scatter": [
           {
            "fillpattern": {
             "fillmode": "overlay",
             "size": 10,
             "solidity": 0.2
            },
            "type": "scatter"
           }
          ],
          "scatter3d": [
           {
            "line": {
             "colorbar": {
              "outlinewidth": 0,
              "ticks": ""
             }
            },
            "marker": {
             "colorbar": {
              "outlinewidth": 0,
              "ticks": ""
             }
            },
            "type": "scatter3d"
           }
          ],
          "scattercarpet": [
           {
            "marker": {
             "colorbar": {
              "outlinewidth": 0,
              "ticks": ""
             }
            },
            "type": "scattercarpet"
           }
          ],
          "scattergeo": [
           {
            "marker": {
             "colorbar": {
              "outlinewidth": 0,
              "ticks": ""
             }
            },
            "type": "scattergeo"
           }
          ],
          "scattergl": [
           {
            "marker": {
             "colorbar": {
              "outlinewidth": 0,
              "ticks": ""
             }
            },
            "type": "scattergl"
           }
          ],
          "scattermapbox": [
           {
            "marker": {
             "colorbar": {
              "outlinewidth": 0,
              "ticks": ""
             }
            },
            "type": "scattermapbox"
           }
          ],
          "scatterpolar": [
           {
            "marker": {
             "colorbar": {
              "outlinewidth": 0,
              "ticks": ""
             }
            },
            "type": "scatterpolar"
           }
          ],
          "scatterpolargl": [
           {
            "marker": {
             "colorbar": {
              "outlinewidth": 0,
              "ticks": ""
             }
            },
            "type": "scatterpolargl"
           }
          ],
          "scatterternary": [
           {
            "marker": {
             "colorbar": {
              "outlinewidth": 0,
              "ticks": ""
             }
            },
            "type": "scatterternary"
           }
          ],
          "surface": [
           {
            "colorbar": {
             "outlinewidth": 0,
             "ticks": ""
            },
            "colorscale": [
             [
              0,
              "#0d0887"
             ],
             [
              0.1111111111111111,
              "#46039f"
             ],
             [
              0.2222222222222222,
              "#7201a8"
             ],
             [
              0.3333333333333333,
              "#9c179e"
             ],
             [
              0.4444444444444444,
              "#bd3786"
             ],
             [
              0.5555555555555556,
              "#d8576b"
             ],
             [
              0.6666666666666666,
              "#ed7953"
             ],
             [
              0.7777777777777778,
              "#fb9f3a"
             ],
             [
              0.8888888888888888,
              "#fdca26"
             ],
             [
              1,
              "#f0f921"
             ]
            ],
            "type": "surface"
           }
          ],
          "table": [
           {
            "cells": {
             "fill": {
              "color": "#EBF0F8"
             },
             "line": {
              "color": "white"
             }
            },
            "header": {
             "fill": {
              "color": "#C8D4E3"
             },
             "line": {
              "color": "white"
             }
            },
            "type": "table"
           }
          ]
         },
         "layout": {
          "annotationdefaults": {
           "arrowcolor": "#2a3f5f",
           "arrowhead": 0,
           "arrowwidth": 1
          },
          "autotypenumbers": "strict",
          "coloraxis": {
           "colorbar": {
            "outlinewidth": 0,
            "ticks": ""
           }
          },
          "colorscale": {
           "diverging": [
            [
             0,
             "#8e0152"
            ],
            [
             0.1,
             "#c51b7d"
            ],
            [
             0.2,
             "#de77ae"
            ],
            [
             0.3,
             "#f1b6da"
            ],
            [
             0.4,
             "#fde0ef"
            ],
            [
             0.5,
             "#f7f7f7"
            ],
            [
             0.6,
             "#e6f5d0"
            ],
            [
             0.7,
             "#b8e186"
            ],
            [
             0.8,
             "#7fbc41"
            ],
            [
             0.9,
             "#4d9221"
            ],
            [
             1,
             "#276419"
            ]
           ],
           "sequential": [
            [
             0,
             "#0d0887"
            ],
            [
             0.1111111111111111,
             "#46039f"
            ],
            [
             0.2222222222222222,
             "#7201a8"
            ],
            [
             0.3333333333333333,
             "#9c179e"
            ],
            [
             0.4444444444444444,
             "#bd3786"
            ],
            [
             0.5555555555555556,
             "#d8576b"
            ],
            [
             0.6666666666666666,
             "#ed7953"
            ],
            [
             0.7777777777777778,
             "#fb9f3a"
            ],
            [
             0.8888888888888888,
             "#fdca26"
            ],
            [
             1,
             "#f0f921"
            ]
           ],
           "sequentialminus": [
            [
             0,
             "#0d0887"
            ],
            [
             0.1111111111111111,
             "#46039f"
            ],
            [
             0.2222222222222222,
             "#7201a8"
            ],
            [
             0.3333333333333333,
             "#9c179e"
            ],
            [
             0.4444444444444444,
             "#bd3786"
            ],
            [
             0.5555555555555556,
             "#d8576b"
            ],
            [
             0.6666666666666666,
             "#ed7953"
            ],
            [
             0.7777777777777778,
             "#fb9f3a"
            ],
            [
             0.8888888888888888,
             "#fdca26"
            ],
            [
             1,
             "#f0f921"
            ]
           ]
          },
          "colorway": [
           "#636efa",
           "#EF553B",
           "#00cc96",
           "#ab63fa",
           "#FFA15A",
           "#19d3f3",
           "#FF6692",
           "#B6E880",
           "#FF97FF",
           "#FECB52"
          ],
          "font": {
           "color": "#2a3f5f"
          },
          "geo": {
           "bgcolor": "white",
           "lakecolor": "white",
           "landcolor": "#E5ECF6",
           "showlakes": true,
           "showland": true,
           "subunitcolor": "white"
          },
          "hoverlabel": {
           "align": "left"
          },
          "hovermode": "closest",
          "mapbox": {
           "style": "light"
          },
          "paper_bgcolor": "white",
          "plot_bgcolor": "#E5ECF6",
          "polar": {
           "angularaxis": {
            "gridcolor": "white",
            "linecolor": "white",
            "ticks": ""
           },
           "bgcolor": "#E5ECF6",
           "radialaxis": {
            "gridcolor": "white",
            "linecolor": "white",
            "ticks": ""
           }
          },
          "scene": {
           "xaxis": {
            "backgroundcolor": "#E5ECF6",
            "gridcolor": "white",
            "gridwidth": 2,
            "linecolor": "white",
            "showbackground": true,
            "ticks": "",
            "zerolinecolor": "white"
           },
           "yaxis": {
            "backgroundcolor": "#E5ECF6",
            "gridcolor": "white",
            "gridwidth": 2,
            "linecolor": "white",
            "showbackground": true,
            "ticks": "",
            "zerolinecolor": "white"
           },
           "zaxis": {
            "backgroundcolor": "#E5ECF6",
            "gridcolor": "white",
            "gridwidth": 2,
            "linecolor": "white",
            "showbackground": true,
            "ticks": "",
            "zerolinecolor": "white"
           }
          },
          "shapedefaults": {
           "line": {
            "color": "#2a3f5f"
           }
          },
          "ternary": {
           "aaxis": {
            "gridcolor": "white",
            "linecolor": "white",
            "ticks": ""
           },
           "baxis": {
            "gridcolor": "white",
            "linecolor": "white",
            "ticks": ""
           },
           "bgcolor": "#E5ECF6",
           "caxis": {
            "gridcolor": "white",
            "linecolor": "white",
            "ticks": ""
           }
          },
          "title": {
           "x": 0.05
          },
          "xaxis": {
           "automargin": true,
           "gridcolor": "white",
           "linecolor": "white",
           "ticks": "",
           "title": {
            "standoff": 15
           },
           "zerolinecolor": "white",
           "zerolinewidth": 2
          },
          "yaxis": {
           "automargin": true,
           "gridcolor": "white",
           "linecolor": "white",
           "ticks": "",
           "title": {
            "standoff": 15
           },
           "zerolinecolor": "white",
           "zerolinewidth": 2
          }
         }
        },
        "title": {
         "text": "Distribution of EV Chargers (Charging Stations) Across Boroughs - By Charger Type"
        },
        "xaxis": {
         "anchor": "y",
         "domain": [
          0,
          1
         ],
         "title": {
          "text": "Borough"
         }
        },
        "yaxis": {
         "anchor": "x",
         "domain": [
          0,
          1
         ],
         "title": {
          "text": "Number of Chargers"
         }
        }
       }
      },
      "image/png": "[encoded data removed]",
      "text/html": [
       "<div>                            <div id=\"0aa116cc-a55a-4063-91ce-e0a0d6e06ad1\" class=\"plotly-graph-div\" style=\"height:525px; width:100%;\"></div>            <script type=\"text/javascript\">                require([\"plotly\"], function(Plotly) {                    window.PLOTLYENV=window.PLOTLYENV || {};                                    if (document.getElementById(\"0aa116cc-a55a-4063-91ce-e0a0d6e06ad1\")) {                    Plotly.newPlot(                        \"0aa116cc-a55a-4063-91ce-e0a0d6e06ad1\",                        [{\"alignmentgroup\":\"True\",\"hovertemplate\":\"TYPE OF CHARGER=DOT Municipal Level 2 Charger\\u003cbr\\u003eNYC Borough=%{x}\\u003cbr\\u003eNumber of Chargers=%{y}\\u003cextra\\u003e\\u003c\\u002fextra\\u003e\",\"legendgroup\":\"DOT Municipal Level 2 Charger\",\"marker\":{\"color\":\"#636efa\",\"pattern\":{\"shape\":\"\"}},\"name\":\"DOT Municipal Level 2 Charger\",\"offsetgroup\":\"DOT Municipal Level 2 Charger\",\"orientation\":\"v\",\"showlegend\":true,\"textposition\":\"auto\",\"x\":[\"Bronx\",\"Manhattan\",\"Queens\",\"Staten Island\"],\"xaxis\":\"x\",\"y\":[1,1,4,1],\"yaxis\":\"y\",\"type\":\"bar\"},{\"alignmentgroup\":\"True\",\"hovertemplate\":\"TYPE OF CHARGER=EV Solar Arc Charger\\u003cbr\\u003eNYC Borough=%{x}\\u003cbr\\u003eNumber of Chargers=%{y}\\u003cextra\\u003e\\u003c\\u002fextra\\u003e\",\"legendgroup\":\"EV Solar Arc Charger\",\"marker\":{\"color\":\"#EF553B\",\"pattern\":{\"shape\":\"\"}},\"name\":\"EV Solar Arc Charger\",\"offsetgroup\":\"EV Solar Arc Charger\",\"orientation\":\"v\",\"showlegend\":true,\"textposition\":\"auto\",\"x\":[\"Bronx\",\"Brooklyn\",\"Manhattan\",\"Queens\",\"Staten Island\",\"Upstate\"],\"xaxis\":\"x\",\"y\":[27,36,21,44,23,3],\"yaxis\":\"y\",\"type\":\"bar\"},{\"alignmentgroup\":\"True\",\"hovertemplate\":\"TYPE OF CHARGER=EV Solar Canopy Charger\\u003cbr\\u003eNYC Borough=%{x}\\u003cbr\\u003eNumber of Chargers=%{y}\\u003cextra\\u003e\\u003c\\u002fextra\\u003e\",\"legendgroup\":\"EV Solar Canopy Charger\",\"marker\":{\"color\":\"#00cc96\",\"pattern\":{\"shape\":\"\"}},\"name\":\"EV Solar Canopy Charger\",\"offsetgroup\":\"EV Solar Canopy Charger\",\"orientation\":\"v\",\"showlegend\":true,\"textposition\":\"auto\",\"x\":[\"Bronx\"],\"xaxis\":\"x\",\"y\":[6],\"yaxis\":\"y\",\"type\":\"bar\"},{\"alignmentgroup\":\"True\",\"hovertemplate\":\"TYPE OF CHARGER=L2 DOT Flo Curbside Charger\\u003cbr\\u003eNYC Borough=%{x}\\u003cbr\\u003eNumber of Chargers=%{y}\\u003cextra\\u003e\\u003c\\u002fextra\\u003e\",\"legendgroup\":\"L2 DOT Flo Curbside Charger\",\"marker\":{\"color\":\"#ab63fa\",\"pattern\":{\"shape\":\"\"}},\"name\":\"L2 DOT Flo Curbside Charger\",\"offsetgroup\":\"L2 DOT Flo Curbside Charger\",\"orientation\":\"v\",\"showlegend\":true,\"textposition\":\"auto\",\"x\":[\"Bronx\",\"Brooklyn\",\"Manhattan\",\"Queens\",\"Staten Island\"],\"xaxis\":\"x\",\"y\":[4,17,9,8,1],\"yaxis\":\"y\",\"type\":\"bar\"},{\"alignmentgroup\":\"True\",\"hovertemplate\":\"TYPE OF CHARGER=Level 2 Charger\\u003cbr\\u003eNYC Borough=%{x}\\u003cbr\\u003eNumber of Chargers=%{y}\\u003cextra\\u003e\\u003c\\u002fextra\\u003e\",\"legendgroup\":\"Level 2 Charger\",\"marker\":{\"color\":\"#FFA15A\",\"pattern\":{\"shape\":\"\"}},\"name\":\"Level 2 Charger\",\"offsetgroup\":\"Level 2 Charger\",\"orientation\":\"v\",\"showlegend\":true,\"textposition\":\"auto\",\"x\":[\"Bronx\",\"Brooklyn\",\"Manhattan\",\"Queens\",\"Staten Island\",\"Upstate\"],\"xaxis\":\"x\",\"y\":[118,170,177,300,70,37],\"yaxis\":\"y\",\"type\":\"bar\"},{\"alignmentgroup\":\"True\",\"hovertemplate\":\"TYPE OF CHARGER=Level 3 Fast Charger\\u003cbr\\u003eNYC Borough=%{x}\\u003cbr\\u003eNumber of Chargers=%{y}\\u003cextra\\u003e\\u003c\\u002fextra\\u003e\",\"legendgroup\":\"Level 3 Fast Charger\",\"marker\":{\"color\":\"#19d3f3\",\"pattern\":{\"shape\":\"\"}},\"name\":\"Level 3 Fast Charger\",\"offsetgroup\":\"Level 3 Fast Charger\",\"orientation\":\"v\",\"showlegend\":true,\"textposition\":\"auto\",\"x\":[\"Bronx\",\"Brooklyn\",\"Manhattan\",\"Queens\",\"Staten Island\",\"Upstate\"],\"xaxis\":\"x\",\"y\":[23,67,92,86,28,17],\"yaxis\":\"y\",\"type\":\"bar\"},{\"alignmentgroup\":\"True\",\"hovertemplate\":\"TYPE OF CHARGER=Level 3 Fast Charger - Boost\\u003cbr\\u003eNYC Borough=%{x}\\u003cbr\\u003eNumber of Chargers=%{y}\\u003cextra\\u003e\\u003c\\u002fextra\\u003e\",\"legendgroup\":\"Level 3 Fast Charger - Boost\",\"marker\":{\"color\":\"#FF6692\",\"pattern\":{\"shape\":\"\"}},\"name\":\"Level 3 Fast Charger - Boost\",\"offsetgroup\":\"Level 3 Fast Charger - Boost\",\"orientation\":\"v\",\"showlegend\":true,\"textposition\":\"auto\",\"x\":[\"Brooklyn\",\"Queens\"],\"xaxis\":\"x\",\"y\":[2,3],\"yaxis\":\"y\",\"type\":\"bar\"},{\"alignmentgroup\":\"True\",\"hovertemplate\":\"TYPE OF CHARGER=DOT Municipal Level 3 Charger\\u003cbr\\u003eNYC Borough=%{x}\\u003cbr\\u003eNumber of Chargers=%{y}\\u003cextra\\u003e\\u003c\\u002fextra\\u003e\",\"legendgroup\":\"DOT Municipal Level 3 Charger\",\"marker\":{\"color\":\"#B6E880\",\"pattern\":{\"shape\":\"\"}},\"name\":\"DOT Municipal Level 3 Charger\",\"offsetgroup\":\"DOT Municipal Level 3 Charger\",\"orientation\":\"v\",\"showlegend\":true,\"textposition\":\"auto\",\"x\":[\"Manhattan\",\"Queens\"],\"xaxis\":\"x\",\"y\":[1,2],\"yaxis\":\"y\",\"type\":\"bar\"}],                        {\"template\":{\"data\":{\"histogram2dcontour\":[{\"type\":\"histogram2dcontour\",\"colorbar\":{\"outlinewidth\":0,\"ticks\":\"\"},\"colorscale\":[[0.0,\"#0d0887\"],[0.1111111111111111,\"#46039f\"],[0.2222222222222222,\"#7201a8\"],[0.3333333333333333,\"#9c179e\"],[0.4444444444444444,\"#bd3786\"],[0.5555555555555556,\"#d8576b\"],[0.6666666666666666,\"#ed7953\"],[0.7777777777777778,\"#fb9f3a\"],[0.8888888888888888,\"#fdca26\"],[1.0,\"#f0f921\"]]}],\"choropleth\":[{\"type\":\"choropleth\",\"colorbar\":{\"outlinewidth\":0,\"ticks\":\"\"}}],\"histogram2d\":[{\"type\":\"histogram2d\",\"colorbar\":{\"outlinewidth\":0,\"ticks\":\"\"},\"colorscale\":[[0.0,\"#0d0887\"],[0.1111111111111111,\"#46039f\"],[0.2222222222222222,\"#7201a8\"],[0.3333333333333333,\"#9c179e\"],[0.4444444444444444,\"#bd3786\"],[0.5555555555555556,\"#d8576b\"],[0.6666666666666666,\"#ed7953\"],[0.7777777777777778,\"#fb9f3a\"],[0.8888888888888888,\"#fdca26\"],[1.0,\"#f0f921\"]]}],\"heatmap\":[{\"type\":\"heatmap\",\"colorbar\":{\"outlinewidth\":0,\"ticks\":\"\"},\"colorscale\":[[0.0,\"#0d0887\"],[0.1111111111111111,\"#46039f\"],[0.2222222222222222,\"#7201a8\"],[0.3333333333333333,\"#9c179e\"],[0.4444444444444444,\"#bd3786\"],[0.5555555555555556,\"#d8576b\"],[0.6666666666666666,\"#ed7953\"],[0.7777777777777778,\"#fb9f3a\"],[0.8888888888888888,\"#fdca26\"],[1.0,\"#f0f921\"]]}],\"heatmapgl\":[{\"type\":\"heatmapgl\",\"colorbar\":{\"outlinewidth\":0,\"ticks\":\"\"},\"colorscale\":[[0.0,\"#0d0887\"],[0.1111111111111111,\"#46039f\"],[0.2222222222222222,\"#7201a8\"],[0.3333333333333333,\"#9c179e\"],[0.4444444444444444,\"#bd3786\"],[0.5555555555555556,\"#d8576b\"],[0.6666666666666666,\"#ed7953\"],[0.7777777777777778,\"#fb9f3a\"],[0.8888888888888888,\"#fdca26\"],[1.0,\"#f0f921\"]]}],\"contourcarpet\":[{\"type\":\"contourcarpet\",\"colorbar\":{\"outlinewidth\":0,\"ticks\":\"\"}}],\"contour\":[{\"type\":\"contour\",\"colorbar\":{\"outlinewidth\":0,\"ticks\":\"\"},\"colorscale\":[[0.0,\"#0d0887\"],[0.1111111111111111,\"#46039f\"],[0.2222222222222222,\"#7201a8\"],[0.3333333333333333,\"#9c179e\"],[0.4444444444444444,\"#bd3786\"],[0.5555555555555556,\"#d8576b\"],[0.6666666666666666,\"#ed7953\"],[0.7777777777777778,\"#fb9f3a\"],[0.8888888888888888,\"#fdca26\"],[1.0,\"#f0f921\"]]}],\"surface\":[{\"type\":\"surface\",\"colorbar\":{\"outlinewidth\":0,\"ticks\":\"\"},\"colorscale\":[[0.0,\"#0d0887\"],[0.1111111111111111,\"#46039f\"],[0.2222222222222222,\"#7201a8\"],[0.3333333333333333,\"#9c179e\"],[0.4444444444444444,\"#bd3786\"],[0.5555555555555556,\"#d8576b\"],[0.6666666666666666,\"#ed7953\"],[0.7777777777777778,\"#fb9f3a\"],[0.8888888888888888,\"#fdca26\"],[1.0,\"#f0f921\"]]}],\"mesh3d\":[{\"type\":\"mesh3d\",\"colorbar\":{\"outlinewidth\":0,\"ticks\":\"\"}}],\"scatter\":[{\"fillpattern\":{\"fillmode\":\"overlay\",\"size\":10,\"solidity\":0.2},\"type\":\"scatter\"}],\"parcoords\":[{\"type\":\"parcoords\",\"line\":{\"colorbar\":{\"outlinewidth\":0,\"ticks\":\"\"}}}],\"scatterpolargl\":[{\"type\":\"scatterpolargl\",\"marker\":{\"colorbar\":{\"outlinewidth\":0,\"ticks\":\"\"}}}],\"bar\":[{\"error_x\":{\"color\":\"#2a3f5f\"},\"error_y\":{\"color\":\"#2a3f5f\"},\"marker\":{\"line\":{\"color\":\"#E5ECF6\",\"width\":0.5},\"pattern\":{\"fillmode\":\"overlay\",\"size\":10,\"solidity\":0.2}},\"type\":\"bar\"}],\"scattergeo\":[{\"type\":\"scattergeo\",\"marker\":{\"colorbar\":{\"outlinewidth\":0,\"ticks\":\"\"}}}],\"scatterpolar\":[{\"type\":\"scatterpolar\",\"marker\":{\"colorbar\":{\"outlinewidth\":0,\"ticks\":\"\"}}}],\"histogram\":[{\"marker\":{\"pattern\":{\"fillmode\":\"overlay\",\"size\":10,\"solidity\":0.2}},\"type\":\"histogram\"}],\"scattergl\":[{\"type\":\"scattergl\",\"marker\":{\"colorbar\":{\"outlinewidth\":0,\"ticks\":\"\"}}}],\"scatter3d\":[{\"type\":\"scatter3d\",\"line\":{\"colorbar\":{\"outlinewidth\":0,\"ticks\":\"\"}},\"marker\":{\"colorbar\":{\"outlinewidth\":0,\"ticks\":\"\"}}}],\"scattermapbox\":[{\"type\":\"scattermapbox\",\"marker\":{\"colorbar\":{\"outlinewidth\":0,\"ticks\":\"\"}}}],\"scatterternary\":[{\"type\":\"scatterternary\",\"marker\":{\"colorbar\":{\"outlinewidth\":0,\"ticks\":\"\"}}}],\"scattercarpet\":[{\"type\":\"scattercarpet\",\"marker\":{\"colorbar\":{\"outlinewidth\":0,\"ticks\":\"\"}}}],\"carpet\":[{\"aaxis\":{\"endlinecolor\":\"#2a3f5f\",\"gridcolor\":\"white\",\"linecolor\":\"white\",\"minorgridcolor\":\"white\",\"startlinecolor\":\"#2a3f5f\"},\"baxis\":{\"endlinecolor\":\"#2a3f5f\",\"gridcolor\":\"white\",\"linecolor\":\"white\",\"minorgridcolor\":\"white\",\"startlinecolor\":\"#2a3f5f\"},\"type\":\"carpet\"}],\"table\":[{\"cells\":{\"fill\":{\"color\":\"#EBF0F8\"},\"line\":{\"color\":\"white\"}},\"header\":{\"fill\":{\"color\":\"#C8D4E3\"},\"line\":{\"color\":\"white\"}},\"type\":\"table\"}],\"barpolar\":[{\"marker\":{\"line\":{\"color\":\"#E5ECF6\",\"width\":0.5},\"pattern\":{\"fillmode\":\"overlay\",\"size\":10,\"solidity\":0.2}},\"type\":\"barpolar\"}],\"pie\":[{\"automargin\":true,\"type\":\"pie\"}]},\"layout\":{\"autotypenumbers\":\"strict\",\"colorway\":[\"#636efa\",\"#EF553B\",\"#00cc96\",\"#ab63fa\",\"#FFA15A\",\"#19d3f3\",\"#FF6692\",\"#B6E880\",\"#FF97FF\",\"#FECB52\"],\"font\":{\"color\":\"#2a3f5f\"},\"hovermode\":\"closest\",\"hoverlabel\":{\"align\":\"left\"},\"paper_bgcolor\":\"white\",\"plot_bgcolor\":\"#E5ECF6\",\"polar\":{\"bgcolor\":\"#E5ECF6\",\"angularaxis\":{\"gridcolor\":\"white\",\"linecolor\":\"white\",\"ticks\":\"\"},\"radialaxis\":{\"gridcolor\":\"white\",\"linecolor\":\"white\",\"ticks\":\"\"}},\"ternary\":{\"bgcolor\":\"#E5ECF6\",\"aaxis\":{\"gridcolor\":\"white\",\"linecolor\":\"white\",\"ticks\":\"\"},\"baxis\":{\"gridcolor\":\"white\",\"linecolor\":\"white\",\"ticks\":\"\"},\"caxis\":{\"gridcolor\":\"white\",\"linecolor\":\"white\",\"ticks\":\"\"}},\"coloraxis\":{\"colorbar\":{\"outlinewidth\":0,\"ticks\":\"\"}},\"colorscale\":{\"sequential\":[[0.0,\"#0d0887\"],[0.1111111111111111,\"#46039f\"],[0.2222222222222222,\"#7201a8\"],[0.3333333333333333,\"#9c179e\"],[0.4444444444444444,\"#bd3786\"],[0.5555555555555556,\"#d8576b\"],[0.6666666666666666,\"#ed7953\"],[0.7777777777777778,\"#fb9f3a\"],[0.8888888888888888,\"#fdca26\"],[1.0,\"#f0f921\"]],\"sequentialminus\":[[0.0,\"#0d0887\"],[0.1111111111111111,\"#46039f\"],[0.2222222222222222,\"#7201a8\"],[0.3333333333333333,\"#9c179e\"],[0.4444444444444444,\"#bd3786\"],[0.5555555555555556,\"#d8576b\"],[0.6666666666666666,\"#ed7953\"],[0.7777777777777778,\"#fb9f3a\"],[0.8888888888888888,\"#fdca26\"],[1.0,\"#f0f921\"]],\"diverging\":[[0,\"#8e0152\"],[0.1,\"#c51b7d\"],[0.2,\"#de77ae\"],[0.3,\"#f1b6da\"],[0.4,\"#fde0ef\"],[0.5,\"#f7f7f7\"],[0.6,\"#e6f5d0\"],[0.7,\"#b8e186\"],[0.8,\"#7fbc41\"],[0.9,\"#4d9221\"],[1,\"#276419\"]]},\"xaxis\":{\"gridcolor\":\"white\",\"linecolor\":\"white\",\"ticks\":\"\",\"title\":{\"standoff\":15},\"zerolinecolor\":\"white\",\"automargin\":true,\"zerolinewidth\":2},\"yaxis\":{\"gridcolor\":\"white\",\"linecolor\":\"white\",\"ticks\":\"\",\"title\":{\"standoff\":15},\"zerolinecolor\":\"white\",\"automargin\":true,\"zerolinewidth\":2},\"scene\":{\"xaxis\":{\"backgroundcolor\":\"#E5ECF6\",\"gridcolor\":\"white\",\"linecolor\":\"white\",\"showbackground\":true,\"ticks\":\"\",\"zerolinecolor\":\"white\",\"gridwidth\":2},\"yaxis\":{\"backgroundcolor\":\"#E5ECF6\",\"gridcolor\":\"white\",\"linecolor\":\"white\",\"showbackground\":true,\"ticks\":\"\",\"zerolinecolor\":\"white\",\"gridwidth\":2},\"zaxis\":{\"backgroundcolor\":\"#E5ECF6\",\"gridcolor\":\"white\",\"linecolor\":\"white\",\"showbackground\":true,\"ticks\":\"\",\"zerolinecolor\":\"white\",\"gridwidth\":2}},\"shapedefaults\":{\"line\":{\"color\":\"#2a3f5f\"}},\"annotationdefaults\":{\"arrowcolor\":\"#2a3f5f\",\"arrowhead\":0,\"arrowwidth\":1},\"geo\":{\"bgcolor\":\"white\",\"landcolor\":\"#E5ECF6\",\"subunitcolor\":\"white\",\"showland\":true,\"showlakes\":true,\"lakecolor\":\"white\"},\"title\":{\"x\":0.05},\"mapbox\":{\"style\":\"light\"}}},\"xaxis\":{\"anchor\":\"y\",\"domain\":[0.0,1.0],\"title\":{\"text\":\"Borough\"}},\"yaxis\":{\"anchor\":\"x\",\"domain\":[0.0,1.0],\"title\":{\"text\":\"Number of Chargers\"}},\"legend\":{\"title\":{\"text\":\"TYPE OF CHARGER\"},\"tracegroupgap\":0},\"title\":{\"text\":\"Distribution of EV Chargers (Charging Stations) Across Boroughs - By Charger Type\"},\"barmode\":\"group\"},                        {\"responsive\": true}                    ).then(function(){\n",
       "                            \n",
       "var gd = document.getElementById('0aa116cc-a55a-4063-91ce-e0a0d6e06ad1');\n",
       "var x = new MutationObserver(function (mutations, observer) {{\n",
       "        var display = window.getComputedStyle(gd).display;\n",
       "        if (!display || display === 'none') {{\n",
       "            console.log([gd, 'removed!']);\n",
       "            Plotly.purge(gd);\n",
       "            observer.disconnect();\n",
       "        }}\n",
       "}});\n",
       "\n",
       "// Listen for the removal of the full notebook cells\n",
       "var notebookContainer = gd.closest('#notebook-container');\n",
       "if (notebookContainer) {{\n",
       "    x.observe(notebookContainer, {childList: true});\n",
       "}}\n",
       "\n",
       "// Listen for the clearing of the current output cell\n",
       "var outputEl = gd.closest('.output');\n",
       "if (outputEl) {{\n",
       "    x.observe(outputEl, {childList: true});\n",
       "}}\n",
       "\n",
       "                        })                };                });            </script>        </div>"
      ]
     },
     "metadata": {},
     "output_type": "display_data"
    }
   ],
   "source": [
    "# Create a bar chart displaying the number of chargers in each borough, categorized by charger type\n",
    "fig = px.bar(\n",
    "    charger_counts,\n",
    "    x='BOROUGH',\n",
    "    y='Count',\n",
    "    color='TYPE OF CHARGER',\n",
    "    title='Distribution of EV Chargers (Charging Stations) Across Boroughs - By Charger Type',\n",
    "    labels={'Count': 'Number of Chargers', 'BOROUGH': 'NYC Borough'},\n",
    "    barmode='group'\n",
    ")\n",
    "\n",
    "# Customize axis labels\n",
    "fig.update_layout(xaxis_title='Borough', yaxis_title='Number of Chargers')\n",
    "\n",
    "fig.show()"
   ]
  },
  {
   "cell_type": "markdown",
   "id": "9c0dd1e2-1690-417d-a5bf-98ce07afbfc2",
   "metadata": {},
   "source": [
    "### Step 5: Data Processing for Geospatial Visualization "
   ]
  },
  {
   "cell_type": "markdown",
   "id": "37b3e41e-5861-409c-bba1-fa0ad664bf62",
   "metadata": {},
   "source": [
    "To see more clearly the exact geographic locations of all charging stations across NYC boroughs and understand better the potential underlying mechanism of allocating the chargers across the city, we are going to create a scatter map that is interactive and can help in identifying density and spatial patterns of the charger distribution in NYC. "
   ]
  },
  {
   "cell_type": "code",
   "execution_count": 11,
   "id": "86371e3b-1595-4c2f-94eb-130ede8a31d5",
   "metadata": {},
   "outputs": [
    {
     "name": "stdout",
     "output_type": "stream",
     "text": [
      "Missing geographic coordinates:\n",
      "         BOROUGH              TYPE OF CHARGER  LATITUDE  LONGITUDE\n",
      "19       Queens         Level 3 Fast Charger       NaN        NaN\n",
      "20       Queens         Level 3 Fast Charger       NaN        NaN\n",
      "21       Queens         Level 3 Fast Charger       NaN        NaN\n",
      "40       Queens              Level 2 Charger       NaN        NaN\n",
      "48     Brooklyn         Level 3 Fast Charger       NaN        NaN\n",
      "...         ...                          ...       ...        ...\n",
      "1395   Brooklyn  L2 DOT Flo Curbside Charger       NaN        NaN\n",
      "1396   Brooklyn  L2 DOT Flo Curbside Charger       NaN        NaN\n",
      "1397  Manhattan  L2 DOT Flo Curbside Charger       NaN        NaN\n",
      "1398  Manhattan  L2 DOT Flo Curbside Charger       NaN        NaN\n",
      "1399  Manhattan  L2 DOT Flo Curbside Charger       NaN        NaN\n",
      "\n",
      "[287 rows x 4 columns]\n"
     ]
    }
   ],
   "source": [
    "# Check for any missing latitude or longitude values\n",
    "missing_geo = ev_charging[ev_charging[['LATITUDE','LONGITUDE']].isnull().any(axis=1)]\n",
    "print(\"Missing geographic coordinates:\\n\", missing_geo)"
   ]
  },
  {
   "cell_type": "code",
   "execution_count": 12,
   "id": "a6eaa4cd-37e3-44c4-9b90-8045e520e2e7",
   "metadata": {},
   "outputs": [],
   "source": [
    "# Drop rows with missing geographic data\n",
    "ev_charging = ev_charging.dropna(subset=['LATITUDE', 'LONGITUDE'])"
   ]
  },
  {
   "cell_type": "code",
   "execution_count": 13,
   "id": "ce24ee30-b8f0-486e-92d6-0124844bcb00",
   "metadata": {},
   "outputs": [],
   "source": [
    "# Verify no geographic data is missing\n",
    "assert ev_charging[['LATITUDE', 'LONGITUDE']].isnull().sum().sum() == 0"
   ]
  },
  {
   "cell_type": "markdown",
   "id": "f8286fd8-6650-4981-9990-a81b395ff26f",
   "metadata": {},
   "source": [
    "### Step 6: Visualizing the Geographic Distribution of Chargers"
   ]
  },
  {
   "cell_type": "code",
   "execution_count": 14,
   "id": "81b1aad2-ba4e-4978-aa3d-1488c5b47e1e",
   "metadata": {},
   "outputs": [
    {
     "data": {
      "application/vnd.plotly.v1+json": {
       "config": {
        "plotlyServerURL": "https://plot.ly"
       },
       "data": [
        {
         "hovertemplate": "<b>%{hovertext}</b><br><br>BOROUGH=Brooklyn<br>LATITUDE=%{lat}<br>LONGITUDE=%{lon}<extra></extra>",
         "hovertext": [
          "Level 3 Fast Charger",
          "Level 3 Fast Charger",
          "Level 2 Charger",
          "Level 3 Fast Charger",
          "Level 2 Charger",
          "Level 2 Charger",
          "Level 2 Charger",
          "Level 2 Charger",
          "Level 3 Fast Charger",
          "Level 3 Fast Charger",
          "Level 2 Charger",
          "Level 2 Charger",
          "Level 2 Charger",
          "Level 2 Charger",
          "Level 2 Charger",
          "Level 2 Charger",
          "Level 2 Charger",
          "Level 2 Charger",
          "Level 3 Fast Charger",
          "Level 3 Fast Charger",
          "Level 3 Fast Charger",
          "Level 3 Fast Charger",
          "Level 3 Fast Charger",
          "Level 3 Fast Charger",
          "Level 3 Fast Charger",
          "Level 3 Fast Charger",
          "Level 3 Fast Charger",
          "Level 2 Charger",
          "Level 2 Charger",
          "Level 3 Fast Charger - Boost",
          "Level 3 Fast Charger - Boost",
          "Level 3 Fast Charger",
          "Level 3 Fast Charger",
          "Level 3 Fast Charger",
          "Level 3 Fast Charger",
          "EV Solar Arc Charger",
          "Level 2 Charger",
          "Level 2 Charger",
          "Level 2 Charger",
          "EV Solar Arc Charger",
          "EV Solar Arc Charger",
          "Level 2 Charger",
          "Level 3 Fast Charger",
          "Level 3 Fast Charger",
          "Level 3 Fast Charger",
          "Level 2 Charger",
          "Level 3 Fast Charger",
          "Level 3 Fast Charger",
          "Level 3 Fast Charger",
          "Level 3 Fast Charger",
          "Level 2 Charger",
          "Level 2 Charger",
          "Level 3 Fast Charger",
          "Level 2 Charger",
          "Level 2 Charger",
          "Level 2 Charger",
          "Level 3 Fast Charger",
          "Level 3 Fast Charger",
          "Level 3 Fast Charger",
          "Level 3 Fast Charger",
          "Level 3 Fast Charger",
          "Level 3 Fast Charger",
          "Level 2 Charger",
          "Level 2 Charger",
          "Level 2 Charger",
          "Level 2 Charger",
          "Level 2 Charger",
          "Level 2 Charger",
          "Level 2 Charger",
          "Level 3 Fast Charger",
          "Level 2 Charger",
          "Level 2 Charger",
          "Level 2 Charger",
          "Level 2 Charger",
          "Level 2 Charger",
          "Level 3 Fast Charger",
          "Level 3 Fast Charger",
          "Level 3 Fast Charger",
          "Level 3 Fast Charger",
          "Level 2 Charger",
          "Level 2 Charger",
          "Level 2 Charger",
          "Level 2 Charger",
          "Level 2 Charger",
          "Level 2 Charger",
          "Level 2 Charger",
          "Level 2 Charger",
          "Level 2 Charger",
          "Level 2 Charger",
          "Level 2 Charger",
          "Level 2 Charger",
          "EV Solar Arc Charger",
          "EV Solar Arc Charger",
          "Level 2 Charger",
          "Level 2 Charger",
          "Level 2 Charger",
          "Level 2 Charger",
          "EV Solar Arc Charger",
          "Level 2 Charger",
          "Level 2 Charger",
          "Level 2 Charger",
          "Level 3 Fast Charger",
          "Level 3 Fast Charger",
          "EV Solar Arc Charger",
          "Level 3 Fast Charger",
          "EV Solar Arc Charger",
          "Level 2 Charger",
          "Level 2 Charger",
          "Level 2 Charger",
          "Level 2 Charger",
          "Level 2 Charger",
          "Level 2 Charger",
          "Level 2 Charger",
          "Level 2 Charger",
          "Level 2 Charger",
          "EV Solar Arc Charger",
          "EV Solar Arc Charger",
          "Level 2 Charger",
          "Level 2 Charger",
          "Level 2 Charger",
          "Level 2 Charger",
          "Level 2 Charger",
          "Level 2 Charger",
          "Level 2 Charger",
          "Level 2 Charger",
          "Level 2 Charger",
          "EV Solar Arc Charger",
          "EV Solar Arc Charger",
          "EV Solar Arc Charger",
          "EV Solar Arc Charger",
          "EV Solar Arc Charger",
          "Level 2 Charger",
          "Level 2 Charger",
          "Level 2 Charger",
          "Level 2 Charger",
          "Level 2 Charger",
          "Level 2 Charger",
          "Level 2 Charger",
          "Level 2 Charger",
          "Level 2 Charger",
          "EV Solar Arc Charger",
          "EV Solar Arc Charger",
          "Level 2 Charger",
          "Level 3 Fast Charger",
          "Level 2 Charger",
          "Level 2 Charger",
          "Level 2 Charger",
          "Level 2 Charger",
          "Level 2 Charger",
          "Level 2 Charger",
          "Level 2 Charger",
          "Level 2 Charger",
          "Level 2 Charger",
          "Level 2 Charger",
          "Level 2 Charger",
          "EV Solar Arc Charger",
          "EV Solar Arc Charger",
          "EV Solar Arc Charger",
          "EV Solar Arc Charger",
          "EV Solar Arc Charger",
          "EV Solar Arc Charger",
          "EV Solar Arc Charger",
          "Level 2 Charger",
          "Level 2 Charger",
          "Level 3 Fast Charger",
          "Level 3 Fast Charger",
          "Level 2 Charger",
          "Level 2 Charger",
          "Level 3 Fast Charger",
          "Level 2 Charger",
          "Level 2 Charger",
          "Level 3 Fast Charger",
          "Level 3 Fast Charger",
          "Level 2 Charger",
          "Level 2 Charger",
          "Level 2 Charger",
          "Level 2 Charger",
          "EV Solar Arc Charger",
          "EV Solar Arc Charger",
          "EV Solar Arc Charger",
          "Level 2 Charger",
          "Level 2 Charger",
          "Level 2 Charger",
          "Level 2 Charger",
          "Level 2 Charger",
          "Level 2 Charger",
          "Level 2 Charger",
          "Level 2 Charger",
          "Level 2 Charger",
          "Level 2 Charger",
          "Level 2 Charger",
          "Level 2 Charger",
          "Level 2 Charger",
          "Level 2 Charger",
          "Level 3 Fast Charger",
          "Level 3 Fast Charger",
          "Level 3 Fast Charger",
          "Level 3 Fast Charger",
          "Level 2 Charger",
          "Level 2 Charger",
          "Level 2 Charger",
          "EV Solar Arc Charger",
          "EV Solar Arc Charger",
          "Level 2 Charger",
          "Level 2 Charger",
          "Level 2 Charger",
          "Level 2 Charger",
          "Level 2 Charger",
          "Level 2 Charger",
          "Level 2 Charger",
          "Level 3 Fast Charger",
          "Level 3 Fast Charger",
          "Level 2 Charger",
          "Level 2 Charger",
          "Level 3 Fast Charger",
          "Level 3 Fast Charger",
          "Level 3 Fast Charger",
          "Level 3 Fast Charger",
          "Level 2 Charger",
          "Level 2 Charger",
          "Level 2 Charger",
          "Level 2 Charger",
          "EV Solar Arc Charger",
          "EV Solar Arc Charger",
          "Level 2 Charger",
          "Level 2 Charger",
          "Level 2 Charger",
          "Level 3 Fast Charger",
          "Level 3 Fast Charger",
          "Level 3 Fast Charger",
          "Level 2 Charger",
          "Level 2 Charger",
          "Level 2 Charger",
          "Level 2 Charger",
          "EV Solar Arc Charger",
          "Level 2 Charger",
          "Level 3 Fast Charger",
          "Level 3 Fast Charger",
          "EV Solar Arc Charger",
          "EV Solar Arc Charger",
          "EV Solar Arc Charger",
          "EV Solar Arc Charger",
          "Level 2 Charger",
          "Level 2 Charger",
          "Level 2 Charger",
          "Level 2 Charger",
          "Level 2 Charger",
          "Level 2 Charger",
          "Level 2 Charger",
          "Level 2 Charger",
          "Level 3 Fast Charger",
          "Level 3 Fast Charger",
          "Level 2 Charger",
          "Level 2 Charger",
          "Level 2 Charger",
          "Level 2 Charger",
          "Level 2 Charger",
          "Level 2 Charger",
          "Level 2 Charger",
          "Level 2 Charger",
          "Level 2 Charger"
         ],
         "lat": [
          40.668034,
          40.668034,
          40.668034,
          40.70061,
          40.711246,
          40.711246,
          40.711246,
          40.711246,
          40.711246,
          40.711246,
          40.70061,
          40.70061,
          40.70061,
          40.70061,
          40.70061,
          40.592214,
          40.654817,
          40.654817,
          40.648214,
          40.654817,
          40.654817,
          40.654817,
          40.654817,
          40.654817,
          40.654817,
          40.654817,
          40.654817,
          40.694275,
          40.694275,
          40.694275,
          40.694275,
          40.646913,
          40.646913,
          40.646913,
          40.646913,
          40.724702,
          40.681639,
          40.705517,
          40.731483,
          40.730718,
          40.730718,
          40.6418,
          40.6418,
          40.6418,
          40.631422,
          40.69802,
          40.69802,
          40.69802,
          40.69834,
          40.69834,
          40.631239,
          40.730973,
          40.592085,
          40.731272,
          40.731272,
          40.731272,
          40.731351,
          40.731272,
          40.731272,
          40.731272,
          40.731272,
          40.731272,
          40.731483,
          40.731483,
          40.731483,
          40.731483,
          40.731483,
          40.731483,
          40.731483,
          40.71663,
          40.71663,
          40.71663,
          40.648081,
          40.648081,
          40.648081,
          40.648081,
          40.648081,
          40.648081,
          40.648081,
          40.690743,
          40.690743,
          40.65911,
          40.67944,
          40.655179,
          40.633285,
          40.711722,
          40.721981,
          40.612623,
          40.578188,
          40.578188,
          40.677969,
          40.685146,
          40.661018,
          40.670361,
          40.645338,
          40.686448,
          40.686039,
          40.589157,
          40.711965,
          40.711965,
          40.711965,
          40.64085,
          40.70904,
          40.633144,
          40.633452,
          40.70138,
          40.605116,
          40.664987,
          40.665253,
          40.664701,
          40.664701,
          40.664701,
          40.664701,
          40.664701,
          40.664701,
          40.635668,
          40.636143,
          40.67671,
          40.578084,
          40.577846,
          40.647324,
          40.667391,
          40.667391,
          40.693999,
          40.720795,
          40.717655,
          40.587383,
          40.587383,
          40.587383,
          40.600248,
          40.600248,
          40.667391,
          40.667391,
          40.667391,
          40.667391,
          40.667391,
          40.667391,
          40.667391,
          40.649009,
          40.649009,
          40.664987,
          40.664987,
          40.711118,
          40.711118,
          40.708726,
          40.711118,
          40.711118,
          40.660832,
          40.671308,
          40.671308,
          40.649977,
          40.67669,
          40.657155,
          40.649977,
          40.591314,
          40.591314,
          40.591314,
          40.591314,
          40.591314,
          40.622889,
          40.622889,
          40.578665,
          40.642674,
          40.592214,
          40.654488,
          40.654488,
          40.653831,
          40.653831,
          40.653831,
          40.627727,
          40.627727,
          40.627727,
          40.627727,
          40.708726,
          40.669156,
          40.654363,
          40.653513,
          40.591839,
          40.591839,
          40.591839,
          40.71307,
          40.664595,
          40.663276,
          40.646985,
          40.69486,
          40.69486,
          40.69486,
          40.69486,
          40.69486,
          40.69486,
          40.69486,
          40.69486,
          40.69486,
          40.586579,
          40.669676,
          40.669676,
          40.699927,
          40.699927,
          40.738096,
          40.738096,
          40.738096,
          40.672807,
          40.656695,
          40.602329,
          40.625843,
          40.648867,
          40.638827,
          40.638827,
          40.648606,
          40.648606,
          40.664113,
          40.664113,
          40.664113,
          40.664113,
          40.65815,
          40.65815,
          40.671122,
          40.671122,
          40.689456,
          40.689456,
          40.698466,
          40.7063,
          40.588627,
          40.588627,
          40.600248,
          40.600248,
          40.600248,
          40.576884,
          40.70226,
          40.70226,
          40.576822,
          40.59445,
          40.65815,
          40.670653,
          40.667954,
          40.657723,
          40.698761,
          40.698761,
          40.699502,
          40.699502,
          40.698761,
          40.698761,
          40.698761,
          40.698761,
          40.698761,
          40.698761,
          40.698761,
          40.698761,
          40.698761,
          40.698761,
          40.702555,
          40.702555,
          40.685654,
          40.685654,
          40.711118,
          40.660832,
          40.660832,
          40.622889,
          40.664595,
          40.664595,
          40.702555
         ],
         "legendgroup": "Brooklyn",
         "lon": [
          -73.869949,
          -73.869949,
          -73.869949,
          -73.98042,
          -73.968348,
          -73.968348,
          -73.968348,
          -73.968348,
          -73.968348,
          -73.968348,
          -73.98042,
          -73.98042,
          -73.98042,
          -73.98042,
          -73.98042,
          -73.932546,
          -73.881479,
          -73.881479,
          -73.877613,
          -73.881479,
          -73.881479,
          -73.881479,
          -73.881479,
          -73.881479,
          -73.881479,
          -73.881479,
          -73.881479,
          -73.958854,
          -73.958854,
          -73.958854,
          -73.958854,
          -73.913395,
          -73.913395,
          -73.913395,
          -73.913395,
          -73.956934,
          -73.987684,
          -73.934242,
          -73.946271,
          -73.948891,
          -73.948891,
          -74.034055,
          -74.034055,
          -74.034055,
          -73.91852,
          -73.974986,
          -73.974986,
          -73.974986,
          -73.960921,
          -73.960921,
          -73.918502,
          -73.947675,
          -73.932521,
          -73.946848,
          -73.946848,
          -73.946848,
          -73.946628,
          -73.946848,
          -73.946848,
          -73.946848,
          -73.946848,
          -73.946848,
          -73.946271,
          -73.946271,
          -73.946271,
          -73.946271,
          -73.946271,
          -73.946271,
          -73.946271,
          -73.939205,
          -73.939205,
          -73.939205,
          -73.901772,
          -73.901772,
          -73.901772,
          -73.901772,
          -73.901772,
          -73.901772,
          -73.901772,
          -73.988605,
          -73.988605,
          -73.920368,
          -73.932407,
          -73.892416,
          -73.916735,
          -73.937926,
          -73.953281,
          -73.951906,
          -73.99203,
          -73.99203,
          -74.014363,
          -73.940431,
          -74.004859,
          -73.997693,
          -74.022864,
          -74.002026,
          -74.002221,
          -73.899781,
          -73.968027,
          -73.968027,
          -73.968027,
          -74.173771,
          -73.927616,
          -73.91573,
          -73.916446,
          -73.991723,
          -74.017319,
          -73.973384,
          -73.973164,
          -73.973557,
          -73.973557,
          -73.973557,
          -73.973557,
          -73.973557,
          -73.973557,
          -73.885339,
          -73.885842,
          -74.008238,
          -73.992966,
          -73.944047,
          -74.000818,
          -73.974508,
          -73.974508,
          -73.999196,
          -73.961226,
          -73.953014,
          -73.992191,
          -73.992191,
          -73.992191,
          -73.912051,
          -73.912051,
          -73.974508,
          -73.974508,
          -73.974508,
          -73.974508,
          -73.974508,
          -73.974508,
          -73.974508,
          -73.971603,
          -73.971603,
          -73.973384,
          -73.973384,
          -73.928548,
          -73.928548,
          -73.926318,
          -73.928548,
          -73.928548,
          -73.8697,
          -73.994452,
          -73.994452,
          -74.02012,
          -73.931938,
          -73.947351,
          -74.02012,
          -73.994488,
          -73.994488,
          -73.994488,
          -73.994488,
          -73.994488,
          -73.982824,
          -73.982824,
          -73.987588,
          -73.919717,
          -73.932546,
          -73.890676,
          -73.890676,
          -73.901511,
          -73.901511,
          -73.901511,
          -73.976281,
          -73.976281,
          -73.976281,
          -73.976281,
          -73.926318,
          -73.996907,
          -73.900725,
          -73.901371,
          -73.882699,
          -73.882699,
          -73.882699,
          -73.993821,
          -73.860612,
          -73.961227,
          -74.022721,
          -73.984674,
          -73.984674,
          -73.984674,
          -73.984674,
          -73.984674,
          -73.984674,
          -73.984674,
          -73.984674,
          -73.984674,
          -73.96381,
          -73.870515,
          -73.870515,
          -73.932531,
          -73.932531,
          -73.954533,
          -73.954533,
          -73.954533,
          -73.871627,
          -74.006815,
          -74.00318,
          -73.990929,
          -73.950471,
          -74.022721,
          -74.022721,
          -73.905256,
          -73.905256,
          -73.947763,
          -73.947763,
          -73.947763,
          -73.947763,
          -74.00044,
          -74.00044,
          -73.913501,
          -73.913501,
          -73.924024,
          -73.924024,
          -73.917768,
          -73.951781,
          -73.899217,
          -73.899217,
          -73.912051,
          -73.912051,
          -73.912051,
          -73.990241,
          -73.932478,
          -73.932478,
          -73.976465,
          -73.960233,
          -74.00044,
          -73.913955,
          -74.010346,
          -73.940499,
          -73.98987,
          -73.98987,
          -73.989556,
          -73.989556,
          -73.98987,
          -73.98987,
          -73.98987,
          -73.98987,
          -73.98987,
          -73.98987,
          -73.98987,
          -73.98987,
          -73.98987,
          -73.98987,
          -73.934382,
          -73.934382,
          -73.941462,
          -73.941462,
          -73.928548,
          -73.8697,
          -73.8697,
          -73.982824,
          -73.860612,
          -73.860612,
          -73.934382
         ],
         "marker": {
          "color": "#636efa"
         },
         "mode": "markers",
         "name": "Brooklyn",
         "showlegend": true,
         "subplot": "mapbox",
         "type": "scattermapbox"
        },
        {
         "hovertemplate": "<b>%{hovertext}</b><br><br>BOROUGH=Staten Island<br>LATITUDE=%{lat}<br>LONGITUDE=%{lon}<extra></extra>",
         "hovertext": [
          "Level 2 Charger",
          "Level 2 Charger",
          "Level 2 Charger",
          "Level 3 Fast Charger",
          "Level 3 Fast Charger",
          "Level 3 Fast Charger",
          "Level 3 Fast Charger",
          "Level 3 Fast Charger",
          "EV Solar Arc Charger",
          "EV Solar Arc Charger",
          "Level 3 Fast Charger",
          "Level 3 Fast Charger",
          "Level 3 Fast Charger",
          "Level 3 Fast Charger",
          "Level 3 Fast Charger",
          "Level 3 Fast Charger",
          "Level 3 Fast Charger",
          "Level 3 Fast Charger",
          "Level 2 Charger",
          "Level 2 Charger",
          "Level 2 Charger",
          "Level 2 Charger",
          "Level 2 Charger",
          "Level 2 Charger",
          "Level 2 Charger",
          "Level 2 Charger",
          "Level 2 Charger",
          "Level 3 Fast Charger",
          "Level 3 Fast Charger",
          "Level 3 Fast Charger",
          "Level 3 Fast Charger",
          "Level 3 Fast Charger",
          "Level 3 Fast Charger",
          "Level 2 Charger",
          "Level 2 Charger",
          "Level 2 Charger",
          "Level 2 Charger",
          "Level 2 Charger",
          "EV Solar Arc Charger",
          "Level 2 Charger",
          "Level 2 Charger",
          "Level 2 Charger",
          "EV Solar Arc Charger",
          "Level 2 Charger",
          "Level 2 Charger",
          "Level 2 Charger",
          "Level 2 Charger",
          "Level 2 Charger",
          "Level 2 Charger",
          "Level 2 Charger",
          "Level 2 Charger",
          "Level 2 Charger",
          "Level 2 Charger",
          "EV Solar Arc Charger",
          "EV Solar Arc Charger",
          "EV Solar Arc Charger",
          "Level 3 Fast Charger",
          "Level 3 Fast Charger",
          "Level 3 Fast Charger",
          "Level 3 Fast Charger",
          "Level 2 Charger",
          "Level 2 Charger",
          "EV Solar Arc Charger",
          "EV Solar Arc Charger",
          "Level 2 Charger",
          "Level 2 Charger",
          "Level 2 Charger",
          "Level 2 Charger",
          "Level 2 Charger",
          "Level 2 Charger",
          "EV Solar Arc Charger",
          "EV Solar Arc Charger",
          "Level 2 Charger",
          "Level 2 Charger",
          "Level 2 Charger",
          "Level 2 Charger",
          "Level 2 Charger",
          "Level 2 Charger",
          "Level 2 Charger",
          "Level 2 Charger",
          "Level 3 Fast Charger",
          "Level 3 Fast Charger",
          "EV Solar Arc Charger",
          "EV Solar Arc Charger",
          "EV Solar Arc Charger",
          "Level 3 Fast Charger",
          "Level 3 Fast Charger",
          "Level 2 Charger",
          "Level 2 Charger",
          "Level 2 Charger",
          "EV Solar Arc Charger",
          "EV Solar Arc Charger",
          "Level 2 Charger",
          "EV Solar Arc Charger",
          "EV Solar Arc Charger",
          "EV Solar Arc Charger",
          "Level 2 Charger",
          "Level 2 Charger",
          "Level 2 Charger",
          "Level 2 Charger",
          "Level 2 Charger",
          "Level 2 Charger",
          "Level 2 Charger",
          "Level 3 Fast Charger",
          "Level 2 Charger",
          "Level 2 Charger",
          "Level 2 Charger",
          "Level 2 Charger",
          "Level 2 Charger",
          "Level 2 Charger",
          "Level 2 Charger",
          "Level 2 Charger",
          "DOT Municipal Level 2 Charger"
         ],
         "lat": [
          40.640708,
          40.615436,
          40.552071,
          40.637232,
          40.637232,
          40.637232,
          40.637232,
          40.637232,
          40.508319,
          40.508319,
          40.553917,
          40.553917,
          40.552071,
          40.552071,
          40.552071,
          40.552071,
          40.552071,
          40.552071,
          40.793705,
          40.509084,
          40.608756,
          40.608756,
          40.596745,
          40.509084,
          40.576725,
          40.509084,
          40.634573,
          40.643733,
          40.643733,
          40.643733,
          40.643733,
          40.643733,
          40.643733,
          40.642367,
          40.631925,
          40.644935,
          40.629667,
          40.631925,
          40.574514,
          40.62089,
          40.620778,
          40.618239,
          40.52066,
          40.530065,
          40.56161,
          40.56161,
          40.56161,
          40.56161,
          40.502357,
          40.592224,
          40.584008,
          40.636297,
          40.637675,
          40.587755,
          40.575685,
          40.575685,
          40.575993,
          40.575993,
          40.582243,
          40.582243,
          40.581606,
          40.581606,
          40.587755,
          40.587755,
          40.618239,
          40.62089,
          40.62089,
          40.62089,
          40.62089,
          40.62089,
          40.62852,
          40.62852,
          40.62852,
          40.62852,
          40.62852,
          40.62852,
          40.62852,
          40.62852,
          40.59048,
          40.575017,
          40.636097,
          40.636097,
          40.586223,
          40.575234,
          40.575234,
          40.586223,
          40.586223,
          40.586997,
          40.586997,
          40.571144,
          40.575234,
          40.575234,
          40.583744,
          40.583069,
          40.575234,
          40.575234,
          40.593273,
          40.623595,
          40.623595,
          40.623595,
          40.623595,
          40.623595,
          40.512,
          40.7301,
          40.5743,
          40.5743,
          40.593798,
          40.63368,
          40.571144,
          40.571144,
          40.571144,
          40.575374,
          40.640566
         ],
         "legendgroup": "Staten Island",
         "lon": [
          -74.077697,
          -74.105751,
          -74.116133,
          -74.125556,
          -74.125556,
          -74.125556,
          -74.125556,
          -74.125556,
          -74.235614,
          -74.235614,
          -74.117306,
          -74.117306,
          -74.116133,
          -74.116133,
          -74.116133,
          -74.116133,
          -74.116133,
          -74.116133,
          -73.884135,
          -74.22093,
          -74.102344,
          -74.102344,
          -74.124263,
          -74.22093,
          -74.100726,
          -74.22093,
          -74.141818,
          -74.072789,
          -74.072789,
          -74.072789,
          -74.072789,
          -74.072789,
          -74.072789,
          -74.075274,
          -74.129397,
          -74.077204,
          -74.076027,
          -74.129397,
          -74.085629,
          -74.119394,
          -74.119351,
          -74.105161,
          -74.184425,
          -74.176447,
          -74.160443,
          -74.160443,
          -74.160443,
          -74.160443,
          -74.25144,
          -74.13628,
          -74.125528,
          -74.073382,
          -74.073719,
          -74.069261,
          -74.083179,
          -74.083179,
          -74.082618,
          -74.082618,
          -74.074594,
          -74.074594,
          -74.075187,
          -74.075187,
          -74.069261,
          -74.069261,
          -74.105161,
          -74.119394,
          -74.119394,
          -74.119394,
          -74.119394,
          -74.119394,
          -74.100238,
          -74.100238,
          -74.100238,
          -74.100238,
          -74.100238,
          -74.100238,
          -74.100238,
          -74.100238,
          -74.06675,
          -74.196645,
          -74.084519,
          -74.084519,
          -74.168484,
          -74.196696,
          -74.196696,
          -74.168484,
          -74.168484,
          -74.168316,
          -74.168316,
          -74.195327,
          -74.196696,
          -74.196696,
          -74.193041,
          -74.192892,
          -74.196696,
          -74.196696,
          -74.135732,
          -74.149133,
          -74.149133,
          -74.149133,
          -74.149133,
          -74.149133,
          -74.249725,
          -73.810908,
          -74.105888,
          -74.105888,
          -74.135437,
          -74.075159,
          -74.195327,
          -74.195327,
          -74.195327,
          -74.196743,
          -74.076713
         ],
         "marker": {
          "color": "#EF553B"
         },
         "mode": "markers",
         "name": "Staten Island",
         "showlegend": true,
         "subplot": "mapbox",
         "type": "scattermapbox"
        },
        {
         "hovertemplate": "<b>%{hovertext}</b><br><br>BOROUGH=Manhattan<br>LATITUDE=%{lat}<br>LONGITUDE=%{lon}<extra></extra>",
         "hovertext": [
          "Level 2 Charger",
          "Level 2 Charger",
          "EV Solar Arc Charger",
          "Level 3 Fast Charger",
          "Level 3 Fast Charger",
          "Level 3 Fast Charger",
          "Level 3 Fast Charger",
          "Level 3 Fast Charger",
          "Level 3 Fast Charger",
          "Level 3 Fast Charger",
          "Level 2 Charger",
          "Level 3 Fast Charger",
          "Level 3 Fast Charger",
          "Level 2 Charger",
          "EV Solar Arc Charger",
          "EV Solar Arc Charger",
          "EV Solar Arc Charger",
          "EV Solar Arc Charger",
          "EV Solar Arc Charger",
          "Level 2 Charger",
          "Level 3 Fast Charger",
          "Level 3 Fast Charger",
          "Level 3 Fast Charger",
          "Level 2 Charger",
          "Level 2 Charger",
          "Level 2 Charger",
          "Level 2 Charger",
          "Level 3 Fast Charger",
          "Level 3 Fast Charger",
          "Level 3 Fast Charger",
          "Level 3 Fast Charger",
          "Level 3 Fast Charger",
          "Level 3 Fast Charger",
          "Level 3 Fast Charger",
          "Level 3 Fast Charger",
          "Level 2 Charger",
          "EV Solar Arc Charger",
          "Level 2 Charger",
          "Level 2 Charger",
          "Level 2 Charger",
          "Level 3 Fast Charger",
          "Level 3 Fast Charger",
          "Level 3 Fast Charger",
          "Level 3 Fast Charger",
          "Level 3 Fast Charger",
          "Level 3 Fast Charger",
          "Level 3 Fast Charger",
          "Level 3 Fast Charger",
          "Level 3 Fast Charger",
          "Level 3 Fast Charger",
          "Level 3 Fast Charger",
          "Level 3 Fast Charger",
          "Level 3 Fast Charger",
          "Level 2 Charger",
          "Level 3 Fast Charger",
          "Level 2 Charger",
          "Level 2 Charger",
          "Level 2 Charger",
          "Level 2 Charger",
          "Level 2 Charger",
          "Level 2 Charger",
          "Level 2 Charger",
          "Level 2 Charger",
          "Level 2 Charger",
          "Level 2 Charger",
          "Level 2 Charger",
          "Level 2 Charger",
          "EV Solar Arc Charger",
          "Level 2 Charger",
          "Level 2 Charger",
          "EV Solar Arc Charger",
          "EV Solar Arc Charger",
          "Level 2 Charger",
          "Level 2 Charger",
          "Level 2 Charger",
          "EV Solar Arc Charger",
          "Level 2 Charger",
          "Level 2 Charger",
          "Level 3 Fast Charger",
          "Level 3 Fast Charger",
          "Level 3 Fast Charger",
          "Level 2 Charger",
          "Level 2 Charger",
          "Level 2 Charger",
          "Level 2 Charger",
          "Level 2 Charger",
          "Level 2 Charger",
          "Level 2 Charger",
          "Level 2 Charger",
          "Level 2 Charger",
          "Level 2 Charger",
          "Level 2 Charger",
          "Level 2 Charger",
          "Level 2 Charger",
          "Level 2 Charger",
          "Level 3 Fast Charger",
          "Level 3 Fast Charger",
          "Level 2 Charger",
          "Level 2 Charger",
          "Level 2 Charger",
          "Level 2 Charger",
          "Level 2 Charger",
          "Level 2 Charger",
          "Level 2 Charger",
          "Level 2 Charger",
          "Level 2 Charger",
          "Level 2 Charger",
          "Level 2 Charger",
          "Level 2 Charger",
          "Level 2 Charger",
          "Level 2 Charger",
          "Level 2 Charger",
          "Level 2 Charger",
          "EV Solar Arc Charger",
          "EV Solar Arc Charger",
          "Level 2 Charger",
          "EV Solar Arc Charger",
          "EV Solar Arc Charger",
          "Level 2 Charger",
          "Level 2 Charger",
          "Level 2 Charger",
          "Level 2 Charger",
          "Level 2 Charger",
          "Level 2 Charger",
          "Level 3 Fast Charger",
          "Level 3 Fast Charger",
          "Level 3 Fast Charger",
          "Level 3 Fast Charger",
          "Level 2 Charger",
          "Level 3 Fast Charger",
          "Level 3 Fast Charger",
          "Level 3 Fast Charger",
          "Level 3 Fast Charger",
          "Level 3 Fast Charger",
          "Level 3 Fast Charger",
          "Level 3 Fast Charger",
          "Level 2 Charger",
          "Level 3 Fast Charger",
          "Level 3 Fast Charger",
          "Level 2 Charger",
          "Level 3 Fast Charger",
          "Level 3 Fast Charger",
          "Level 3 Fast Charger",
          "Level 3 Fast Charger",
          "Level 3 Fast Charger",
          "Level 3 Fast Charger",
          "Level 2 Charger",
          "Level 2 Charger",
          "Level 2 Charger",
          "Level 2 Charger",
          "Level 3 Fast Charger",
          "Level 3 Fast Charger",
          "Level 3 Fast Charger",
          "Level 3 Fast Charger",
          "Level 2 Charger",
          "Level 2 Charger",
          "Level 2 Charger",
          "Level 2 Charger",
          "Level 2 Charger",
          "Level 2 Charger",
          "Level 2 Charger",
          "Level 2 Charger",
          "Level 2 Charger",
          "Level 3 Fast Charger",
          "Level 3 Fast Charger",
          "Level 2 Charger",
          "Level 2 Charger",
          "Level 2 Charger",
          "Level 2 Charger",
          "Level 2 Charger",
          "Level 2 Charger",
          "Level 2 Charger",
          "Level 2 Charger",
          "Level 2 Charger",
          "Level 2 Charger",
          "Level 2 Charger",
          "Level 2 Charger",
          "Level 2 Charger",
          "Level 2 Charger",
          "Level 2 Charger",
          "Level 2 Charger",
          "EV Solar Arc Charger",
          "Level 2 Charger",
          "Level 2 Charger",
          "Level 2 Charger",
          "Level 3 Fast Charger",
          "Level 2 Charger",
          "Level 2 Charger",
          "Level 2 Charger",
          "Level 2 Charger",
          "Level 2 Charger",
          "Level 2 Charger",
          "Level 2 Charger",
          "Level 2 Charger",
          "Level 2 Charger",
          "Level 3 Fast Charger",
          "Level 3 Fast Charger",
          "Level 3 Fast Charger",
          "Level 2 Charger",
          "Level 2 Charger",
          "Level 2 Charger",
          "Level 2 Charger",
          "Level 2 Charger",
          "Level 2 Charger",
          "Level 2 Charger",
          "Level 2 Charger",
          "Level 2 Charger",
          "Level 2 Charger",
          "Level 2 Charger",
          "Level 2 Charger",
          "Level 3 Fast Charger",
          "Level 2 Charger",
          "Level 2 Charger",
          "Level 3 Fast Charger",
          "Level 3 Fast Charger",
          "Level 3 Fast Charger",
          "Level 3 Fast Charger",
          "Level 3 Fast Charger",
          "Level 3 Fast Charger",
          "Level 3 Fast Charger",
          "Level 3 Fast Charger",
          "Level 3 Fast Charger",
          "Level 3 Fast Charger",
          "Level 3 Fast Charger",
          "Level 3 Fast Charger",
          "Level 3 Fast Charger",
          "Level 3 Fast Charger",
          "Level 3 Fast Charger",
          "Level 3 Fast Charger",
          "Level 3 Fast Charger",
          "Level 3 Fast Charger",
          "Level 3 Fast Charger",
          "Level 2 Charger",
          "Level 2 Charger",
          "Level 2 Charger",
          "Level 2 Charger",
          "DOT Municipal Level 2 Charger",
          "DOT Municipal Level 3 Charger"
         ],
         "lat": [
          40.712806,
          40.712806,
          40.713001,
          40.713001,
          40.713001,
          40.710353,
          40.710353,
          40.710353,
          40.710353,
          40.710353,
          40.710353,
          40.846982,
          40.846982,
          40.792839,
          40.791469,
          40.791483,
          40.791469,
          40.791469,
          40.791469,
          40.71282,
          40.712735,
          40.83028,
          40.83028,
          40.821384,
          40.821384,
          40.788869,
          40.787146,
          40.787146,
          40.787146,
          40.785113,
          40.785113,
          40.785113,
          40.785113,
          40.788166,
          40.788166,
          40.788715,
          40.787573,
          40.785113,
          40.791082,
          40.827108,
          40.821384,
          40.821384,
          40.821384,
          40.821384,
          40.821384,
          40.821384,
          40.821384,
          40.821384,
          40.821408,
          40.821408,
          40.821408,
          40.821408,
          40.821408,
          40.785494,
          40.714417,
          40.877105,
          40.736103,
          40.855855,
          40.783638,
          40.825191,
          40.765234,
          40.703573,
          40.703573,
          40.703466,
          40.703466,
          40.710508,
          40.710508,
          40.710508,
          40.701283,
          40.79872,
          40.800068,
          40.79872,
          40.718875,
          40.78237,
          40.796655,
          40.818365,
          40.776309,
          40.843434,
          40.792269,
          40.792269,
          40.792269,
          40.805856,
          40.786761,
          40.786373,
          40.786373,
          40.786373,
          40.786373,
          40.786373,
          40.786373,
          40.786373,
          40.786373,
          40.815204,
          40.821351,
          40.767711,
          40.767711,
          40.79952,
          40.79952,
          40.79952,
          40.79952,
          40.79952,
          40.79952,
          40.79952,
          40.79952,
          40.781339,
          40.79872,
          40.79872,
          40.79872,
          40.79872,
          40.800068,
          40.79872,
          40.79872,
          40.79872,
          40.795535,
          40.872891,
          40.872891,
          40.866824,
          40.795089,
          40.795089,
          40.808657,
          40.869024,
          40.869024,
          40.71307,
          40.71307,
          40.71307,
          40.771149,
          40.771149,
          40.770957,
          40.771149,
          40.751183,
          40.751183,
          40.751183,
          40.751183,
          40.751183,
          40.751183,
          40.751183,
          40.751183,
          40.726159,
          40.726159,
          40.726159,
          40.726159,
          40.710508,
          40.710508,
          40.726159,
          40.726159,
          40.710508,
          40.710508,
          40.771149,
          40.771149,
          40.771149,
          40.771149,
          40.771149,
          40.771149,
          40.771149,
          40.771149,
          40.869218,
          40.808657,
          40.808361,
          40.808657,
          40.808023,
          40.808657,
          40.804756,
          40.804756,
          40.804756,
          40.868199,
          40.868199,
          40.868199,
          40.751183,
          40.751183,
          40.726159,
          40.726159,
          40.795535,
          40.795535,
          40.75131,
          40.75131,
          40.75131,
          40.75131,
          40.75131,
          40.75131,
          40.75131,
          40.75131,
          40.801789,
          40.71108,
          40.71108,
          40.756812,
          40.756738,
          40.76696,
          40.800892,
          40.828615,
          40.828615,
          40.815834,
          40.815908,
          40.840712,
          40.840712,
          40.85126,
          40.85126,
          40.716401,
          40.736468,
          40.736468,
          40.765016,
          40.765016,
          40.753599,
          40.753599,
          40.724887,
          40.724887,
          40.725041,
          40.724887,
          40.724783,
          40.724783,
          40.802127,
          40.802127,
          40.76948,
          40.800892,
          40.716209,
          40.712348,
          40.710369,
          40.712348,
          40.710932,
          40.712348,
          40.712348,
          40.712348,
          40.712348,
          40.836055,
          40.836055,
          40.836055,
          40.836055,
          40.738575,
          40.738575,
          40.738575,
          40.738575,
          40.738575,
          40.738575,
          40.738575,
          40.738575,
          40.739162,
          40.739162,
          40.804756,
          40.719086,
          40.719086
         ],
         "legendgroup": "Manhattan",
         "lon": [
          -74.006096,
          -74.006096,
          -74.004181,
          -74.004181,
          -74.004181,
          -74.004007,
          -74.004007,
          -74.004007,
          -74.004007,
          -74.004007,
          -74.004007,
          -73.931709,
          -73.931709,
          -73.922819,
          -73.921474,
          -73.921463,
          -73.921474,
          -73.921474,
          -73.921474,
          -73.992461,
          -73.99245,
          -73.941602,
          -73.941602,
          -73.9581,
          -73.9581,
          -73.920097,
          -73.925083,
          -73.925083,
          -73.925083,
          -73.923366,
          -73.923366,
          -73.923366,
          -73.923366,
          -73.919762,
          -73.919762,
          -73.924539,
          -73.924403,
          -73.923366,
          -73.921051,
          -73.95466,
          -73.9581,
          -73.9581,
          -73.9581,
          -73.9581,
          -73.9581,
          -73.9581,
          -73.9581,
          -73.9581,
          -73.958161,
          -73.958161,
          -73.958161,
          -73.958161,
          -73.958161,
          -73.931397,
          -74.006089,
          -73.912256,
          -73.982196,
          -73.92712,
          -73.945626,
          -73.935731,
          -73.993076,
          -74.008036,
          -74.008036,
          -74.007538,
          -74.007538,
          -73.986196,
          -73.986196,
          -73.986196,
          -74.014578,
          -73.921194,
          -73.925671,
          -73.921194,
          -73.992735,
          -73.965238,
          -73.923829,
          -73.935359,
          -73.943758,
          -73.934301,
          -73.923827,
          -73.923827,
          -73.923827,
          -73.943,
          -73.928799,
          -73.931656,
          -73.931656,
          -73.931656,
          -73.931656,
          -73.931656,
          -73.931656,
          -73.931656,
          -73.931656,
          -73.955246,
          -73.958067,
          -73.970516,
          -73.970516,
          -73.92227,
          -73.92227,
          -73.92227,
          -73.92227,
          -73.92227,
          -73.92227,
          -73.92227,
          -73.92227,
          -73.962508,
          -73.921194,
          -73.921194,
          -73.921194,
          -73.921194,
          -73.925671,
          -73.921194,
          -73.921194,
          -73.921194,
          -73.922671,
          -73.918159,
          -73.918159,
          -73.928811,
          -73.976207,
          -73.976207,
          -73.935809,
          -73.913916,
          -73.913916,
          -73.993821,
          -73.993821,
          -73.993821,
          -73.993415,
          -73.993415,
          -73.992953,
          -73.993415,
          -74.006594,
          -74.006594,
          -74.006594,
          -74.006594,
          -74.006594,
          -74.006594,
          -74.006594,
          -74.006594,
          -74.010712,
          -74.010712,
          -74.010712,
          -74.010712,
          -73.986196,
          -73.986196,
          -74.010712,
          -74.010712,
          -73.986196,
          -73.986196,
          -73.993415,
          -73.993415,
          -73.993415,
          -73.993415,
          -73.993415,
          -73.993415,
          -73.993415,
          -73.993415,
          -73.913033,
          -73.935809,
          -73.936604,
          -73.935809,
          -73.936268,
          -73.935809,
          -73.934281,
          -73.934281,
          -73.934281,
          -73.911997,
          -73.911997,
          -73.911997,
          -74.006594,
          -74.006594,
          -74.010712,
          -74.010712,
          -73.922671,
          -73.922671,
          -74.005233,
          -74.005233,
          -74.005233,
          -74.005233,
          -74.005233,
          -74.005233,
          -74.005233,
          -74.005233,
          -73.939319,
          -74.000397,
          -74.000397,
          -73.971142,
          -73.970117,
          -73.963856,
          -73.941025,
          -73.943847,
          -73.943847,
          -73.944978,
          -73.945151,
          -73.93564,
          -73.93564,
          -73.935186,
          -73.935186,
          -73.983493,
          -73.983311,
          -73.983311,
          -73.984835,
          -73.984835,
          -73.994712,
          -73.994712,
          -73.978259,
          -73.978259,
          -73.978148,
          -73.978259,
          -73.978335,
          -73.978335,
          -73.936108,
          -73.936108,
          -73.989397,
          -73.941025,
          -73.983605,
          -74.000891,
          -74.00136,
          -74.000891,
          -74.003481,
          -74.000891,
          -74.000891,
          -74.000891,
          -74.000891,
          -73.947657,
          -73.947657,
          -73.947657,
          -73.947657,
          -73.976588,
          -73.976588,
          -73.976588,
          -73.976588,
          -73.976588,
          -73.976588,
          -73.976588,
          -73.976588,
          -73.976894,
          -73.976894,
          -73.934281,
          -73.98794,
          -73.98794
         ],
         "marker": {
          "color": "#00cc96"
         },
         "mode": "markers",
         "name": "Manhattan",
         "showlegend": true,
         "subplot": "mapbox",
         "type": "scattermapbox"
        },
        {
         "hovertemplate": "<b>%{hovertext}</b><br><br>BOROUGH=Queens<br>LATITUDE=%{lat}<br>LONGITUDE=%{lon}<extra></extra>",
         "hovertext": [
          "Level 3 Fast Charger",
          "Level 3 Fast Charger",
          "Level 3 Fast Charger",
          "Level 3 Fast Charger",
          "Level 3 Fast Charger",
          "Level 3 Fast Charger",
          "Level 3 Fast Charger",
          "EV Solar Arc Charger",
          "EV Solar Arc Charger",
          "Level 2 Charger",
          "EV Solar Arc Charger",
          "EV Solar Arc Charger",
          "Level 2 Charger",
          "Level 2 Charger",
          "Level 3 Fast Charger",
          "Level 3 Fast Charger",
          "Level 3 Fast Charger",
          "Level 3 Fast Charger",
          "Level 2 Charger",
          "Level 2 Charger",
          "Level 2 Charger",
          "Level 2 Charger",
          "Level 2 Charger",
          "Level 2 Charger",
          "Level 2 Charger",
          "Level 2 Charger",
          "Level 2 Charger",
          "Level 2 Charger",
          "Level 2 Charger",
          "Level 2 Charger",
          "Level 2 Charger",
          "Level 2 Charger",
          "Level 2 Charger",
          "Level 2 Charger",
          "Level 2 Charger",
          "Level 2 Charger",
          "Level 2 Charger",
          "Level 2 Charger",
          "EV Solar Arc Charger",
          "Level 2 Charger",
          "Level 2 Charger",
          "Level 2 Charger",
          "Level 2 Charger",
          "Level 3 Fast Charger",
          "Level 3 Fast Charger",
          "Level 3 Fast Charger",
          "Level 3 Fast Charger",
          "Level 2 Charger",
          "Level 3 Fast Charger",
          "Level 3 Fast Charger",
          "Level 3 Fast Charger",
          "Level 3 Fast Charger",
          "EV Solar Arc Charger",
          "Level 3 Fast Charger",
          "Level 3 Fast Charger",
          "Level 3 Fast Charger",
          "Level 3 Fast Charger",
          "Level 3 Fast Charger",
          "Level 2 Charger",
          "EV Solar Arc Charger",
          "Level 2 Charger",
          "Level 2 Charger",
          "Level 2 Charger",
          "Level 2 Charger",
          "Level 2 Charger",
          "Level 2 Charger",
          "Level 2 Charger",
          "Level 3 Fast Charger",
          "Level 3 Fast Charger",
          "Level 2 Charger",
          "Level 2 Charger",
          "Level 2 Charger",
          "EV Solar Arc Charger",
          "Level 2 Charger",
          "Level 2 Charger",
          "Level 2 Charger",
          "Level 2 Charger",
          "Level 2 Charger",
          "Level 2 Charger",
          "Level 2 Charger",
          "Level 2 Charger",
          "Level 2 Charger",
          "Level 2 Charger",
          "Level 2 Charger",
          "Level 2 Charger",
          "Level 2 Charger",
          "Level 3 Fast Charger",
          "Level 3 Fast Charger",
          "Level 3 Fast Charger",
          "Level 3 Fast Charger",
          "Level 3 Fast Charger",
          "Level 2 Charger",
          "Level 2 Charger",
          "Level 2 Charger",
          "Level 2 Charger",
          "Level 2 Charger",
          "Level 2 Charger",
          "Level 2 Charger",
          "Level 2 Charger",
          "Level 2 Charger",
          "Level 3 Fast Charger",
          "Level 3 Fast Charger",
          "Level 2 Charger",
          "Level 2 Charger",
          "Level 2 Charger",
          "Level 2 Charger",
          "Level 2 Charger",
          "EV Solar Arc Charger",
          "EV Solar Arc Charger",
          "EV Solar Arc Charger",
          "EV Solar Arc Charger",
          "Level 2 Charger",
          "Level 2 Charger",
          "Level 3 Fast Charger",
          "Level 3 Fast Charger",
          "Level 2 Charger",
          "Level 2 Charger",
          "Level 2 Charger",
          "Level 3 Fast Charger - Boost",
          "Level 2 Charger",
          "Level 2 Charger",
          "Level 2 Charger",
          "Level 2 Charger",
          "Level 2 Charger",
          "Level 2 Charger",
          "Level 2 Charger",
          "Level 2 Charger",
          "Level 2 Charger",
          "Level 2 Charger",
          "Level 2 Charger",
          "Level 2 Charger",
          "EV Solar Arc Charger",
          "EV Solar Arc Charger",
          "EV Solar Arc Charger",
          "EV Solar Arc Charger",
          "Level 2 Charger",
          "Level 2 Charger",
          "Level 2 Charger",
          "EV Solar Arc Charger",
          "Level 2 Charger",
          "Level 2 Charger",
          "Level 2 Charger",
          "Level 2 Charger",
          "Level 2 Charger",
          "Level 2 Charger",
          "Level 3 Fast Charger",
          "Level 3 Fast Charger",
          "EV Solar Arc Charger",
          "Level 2 Charger",
          "EV Solar Arc Charger",
          "EV Solar Arc Charger",
          "Level 3 Fast Charger - Boost",
          "Level 2 Charger",
          "Level 2 Charger",
          "Level 2 Charger",
          "Level 2 Charger",
          "Level 2 Charger",
          "Level 2 Charger",
          "Level 2 Charger",
          "Level 2 Charger",
          "Level 2 Charger",
          "Level 2 Charger",
          "Level 2 Charger",
          "Level 2 Charger",
          "Level 2 Charger",
          "EV Solar Arc Charger",
          "EV Solar Arc Charger",
          "EV Solar Arc Charger",
          "Level 2 Charger",
          "Level 2 Charger",
          "Level 2 Charger",
          "Level 2 Charger",
          "Level 2 Charger",
          "Level 2 Charger",
          "Level 2 Charger",
          "Level 2 Charger",
          "Level 2 Charger",
          "Level 2 Charger",
          "Level 2 Charger",
          "Level 2 Charger",
          "Level 2 Charger",
          "Level 2 Charger",
          "Level 2 Charger",
          "Level 2 Charger",
          "Level 2 Charger",
          "Level 2 Charger",
          "Level 2 Charger",
          "Level 2 Charger",
          "Level 2 Charger",
          "Level 2 Charger",
          "Level 2 Charger",
          "Level 2 Charger",
          "Level 2 Charger",
          "Level 2 Charger",
          "Level 2 Charger",
          "Level 2 Charger",
          "Level 2 Charger",
          "Level 2 Charger",
          "Level 2 Charger",
          "Level 2 Charger",
          "Level 2 Charger",
          "Level 2 Charger",
          "Level 2 Charger",
          "Level 2 Charger",
          "Level 2 Charger",
          "Level 2 Charger",
          "Level 2 Charger",
          "Level 2 Charger",
          "Level 2 Charger",
          "Level 2 Charger",
          "Level 2 Charger",
          "Level 2 Charger",
          "EV Solar Arc Charger",
          "EV Solar Arc Charger",
          "EV Solar Arc Charger",
          "EV Solar Arc Charger",
          "EV Solar Arc Charger",
          "Level 2 Charger",
          "Level 2 Charger",
          "EV Solar Arc Charger",
          "Level 2 Charger",
          "Level 2 Charger",
          "Level 2 Charger",
          "Level 2 Charger",
          "Level 2 Charger",
          "Level 3 Fast Charger",
          "Level 3 Fast Charger",
          "Level 3 Fast Charger",
          "Level 3 Fast Charger",
          "Level 3 Fast Charger",
          "Level 3 Fast Charger",
          "Level 3 Fast Charger",
          "Level 3 Fast Charger",
          "Level 3 Fast Charger",
          "Level 2 Charger",
          "Level 2 Charger",
          "Level 2 Charger",
          "Level 2 Charger",
          "Level 2 Charger",
          "Level 3 Fast Charger",
          "Level 3 Fast Charger",
          "Level 2 Charger",
          "Level 2 Charger",
          "Level 2 Charger",
          "Level 2 Charger",
          "Level 2 Charger",
          "Level 2 Charger",
          "Level 2 Charger",
          "Level 3 Fast Charger",
          "Level 2 Charger",
          "Level 2 Charger",
          "Level 2 Charger",
          "Level 3 Fast Charger",
          "Level 2 Charger",
          "Level 2 Charger",
          "Level 2 Charger",
          "Level 3 Fast Charger",
          "Level 3 Fast Charger",
          "Level 3 Fast Charger",
          "Level 3 Fast Charger",
          "Level 3 Fast Charger",
          "Level 3 Fast Charger",
          "Level 2 Charger",
          "Level 2 Charger",
          "Level 2 Charger",
          "Level 2 Charger",
          "Level 2 Charger",
          "Level 2 Charger",
          "Level 2 Charger",
          "Level 2 Charger",
          "Level 2 Charger",
          "Level 2 Charger",
          "Level 2 Charger",
          "Level 2 Charger",
          "Level 2 Charger",
          "Level 2 Charger",
          "Level 2 Charger",
          "Level 2 Charger",
          "EV Solar Arc Charger",
          "Level 2 Charger",
          "Level 2 Charger",
          "Level 2 Charger",
          "Level 2 Charger",
          "Level 2 Charger",
          "Level 2 Charger",
          "Level 3 Fast Charger",
          "Level 3 Fast Charger",
          "Level 2 Charger",
          "Level 2 Charger",
          "Level 3 Fast Charger",
          "Level 3 Fast Charger",
          "Level 2 Charger",
          "Level 2 Charger",
          "Level 2 Charger",
          "Level 2 Charger",
          "Level 2 Charger",
          "Level 2 Charger",
          "Level 2 Charger",
          "Level 2 Charger",
          "Level 2 Charger",
          "Level 2 Charger",
          "Level 2 Charger",
          "Level 2 Charger",
          "Level 3 Fast Charger",
          "Level 3 Fast Charger",
          "Level 3 Fast Charger",
          "Level 3 Fast Charger",
          "Level 2 Charger",
          "Level 2 Charger",
          "Level 2 Charger",
          "Level 2 Charger",
          "Level 2 Charger",
          "Level 2 Charger",
          "Level 2 Charger",
          "Level 2 Charger",
          "EV Solar Arc Charger",
          "EV Solar Arc Charger",
          "EV Solar Arc Charger",
          "EV Solar Arc Charger",
          "Level 2 Charger",
          "Level 3 Fast Charger",
          "Level 2 Charger",
          "EV Solar Arc Charger",
          "EV Solar Arc Charger",
          "EV Solar Arc Charger",
          "Level 2 Charger",
          "Level 2 Charger",
          "Level 2 Charger",
          "Level 2 Charger",
          "Level 2 Charger",
          "Level 2 Charger",
          "Level 2 Charger",
          "Level 2 Charger",
          "Level 2 Charger",
          "Level 2 Charger",
          "Level 2 Charger",
          "Level 2 Charger",
          "Level 2 Charger",
          "Level 2 Charger",
          "Level 2 Charger",
          "Level 2 Charger",
          "Level 2 Charger",
          "Level 2 Charger",
          "Level 2 Charger",
          "Level 2 Charger",
          "Level 2 Charger",
          "Level 2 Charger",
          "Level 2 Charger",
          "Level 2 Charger",
          "Level 2 Charger",
          "Level 2 Charger",
          "Level 2 Charger",
          "Level 2 Charger",
          "Level 2 Charger",
          "Level 2 Charger",
          "Level 2 Charger",
          "Level 2 Charger",
          "Level 2 Charger",
          "Level 2 Charger",
          "Level 2 Charger",
          "Level 2 Charger",
          "Level 2 Charger",
          "Level 2 Charger",
          "Level 2 Charger",
          "Level 2 Charger",
          "DOT Municipal Level 2 Charger",
          "DOT Municipal Level 3 Charger",
          "DOT Municipal Level 2 Charger",
          "DOT Municipal Level 3 Charger",
          "DOT Municipal Level 2 Charger",
          "DOT Municipal Level 2 Charger"
         ],
         "lat": [
          40.712377,
          40.712377,
          40.712377,
          40.713329,
          40.712377,
          40.712377,
          40.712377,
          40.745042,
          40.745042,
          40.745042,
          40.745095,
          40.745095,
          40.778421,
          40.778421,
          40.778421,
          40.693916,
          40.693916,
          40.694094,
          40.662964,
          40.734606,
          40.734606,
          40.734606,
          40.734606,
          40.734606,
          40.734606,
          40.734606,
          40.734606,
          40.734606,
          40.73698,
          40.73698,
          40.73698,
          40.73698,
          40.734606,
          40.73698,
          40.735229,
          40.735229,
          40.735229,
          40.766974,
          40.703128,
          40.703128,
          40.703128,
          40.703128,
          40.703128,
          40.703128,
          40.703128,
          40.793864,
          40.793864,
          40.719651,
          40.662964,
          40.662964,
          40.662964,
          40.662964,
          40.703128,
          40.790301,
          40.790301,
          40.790301,
          40.790301,
          40.790301,
          40.793765,
          40.790985,
          40.790576,
          40.788899,
          40.788899,
          40.790976,
          40.794577,
          40.710935,
          40.788432,
          40.788899,
          40.788899,
          40.770185,
          40.715389,
          40.715389,
          40.715389,
          40.679639,
          40.679639,
          40.684142,
          40.740724,
          40.746088,
          40.749384,
          40.743237,
          40.743237,
          40.743237,
          40.770185,
          40.668235,
          40.749384,
          40.749384,
          40.749384,
          40.749384,
          40.749384,
          40.749384,
          40.749384,
          40.749341,
          40.749384,
          40.749384,
          40.749384,
          40.749384,
          40.743099,
          40.749384,
          40.734714,
          40.73466,
          40.737775,
          40.737775,
          40.72441,
          40.752701,
          40.752701,
          40.752701,
          40.79419,
          40.709174,
          40.709174,
          40.764102,
          40.764388,
          40.754395,
          40.75008,
          40.764388,
          40.764388,
          40.722386,
          40.722361,
          40.722361,
          40.673779,
          40.673779,
          40.673779,
          40.673779,
          40.744537,
          40.744537,
          40.744537,
          40.744537,
          40.753928,
          40.753928,
          40.754021,
          40.754021,
          40.754021,
          40.754021,
          40.753928,
          40.754021,
          40.753928,
          40.751616,
          40.751616,
          40.751616,
          40.681158,
          40.702998,
          40.702998,
          40.701545,
          40.753521,
          40.793297,
          40.73087,
          40.696323,
          40.696323,
          40.752161,
          40.710954,
          40.710954,
          40.710954,
          40.710954,
          40.753562,
          40.753562,
          40.753562,
          40.753562,
          40.686284,
          40.686284,
          40.702376,
          40.754021,
          40.730929,
          40.730929,
          40.730929,
          40.730929,
          40.725107,
          40.728776,
          40.728776,
          40.730954,
          40.752164,
          40.752164,
          40.752164,
          40.752164,
          40.752164,
          40.752442,
          40.752442,
          40.754021,
          40.750369,
          40.752164,
          40.751876,
          40.751876,
          40.751876,
          40.751876,
          40.752164,
          40.752164,
          40.752167,
          40.752167,
          40.752167,
          40.751876,
          40.751876,
          40.751876,
          40.751876,
          40.751876,
          40.751876,
          40.751876,
          40.752167,
          40.752167,
          40.752161,
          40.752161,
          40.752161,
          40.752161,
          40.752161,
          40.752161,
          40.752161,
          40.752161,
          40.710954,
          40.74913,
          40.751136,
          40.701474,
          40.701474,
          40.742377,
          40.742377,
          40.595127,
          40.593116,
          40.590278,
          40.584396,
          40.584972,
          40.583177,
          40.792442,
          40.794148,
          40.760974,
          40.734883,
          40.734883,
          40.734883,
          40.734883,
          40.734883,
          40.734883,
          40.734883,
          40.734883,
          40.734883,
          40.734883,
          40.734883,
          40.734883,
          40.762336,
          40.762336,
          40.734957,
          40.734883,
          40.734883,
          40.734883,
          40.734883,
          40.720249,
          40.720249,
          40.769692,
          40.769692,
          40.770849,
          40.770849,
          40.770849,
          40.69657,
          40.696682,
          40.69657,
          40.664778,
          40.664629,
          40.664629,
          40.597844,
          40.597844,
          40.597844,
          40.597844,
          40.735462,
          40.735462,
          40.735462,
          40.735462,
          40.735462,
          40.735462,
          40.735462,
          40.735462,
          40.735462,
          40.735462,
          40.734883,
          40.740165,
          40.740165,
          40.740165,
          40.740126,
          40.793414,
          40.79273,
          40.79314,
          40.79314,
          40.736818,
          40.736818,
          40.708578,
          40.760888,
          40.699311,
          40.699311,
          40.682344,
          40.7301,
          40.722429,
          40.679976,
          40.769581,
          40.75656,
          40.705661,
          40.705661,
          40.736834,
          40.736834,
          40.736834,
          40.736834,
          40.736834,
          40.736834,
          40.736834,
          40.736834,
          40.736834,
          40.736834,
          40.76822,
          40.768682,
          40.768682,
          40.768682,
          40.733733,
          40.733733,
          40.702193,
          40.702193,
          40.762286,
          40.657122,
          40.657122,
          40.657122,
          40.657122,
          40.657122,
          40.657122,
          40.726329,
          40.762473,
          40.762473,
          40.772829,
          40.772829,
          40.734205,
          40.713639,
          40.717155,
          40.764199,
          40.764199,
          40.764199,
          40.768295,
          40.768295,
          40.768295,
          40.768295,
          40.768295,
          40.768295,
          40.768295,
          40.768295,
          40.768295,
          40.768295,
          40.768295,
          40.768295,
          40.712377,
          40.712377,
          40.72441,
          40.734883,
          40.734883,
          40.734883,
          40.734883,
          40.734883,
          40.734883,
          40.664778,
          40.664778,
          40.664778,
          40.664778,
          40.720249,
          40.734883,
          40.734883,
          40.734883,
          40.734883,
          40.734883,
          40.720249,
          40.720249,
          40.720249,
          40.720249,
          40.720249,
          40.720249,
          40.720249,
          40.707865,
          40.734936,
          40.745815,
          40.745815,
          40.714856,
          40.714856,
          40.701386,
          40.714856
         ],
         "legendgroup": "Queens",
         "lon": [
          -73.892143,
          -73.892143,
          -73.892143,
          -73.828601,
          -73.892143,
          -73.892143,
          -73.892143,
          -73.936191,
          -73.936191,
          -73.936191,
          -73.936635,
          -73.936635,
          -73.894593,
          -73.894593,
          -73.894593,
          -73.787682,
          -73.787682,
          -73.787263,
          -73.806765,
          -73.864774,
          -73.864774,
          -73.864774,
          -73.864774,
          -73.864774,
          -73.864774,
          -73.864774,
          -73.864774,
          -73.864774,
          -73.864625,
          -73.864625,
          -73.864625,
          -73.864625,
          -73.864774,
          -73.864625,
          -73.865098,
          -73.865098,
          -73.865098,
          -73.835301,
          -73.77772,
          -73.77772,
          -73.77772,
          -73.77772,
          -73.77772,
          -73.77772,
          -73.77772,
          -73.840525,
          -73.840525,
          -73.91119,
          -73.806765,
          -73.806765,
          -73.806765,
          -73.806765,
          -73.77772,
          -73.884412,
          -73.884412,
          -73.884412,
          -73.884412,
          -73.884412,
          -73.884156,
          -73.884396,
          -73.881894,
          -73.884411,
          -73.884411,
          -73.884374,
          -73.884162,
          -73.831627,
          -73.884444,
          -73.884411,
          -73.884411,
          -73.832925,
          -73.800369,
          -73.800369,
          -73.800369,
          -73.837298,
          -73.837298,
          -73.801479,
          -73.79283,
          -73.727535,
          -73.952233,
          -73.953941,
          -73.953941,
          -73.953941,
          -73.832925,
          -73.756839,
          -73.952233,
          -73.952233,
          -73.952233,
          -73.952233,
          -73.952233,
          -73.952233,
          -73.952233,
          -73.954023,
          -73.952233,
          -73.952233,
          -73.952233,
          -73.952233,
          -73.953992,
          -73.952233,
          -73.93697,
          -73.93711,
          -73.938082,
          -73.938082,
          -73.914492,
          -73.942118,
          -73.942118,
          -73.942118,
          -73.77855,
          -73.854849,
          -73.854849,
          -73.842217,
          -73.842368,
          -73.94923,
          -73.938208,
          -73.842368,
          -73.842368,
          -73.910043,
          -73.912677,
          -73.912677,
          -73.847565,
          -73.847565,
          -73.847565,
          -73.847565,
          -73.930602,
          -73.930602,
          -73.930602,
          -73.930602,
          -73.838823,
          -73.838823,
          -73.838509,
          -73.838509,
          -73.838509,
          -73.838509,
          -73.838823,
          -73.838509,
          -73.838823,
          -73.834155,
          -73.834155,
          -73.834155,
          -73.787784,
          -73.868023,
          -73.868023,
          -73.858223,
          -73.947412,
          -73.777047,
          -73.925175,
          -73.866356,
          -73.866356,
          -73.849609,
          -73.835147,
          -73.835147,
          -73.835147,
          -73.835147,
          -73.947466,
          -73.947466,
          -73.947466,
          -73.947466,
          -73.768455,
          -73.768455,
          -73.803607,
          -73.838509,
          -73.774773,
          -73.774773,
          -73.774773,
          -73.774773,
          -73.771463,
          -73.764505,
          -73.764505,
          -73.77464,
          -73.84963,
          -73.84963,
          -73.84963,
          -73.84963,
          -73.84963,
          -73.837885,
          -73.837885,
          -73.838509,
          -73.940301,
          -73.84963,
          -73.849331,
          -73.849331,
          -73.849331,
          -73.849331,
          -73.84963,
          -73.84963,
          -73.849641,
          -73.849641,
          -73.849641,
          -73.849331,
          -73.849331,
          -73.849331,
          -73.849331,
          -73.849331,
          -73.849331,
          -73.849331,
          -73.849641,
          -73.849641,
          -73.849609,
          -73.849609,
          -73.849609,
          -73.849609,
          -73.849609,
          -73.849609,
          -73.849609,
          -73.849609,
          -73.835147,
          -73.861966,
          -73.94204,
          -73.858238,
          -73.858238,
          -73.842157,
          -73.842157,
          -73.750371,
          -73.762539,
          -73.786049,
          -73.813149,
          -73.810876,
          -73.817764,
          -73.777563,
          -73.775415,
          -73.857649,
          -73.909957,
          -73.909957,
          -73.909957,
          -73.909957,
          -73.909957,
          -73.909957,
          -73.909957,
          -73.909957,
          -73.909957,
          -73.909957,
          -73.909957,
          -73.909957,
          -73.934464,
          -73.934464,
          -73.909719,
          -73.909957,
          -73.909957,
          -73.909957,
          -73.909957,
          -73.922845,
          -73.922845,
          -73.847197,
          -73.847197,
          -73.846552,
          -73.846552,
          -73.846552,
          -73.816405,
          -73.81595,
          -73.816405,
          -73.810159,
          -73.784675,
          -73.784675,
          -73.782485,
          -73.782485,
          -73.782485,
          -73.782485,
          -73.909675,
          -73.909675,
          -73.909675,
          -73.909675,
          -73.909675,
          -73.909675,
          -73.909675,
          -73.909675,
          -73.909675,
          -73.909675,
          -73.909957,
          -73.930693,
          -73.930693,
          -73.930693,
          -73.9307,
          -73.775096,
          -73.777616,
          -73.777925,
          -73.777925,
          -73.939753,
          -73.939753,
          -73.790579,
          -73.935819,
          -73.83157,
          -73.83157,
          -73.840046,
          -73.810908,
          -73.850982,
          -73.776214,
          -73.915593,
          -73.87593,
          -73.79211,
          -73.79211,
          -73.906426,
          -73.906426,
          -73.906426,
          -73.906426,
          -73.906426,
          -73.906426,
          -73.906426,
          -73.906426,
          -73.906426,
          -73.906426,
          -73.840605,
          -73.841095,
          -73.841095,
          -73.841095,
          -73.91054,
          -73.91054,
          -73.804192,
          -73.804192,
          -73.827436,
          -73.771566,
          -73.771566,
          -73.771566,
          -73.771566,
          -73.771566,
          -73.771566,
          -73.734788,
          -73.835496,
          -73.835496,
          -73.838857,
          -73.838857,
          -73.910298,
          -73.917886,
          -73.805825,
          -73.902694,
          -73.902694,
          -73.902694,
          -73.845753,
          -73.845753,
          -73.845753,
          -73.845753,
          -73.845753,
          -73.845753,
          -73.845753,
          -73.845753,
          -73.845753,
          -73.845753,
          -73.845753,
          -73.845753,
          -73.892143,
          -73.892143,
          -73.914492,
          -73.909957,
          -73.909957,
          -73.909957,
          -73.909957,
          -73.909957,
          -73.909957,
          -73.810159,
          -73.810159,
          -73.810159,
          -73.810159,
          -73.922845,
          -73.909957,
          -73.909957,
          -73.909957,
          -73.909957,
          -73.909957,
          -73.922845,
          -73.922845,
          -73.922845,
          -73.922845,
          -73.922845,
          -73.922845,
          -73.922845,
          -73.795295,
          -73.755509,
          -73.943549,
          -73.943549,
          -73.82705,
          -73.82705,
          -73.80374,
          -73.82705
         ],
         "marker": {
          "color": "#ab63fa"
         },
         "mode": "markers",
         "name": "Queens",
         "showlegend": true,
         "subplot": "mapbox",
         "type": "scattermapbox"
        },
        {
         "hovertemplate": "<b>%{hovertext}</b><br><br>BOROUGH=Bronx<br>LATITUDE=%{lat}<br>LONGITUDE=%{lon}<extra></extra>",
         "hovertext": [
          "Level 2 Charger",
          "Level 2 Charger",
          "EV Solar Arc Charger",
          "Level 3 Fast Charger",
          "Level 3 Fast Charger",
          "Level 2 Charger",
          "EV Solar Arc Charger",
          "Level 3 Fast Charger",
          "Level 3 Fast Charger",
          "Level 3 Fast Charger",
          "Level 3 Fast Charger",
          "Level 3 Fast Charger",
          "Level 3 Fast Charger",
          "Level 3 Fast Charger",
          "Level 3 Fast Charger",
          "Level 2 Charger",
          "Level 2 Charger",
          "Level 2 Charger",
          "Level 2 Charger",
          "Level 2 Charger",
          "Level 2 Charger",
          "Level 2 Charger",
          "Level 2 Charger",
          "Level 2 Charger",
          "Level 2 Charger",
          "Level 2 Charger",
          "EV Solar Canopy Charger",
          "EV Solar Canopy Charger",
          "EV Solar Canopy Charger",
          "EV Solar Canopy Charger",
          "EV Solar Canopy Charger",
          "EV Solar Canopy Charger",
          "EV Solar Arc Charger",
          "Level 2 Charger",
          "Level 2 Charger",
          "Level 2 Charger",
          "Level 2 Charger",
          "Level 2 Charger",
          "Level 2 Charger",
          "EV Solar Arc Charger",
          "Level 2 Charger",
          "Level 2 Charger",
          "Level 2 Charger",
          "Level 2 Charger",
          "Level 2 Charger",
          "Level 3 Fast Charger",
          "Level 3 Fast Charger",
          "Level 3 Fast Charger",
          "Level 2 Charger",
          "Level 3 Fast Charger",
          "Level 3 Fast Charger",
          "EV Solar Arc Charger",
          "Level 2 Charger",
          "Level 2 Charger",
          "Level 2 Charger",
          "Level 2 Charger",
          "Level 2 Charger",
          "Level 2 Charger",
          "Level 2 Charger",
          "Level 2 Charger",
          "Level 2 Charger",
          "Level 2 Charger",
          "Level 2 Charger",
          "EV Solar Arc Charger",
          "Level 2 Charger",
          "Level 2 Charger",
          "Level 3 Fast Charger",
          "Level 2 Charger",
          "EV Solar Arc Charger",
          "EV Solar Arc Charger",
          "EV Solar Arc Charger",
          "EV Solar Arc Charger",
          "EV Solar Arc Charger",
          "EV Solar Arc Charger",
          "Level 2 Charger",
          "Level 2 Charger",
          "Level 2 Charger",
          "Level 2 Charger",
          "Level 2 Charger",
          "Level 2 Charger",
          "Level 2 Charger",
          "Level 2 Charger",
          "Level 2 Charger",
          "Level 2 Charger",
          "EV Solar Arc Charger",
          "EV Solar Arc Charger",
          "EV Solar Arc Charger",
          "Level 2 Charger",
          "Level 2 Charger",
          "Level 2 Charger",
          "Level 2 Charger",
          "Level 2 Charger",
          "Level 2 Charger",
          "Level 2 Charger",
          "Level 2 Charger",
          "Level 2 Charger",
          "Level 2 Charger",
          "Level 2 Charger",
          "Level 2 Charger",
          "Level 2 Charger",
          "Level 2 Charger",
          "Level 2 Charger",
          "Level 2 Charger",
          "Level 2 Charger",
          "Level 2 Charger",
          "Level 2 Charger",
          "Level 2 Charger",
          "Level 2 Charger",
          "Level 2 Charger",
          "EV Solar Arc Charger",
          "Level 2 Charger",
          "Level 2 Charger",
          "Level 2 Charger",
          "Level 2 Charger",
          "Level 2 Charger",
          "Level 2 Charger",
          "Level 2 Charger",
          "Level 2 Charger",
          "Level 2 Charger",
          "Level 2 Charger",
          "Level 2 Charger",
          "Level 2 Charger",
          "Level 2 Charger",
          "Level 2 Charger",
          "Level 2 Charger",
          "Level 3 Fast Charger",
          "Level 3 Fast Charger",
          "Level 2 Charger",
          "Level 3 Fast Charger",
          "Level 3 Fast Charger",
          "Level 2 Charger",
          "Level 2 Charger",
          "EV Solar Arc Charger",
          "EV Solar Arc Charger",
          "EV Solar Arc Charger",
          "Level 2 Charger",
          "Level 2 Charger",
          "Level 2 Charger",
          "Level 2 Charger",
          "DOT Municipal Level 2 Charger"
         ],
         "lat": [
          40.887018,
          40.827109,
          40.877534,
          40.887018,
          40.887018,
          40.887018,
          40.887018,
          40.804827,
          40.804827,
          40.804827,
          40.804827,
          40.804827,
          40.804827,
          40.877534,
          40.877917,
          40.879456,
          40.804742,
          40.804742,
          40.752194,
          40.793705,
          40.788899,
          40.790301,
          40.790976,
          40.790985,
          40.790312,
          40.790301,
          40.79368,
          40.79368,
          40.79368,
          40.79368,
          40.79368,
          40.79368,
          40.802228,
          40.804859,
          40.790301,
          40.83587,
          40.877537,
          40.840733,
          40.877105,
          40.876606,
          40.807335,
          40.830589,
          40.87759,
          40.833586,
          40.833586,
          40.880471,
          40.853544,
          40.853544,
          40.842206,
          40.803141,
          40.803141,
          40.833338,
          40.841369,
          40.803141,
          40.803141,
          40.803059,
          40.803059,
          40.803059,
          40.803059,
          40.803059,
          40.803059,
          40.803059,
          40.803059,
          40.82064,
          40.848615,
          40.848615,
          40.847311,
          40.833338,
          40.884065,
          40.895835,
          40.904759,
          40.904759,
          40.848118,
          40.848118,
          40.847311,
          40.847311,
          40.847311,
          40.847311,
          40.845802,
          40.845802,
          40.845802,
          40.845802,
          40.845802,
          40.845802,
          40.853828,
          40.853828,
          40.853828,
          40.847311,
          40.847311,
          40.847311,
          40.847311,
          40.819343,
          40.839498,
          40.812786,
          40.839273,
          40.842053,
          40.842053,
          40.842053,
          40.825144,
          40.888188,
          40.888188,
          40.888188,
          40.888188,
          40.839498,
          40.835683,
          40.842053,
          40.836086,
          40.818987,
          40.846206,
          40.825243,
          40.810347,
          40.816198,
          40.816198,
          40.908297,
          40.908297,
          40.908297,
          40.830714,
          40.887306,
          40.887306,
          40.887306,
          40.887306,
          40.887306,
          40.887306,
          40.820729,
          40.820729,
          40.855351,
          40.855351,
          40.840261,
          40.841527,
          40.841527,
          40.837181,
          40.856047,
          40.84707,
          40.84707,
          40.84707,
          40.829823,
          40.829823,
          40.829823,
          40.829823,
          40.863249
         ],
         "legendgroup": "Bronx",
         "lon": [
          -73.878095,
          -73.843596,
          -73.887189,
          -73.878095,
          -73.878095,
          -73.878095,
          -73.878095,
          -73.884759,
          -73.884759,
          -73.884759,
          -73.884759,
          -73.884759,
          -73.884759,
          -73.887189,
          -73.892251,
          -73.885016,
          -73.885322,
          -73.885322,
          -73.842964,
          -73.884157,
          -73.884411,
          -73.884412,
          -73.884374,
          -73.884396,
          -73.884412,
          -73.884412,
          -73.884139,
          -73.884139,
          -73.884139,
          -73.884139,
          -73.884139,
          -73.884139,
          -73.877557,
          -73.884531,
          -73.884412,
          -73.825774,
          -73.890921,
          -73.838685,
          -73.912256,
          -73.912839,
          -73.912731,
          -73.887587,
          -73.89104,
          -73.845099,
          -73.845099,
          -73.821784,
          -73.897301,
          -73.897301,
          -73.844168,
          -73.909049,
          -73.909049,
          -73.883614,
          -73.897872,
          -73.909049,
          -73.909049,
          -73.908904,
          -73.908904,
          -73.908904,
          -73.908904,
          -73.908904,
          -73.908904,
          -73.908904,
          -73.908904,
          -73.931104,
          -73.868576,
          -73.868576,
          -73.870827,
          -73.883614,
          -73.901217,
          -73.892345,
          -73.896715,
          -73.896715,
          -73.821238,
          -73.821238,
          -73.870827,
          -73.870827,
          -73.870827,
          -73.870827,
          -73.868694,
          -73.868694,
          -73.868694,
          -73.868694,
          -73.868694,
          -73.868694,
          -73.827513,
          -73.827513,
          -73.827513,
          -73.870827,
          -73.870827,
          -73.870827,
          -73.870827,
          -73.878396,
          -73.90231,
          -73.889857,
          -73.920629,
          -73.889504,
          -73.889504,
          -73.889504,
          -73.843139,
          -73.826903,
          -73.826903,
          -73.826903,
          -73.826903,
          -73.90231,
          -73.882143,
          -73.889504,
          -73.882066,
          -73.928909,
          -73.899394,
          -73.867481,
          -73.924941,
          -73.896,
          -73.896,
          -73.853698,
          -73.853698,
          -73.853698,
          -73.827125,
          -73.84727,
          -73.84727,
          -73.84727,
          -73.84727,
          -73.84727,
          -73.84727,
          -73.915665,
          -73.915665,
          -73.801579,
          -73.801579,
          -73.928514,
          -73.87232,
          -73.87232,
          -73.920451,
          -73.843944,
          -73.895984,
          -73.895984,
          -73.895984,
          -73.844707,
          -73.844707,
          -73.844707,
          -73.844707,
          -73.90068
         ],
         "marker": {
          "color": "#FFA15A"
         },
         "mode": "markers",
         "name": "Bronx",
         "showlegend": true,
         "subplot": "mapbox",
         "type": "scattermapbox"
        }
       ],
       "layout": {
        "legend": {
         "title": {
          "text": "BOROUGH"
         },
         "tracegroupgap": 0
        },
        "mapbox": {
         "center": {
          "lat": 40.72623973552983,
          "lon": -73.93292074799643
         },
         "domain": {
          "x": [
           0,
           1
          ],
          "y": [
           0,
           1
          ]
         },
         "style": "carto-positron",
         "zoom": 8
        },
        "margin": {
         "b": 0,
         "l": 0,
         "r": 0,
         "t": 50
        },
        "template": {
         "data": {
          "bar": [
           {
            "error_x": {
             "color": "#2a3f5f"
            },
            "error_y": {
             "color": "#2a3f5f"
            },
            "marker": {
             "line": {
              "color": "#E5ECF6",
              "width": 0.5
             },
             "pattern": {
              "fillmode": "overlay",
              "size": 10,
              "solidity": 0.2
             }
            },
            "type": "bar"
           }
          ],
          "barpolar": [
           {
            "marker": {
             "line": {
              "color": "#E5ECF6",
              "width": 0.5
             },
             "pattern": {
              "fillmode": "overlay",
              "size": 10,
              "solidity": 0.2
             }
            },
            "type": "barpolar"
           }
          ],
          "carpet": [
           {
            "aaxis": {
             "endlinecolor": "#2a3f5f",
             "gridcolor": "white",
             "linecolor": "white",
             "minorgridcolor": "white",
             "startlinecolor": "#2a3f5f"
            },
            "baxis": {
             "endlinecolor": "#2a3f5f",
             "gridcolor": "white",
             "linecolor": "white",
             "minorgridcolor": "white",
             "startlinecolor": "#2a3f5f"
            },
            "type": "carpet"
           }
          ],
          "choropleth": [
           {
            "colorbar": {
             "outlinewidth": 0,
             "ticks": ""
            },
            "type": "choropleth"
           }
          ],
          "contour": [
           {
            "colorbar": {
             "outlinewidth": 0,
             "ticks": ""
            },
            "colorscale": [
             [
              0,
              "#0d0887"
             ],
             [
              0.1111111111111111,
              "#46039f"
             ],
             [
              0.2222222222222222,
              "#7201a8"
             ],
             [
              0.3333333333333333,
              "#9c179e"
             ],
             [
              0.4444444444444444,
              "#bd3786"
             ],
             [
              0.5555555555555556,
              "#d8576b"
             ],
             [
              0.6666666666666666,
              "#ed7953"
             ],
             [
              0.7777777777777778,
              "#fb9f3a"
             ],
             [
              0.8888888888888888,
              "#fdca26"
             ],
             [
              1,
              "#f0f921"
             ]
            ],
            "type": "contour"
           }
          ],
          "contourcarpet": [
           {
            "colorbar": {
             "outlinewidth": 0,
             "ticks": ""
            },
            "type": "contourcarpet"
           }
          ],
          "heatmap": [
           {
            "colorbar": {
             "outlinewidth": 0,
             "ticks": ""
            },
            "colorscale": [
             [
              0,
              "#0d0887"
             ],
             [
              0.1111111111111111,
              "#46039f"
             ],
             [
              0.2222222222222222,
              "#7201a8"
             ],
             [
              0.3333333333333333,
              "#9c179e"
             ],
             [
              0.4444444444444444,
              "#bd3786"
             ],
             [
              0.5555555555555556,
              "#d8576b"
             ],
             [
              0.6666666666666666,
              "#ed7953"
             ],
             [
              0.7777777777777778,
              "#fb9f3a"
             ],
             [
              0.8888888888888888,
              "#fdca26"
             ],
             [
              1,
              "#f0f921"
             ]
            ],
            "type": "heatmap"
           }
          ],
          "heatmapgl": [
           {
            "colorbar": {
             "outlinewidth": 0,
             "ticks": ""
            },
            "colorscale": [
             [
              0,
              "#0d0887"
             ],
             [
              0.1111111111111111,
              "#46039f"
             ],
             [
              0.2222222222222222,
              "#7201a8"
             ],
             [
              0.3333333333333333,
              "#9c179e"
             ],
             [
              0.4444444444444444,
              "#bd3786"
             ],
             [
              0.5555555555555556,
              "#d8576b"
             ],
             [
              0.6666666666666666,
              "#ed7953"
             ],
             [
              0.7777777777777778,
              "#fb9f3a"
             ],
             [
              0.8888888888888888,
              "#fdca26"
             ],
             [
              1,
              "#f0f921"
             ]
            ],
            "type": "heatmapgl"
           }
          ],
          "histogram": [
           {
            "marker": {
             "pattern": {
              "fillmode": "overlay",
              "size": 10,
              "solidity": 0.2
             }
            },
            "type": "histogram"
           }
          ],
          "histogram2d": [
           {
            "colorbar": {
             "outlinewidth": 0,
             "ticks": ""
            },
            "colorscale": [
             [
              0,
              "#0d0887"
             ],
             [
              0.1111111111111111,
              "#46039f"
             ],
             [
              0.2222222222222222,
              "#7201a8"
             ],
             [
              0.3333333333333333,
              "#9c179e"
             ],
             [
              0.4444444444444444,
              "#bd3786"
             ],
             [
              0.5555555555555556,
              "#d8576b"
             ],
             [
              0.6666666666666666,
              "#ed7953"
             ],
             [
              0.7777777777777778,
              "#fb9f3a"
             ],
             [
              0.8888888888888888,
              "#fdca26"
             ],
             [
              1,
              "#f0f921"
             ]
            ],
            "type": "histogram2d"
           }
          ],
          "histogram2dcontour": [
           {
            "colorbar": {
             "outlinewidth": 0,
             "ticks": ""
            },
            "colorscale": [
             [
              0,
              "#0d0887"
             ],
             [
              0.1111111111111111,
              "#46039f"
             ],
             [
              0.2222222222222222,
              "#7201a8"
             ],
             [
              0.3333333333333333,
              "#9c179e"
             ],
             [
              0.4444444444444444,
              "#bd3786"
             ],
             [
              0.5555555555555556,
              "#d8576b"
             ],
             [
              0.6666666666666666,
              "#ed7953"
             ],
             [
              0.7777777777777778,
              "#fb9f3a"
             ],
             [
              0.8888888888888888,
              "#fdca26"
             ],
             [
              1,
              "#f0f921"
             ]
            ],
            "type": "histogram2dcontour"
           }
          ],
          "mesh3d": [
           {
            "colorbar": {
             "outlinewidth": 0,
             "ticks": ""
            },
            "type": "mesh3d"
           }
          ],
          "parcoords": [
           {
            "line": {
             "colorbar": {
              "outlinewidth": 0,
              "ticks": ""
             }
            },
            "type": "parcoords"
           }
          ],
          "pie": [
           {
            "automargin": true,
            "type": "pie"
           }
          ],
          "scatter": [
           {
            "fillpattern": {
             "fillmode": "overlay",
             "size": 10,
             "solidity": 0.2
            },
            "type": "scatter"
           }
          ],
          "scatter3d": [
           {
            "line": {
             "colorbar": {
              "outlinewidth": 0,
              "ticks": ""
             }
            },
            "marker": {
             "colorbar": {
              "outlinewidth": 0,
              "ticks": ""
             }
            },
            "type": "scatter3d"
           }
          ],
          "scattercarpet": [
           {
            "marker": {
             "colorbar": {
              "outlinewidth": 0,
              "ticks": ""
             }
            },
            "type": "scattercarpet"
           }
          ],
          "scattergeo": [
           {
            "marker": {
             "colorbar": {
              "outlinewidth": 0,
              "ticks": ""
             }
            },
            "type": "scattergeo"
           }
          ],
          "scattergl": [
           {
            "marker": {
             "colorbar": {
              "outlinewidth": 0,
              "ticks": ""
             }
            },
            "type": "scattergl"
           }
          ],
          "scattermapbox": [
           {
            "marker": {
             "colorbar": {
              "outlinewidth": 0,
              "ticks": ""
             }
            },
            "type": "scattermapbox"
           }
          ],
          "scatterpolar": [
           {
            "marker": {
             "colorbar": {
              "outlinewidth": 0,
              "ticks": ""
             }
            },
            "type": "scatterpolar"
           }
          ],
          "scatterpolargl": [
           {
            "marker": {
             "colorbar": {
              "outlinewidth": 0,
              "ticks": ""
             }
            },
            "type": "scatterpolargl"
           }
          ],
          "scatterternary": [
           {
            "marker": {
             "colorbar": {
              "outlinewidth": 0,
              "ticks": ""
             }
            },
            "type": "scatterternary"
           }
          ],
          "surface": [
           {
            "colorbar": {
             "outlinewidth": 0,
             "ticks": ""
            },
            "colorscale": [
             [
              0,
              "#0d0887"
             ],
             [
              0.1111111111111111,
              "#46039f"
             ],
             [
              0.2222222222222222,
              "#7201a8"
             ],
             [
              0.3333333333333333,
              "#9c179e"
             ],
             [
              0.4444444444444444,
              "#bd3786"
             ],
             [
              0.5555555555555556,
              "#d8576b"
             ],
             [
              0.6666666666666666,
              "#ed7953"
             ],
             [
              0.7777777777777778,
              "#fb9f3a"
             ],
             [
              0.8888888888888888,
              "#fdca26"
             ],
             [
              1,
              "#f0f921"
             ]
            ],
            "type": "surface"
           }
          ],
          "table": [
           {
            "cells": {
             "fill": {
              "color": "#EBF0F8"
             },
             "line": {
              "color": "white"
             }
            },
            "header": {
             "fill": {
              "color": "#C8D4E3"
             },
             "line": {
              "color": "white"
             }
            },
            "type": "table"
           }
          ]
         },
         "layout": {
          "annotationdefaults": {
           "arrowcolor": "#2a3f5f",
           "arrowhead": 0,
           "arrowwidth": 1
          },
          "autotypenumbers": "strict",
          "coloraxis": {
           "colorbar": {
            "outlinewidth": 0,
            "ticks": ""
           }
          },
          "colorscale": {
           "diverging": [
            [
             0,
             "#8e0152"
            ],
            [
             0.1,
             "#c51b7d"
            ],
            [
             0.2,
             "#de77ae"
            ],
            [
             0.3,
             "#f1b6da"
            ],
            [
             0.4,
             "#fde0ef"
            ],
            [
             0.5,
             "#f7f7f7"
            ],
            [
             0.6,
             "#e6f5d0"
            ],
            [
             0.7,
             "#b8e186"
            ],
            [
             0.8,
             "#7fbc41"
            ],
            [
             0.9,
             "#4d9221"
            ],
            [
             1,
             "#276419"
            ]
           ],
           "sequential": [
            [
             0,
             "#0d0887"
            ],
            [
             0.1111111111111111,
             "#46039f"
            ],
            [
             0.2222222222222222,
             "#7201a8"
            ],
            [
             0.3333333333333333,
             "#9c179e"
            ],
            [
             0.4444444444444444,
             "#bd3786"
            ],
            [
             0.5555555555555556,
             "#d8576b"
            ],
            [
             0.6666666666666666,
             "#ed7953"
            ],
            [
             0.7777777777777778,
             "#fb9f3a"
            ],
            [
             0.8888888888888888,
             "#fdca26"
            ],
            [
             1,
             "#f0f921"
            ]
           ],
           "sequentialminus": [
            [
             0,
             "#0d0887"
            ],
            [
             0.1111111111111111,
             "#46039f"
            ],
            [
             0.2222222222222222,
             "#7201a8"
            ],
            [
             0.3333333333333333,
             "#9c179e"
            ],
            [
             0.4444444444444444,
             "#bd3786"
            ],
            [
             0.5555555555555556,
             "#d8576b"
            ],
            [
             0.6666666666666666,
             "#ed7953"
            ],
            [
             0.7777777777777778,
             "#fb9f3a"
            ],
            [
             0.8888888888888888,
             "#fdca26"
            ],
            [
             1,
             "#f0f921"
            ]
           ]
          },
          "colorway": [
           "#636efa",
           "#EF553B",
           "#00cc96",
           "#ab63fa",
           "#FFA15A",
           "#19d3f3",
           "#FF6692",
           "#B6E880",
           "#FF97FF",
           "#FECB52"
          ],
          "font": {
           "color": "#2a3f5f"
          },
          "geo": {
           "bgcolor": "white",
           "lakecolor": "white",
           "landcolor": "#E5ECF6",
           "showlakes": true,
           "showland": true,
           "subunitcolor": "white"
          },
          "hoverlabel": {
           "align": "left"
          },
          "hovermode": "closest",
          "mapbox": {
           "style": "light"
          },
          "paper_bgcolor": "white",
          "plot_bgcolor": "#E5ECF6",
          "polar": {
           "angularaxis": {
            "gridcolor": "white",
            "linecolor": "white",
            "ticks": ""
           },
           "bgcolor": "#E5ECF6",
           "radialaxis": {
            "gridcolor": "white",
            "linecolor": "white",
            "ticks": ""
           }
          },
          "scene": {
           "xaxis": {
            "backgroundcolor": "#E5ECF6",
            "gridcolor": "white",
            "gridwidth": 2,
            "linecolor": "white",
            "showbackground": true,
            "ticks": "",
            "zerolinecolor": "white"
           },
           "yaxis": {
            "backgroundcolor": "#E5ECF6",
            "gridcolor": "white",
            "gridwidth": 2,
            "linecolor": "white",
            "showbackground": true,
            "ticks": "",
            "zerolinecolor": "white"
           },
           "zaxis": {
            "backgroundcolor": "#E5ECF6",
            "gridcolor": "white",
            "gridwidth": 2,
            "linecolor": "white",
            "showbackground": true,
            "ticks": "",
            "zerolinecolor": "white"
           }
          },
          "shapedefaults": {
           "line": {
            "color": "#2a3f5f"
           }
          },
          "ternary": {
           "aaxis": {
            "gridcolor": "white",
            "linecolor": "white",
            "ticks": ""
           },
           "baxis": {
            "gridcolor": "white",
            "linecolor": "white",
            "ticks": ""
           },
           "bgcolor": "#E5ECF6",
           "caxis": {
            "gridcolor": "white",
            "linecolor": "white",
            "ticks": ""
           }
          },
          "title": {
           "x": 0.05
          },
          "xaxis": {
           "automargin": true,
           "gridcolor": "white",
           "linecolor": "white",
           "ticks": "",
           "title": {
            "standoff": 15
           },
           "zerolinecolor": "white",
           "zerolinewidth": 2
          },
          "yaxis": {
           "automargin": true,
           "gridcolor": "white",
           "linecolor": "white",
           "ticks": "",
           "title": {
            "standoff": 15
           },
           "zerolinecolor": "white",
           "zerolinewidth": 2
          }
         }
        },
        "title": {
         "text": "Geographic Distribution of EV Chargers (Charging Stations) in NYC"
        }
       }
      },
      "image/png": "[encoded data removed]",
      "text/html": [
       "<div>                            <div id=\"288f98f5-af32-4c07-9b8b-14a00a42b725\" class=\"plotly-graph-div\" style=\"height:525px; width:100%;\"></div>            <script type=\"text/javascript\">                require([\"plotly\"], function(Plotly) {                    window.PLOTLYENV=window.PLOTLYENV || {};                                    if (document.getElementById(\"288f98f5-af32-4c07-9b8b-14a00a42b725\")) {                    Plotly.newPlot(                        \"288f98f5-af32-4c07-9b8b-14a00a42b725\",                        [{\"hovertemplate\":\"\\u003cb\\u003e%{hovertext}\\u003c\\u002fb\\u003e\\u003cbr\\u003e\\u003cbr\\u003eBOROUGH=Brooklyn\\u003cbr\\u003eLATITUDE=%{lat}\\u003cbr\\u003eLONGITUDE=%{lon}\\u003cextra\\u003e\\u003c\\u002fextra\\u003e\",\"hovertext\":[\"Level 3 Fast Charger\",\"Level 3 Fast Charger\",\"Level 2 Charger\",\"Level 3 Fast Charger\",\"Level 2 Charger\",\"Level 2 Charger\",\"Level 2 Charger\",\"Level 2 Charger\",\"Level 3 Fast Charger\",\"Level 3 Fast Charger\",\"Level 2 Charger\",\"Level 2 Charger\",\"Level 2 Charger\",\"Level 2 Charger\",\"Level 2 Charger\",\"Level 2 Charger\",\"Level 2 Charger\",\"Level 2 Charger\",\"Level 3 Fast Charger\",\"Level 3 Fast Charger\",\"Level 3 Fast Charger\",\"Level 3 Fast Charger\",\"Level 3 Fast Charger\",\"Level 3 Fast Charger\",\"Level 3 Fast Charger\",\"Level 3 Fast Charger\",\"Level 3 Fast Charger\",\"Level 2 Charger\",\"Level 2 Charger\",\"Level 3 Fast Charger - Boost\",\"Level 3 Fast Charger - Boost\",\"Level 3 Fast Charger\",\"Level 3 Fast Charger\",\"Level 3 Fast Charger\",\"Level 3 Fast Charger\",\"EV Solar Arc Charger\",\"Level 2 Charger\",\"Level 2 Charger\",\"Level 2 Charger\",\"EV Solar Arc Charger\",\"EV Solar Arc Charger\",\"Level 2 Charger\",\"Level 3 Fast Charger\",\"Level 3 Fast Charger\",\"Level 3 Fast Charger\",\"Level 2 Charger\",\"Level 3 Fast Charger\",\"Level 3 Fast Charger\",\"Level 3 Fast Charger\",\"Level 3 Fast Charger\",\"Level 2 Charger\",\"Level 2 Charger\",\"Level 3 Fast Charger\",\"Level 2 Charger\",\"Level 2 Charger\",\"Level 2 Charger\",\"Level 3 Fast Charger\",\"Level 3 Fast Charger\",\"Level 3 Fast Charger\",\"Level 3 Fast Charger\",\"Level 3 Fast Charger\",\"Level 3 Fast Charger\",\"Level 2 Charger\",\"Level 2 Charger\",\"Level 2 Charger\",\"Level 2 Charger\",\"Level 2 Charger\",\"Level 2 Charger\",\"Level 2 Charger\",\"Level 3 Fast Charger\",\"Level 2 Charger\",\"Level 2 Charger\",\"Level 2 Charger\",\"Level 2 Charger\",\"Level 2 Charger\",\"Level 3 Fast Charger\",\"Level 3 Fast Charger\",\"Level 3 Fast Charger\",\"Level 3 Fast Charger\",\"Level 2 Charger\",\"Level 2 Charger\",\"Level 2 Charger\",\"Level 2 Charger\",\"Level 2 Charger\",\"Level 2 Charger\",\"Level 2 Charger\",\"Level 2 Charger\",\"Level 2 Charger\",\"Level 2 Charger\",\"Level 2 Charger\",\"Level 2 Charger\",\"EV Solar Arc Charger\",\"EV Solar Arc Charger\",\"Level 2 Charger\",\"Level 2 Charger\",\"Level 2 Charger\",\"Level 2 Charger\",\"EV Solar Arc Charger\",\"Level 2 Charger\",\"Level 2 Charger\",\"Level 2 Charger\",\"Level 3 Fast Charger\",\"Level 3 Fast Charger\",\"EV Solar Arc Charger\",\"Level 3 Fast Charger\",\"EV Solar Arc Charger\",\"Level 2 Charger\",\"Level 2 Charger\",\"Level 2 Charger\",\"Level 2 Charger\",\"Level 2 Charger\",\"Level 2 Charger\",\"Level 2 Charger\",\"Level 2 Charger\",\"Level 2 Charger\",\"EV Solar Arc Charger\",\"EV Solar Arc Charger\",\"Level 2 Charger\",\"Level 2 Charger\",\"Level 2 Charger\",\"Level 2 Charger\",\"Level 2 Charger\",\"Level 2 Charger\",\"Level 2 Charger\",\"Level 2 Charger\",\"Level 2 Charger\",\"EV Solar Arc Charger\",\"EV Solar Arc Charger\",\"EV Solar Arc Charger\",\"EV Solar Arc Charger\",\"EV Solar Arc Charger\",\"Level 2 Charger\",\"Level 2 Charger\",\"Level 2 Charger\",\"Level 2 Charger\",\"Level 2 Charger\",\"Level 2 Charger\",\"Level 2 Charger\",\"Level 2 Charger\",\"Level 2 Charger\",\"EV Solar Arc Charger\",\"EV Solar Arc Charger\",\"Level 2 Charger\",\"Level 3 Fast Charger\",\"Level 2 Charger\",\"Level 2 Charger\",\"Level 2 Charger\",\"Level 2 Charger\",\"Level 2 Charger\",\"Level 2 Charger\",\"Level 2 Charger\",\"Level 2 Charger\",\"Level 2 Charger\",\"Level 2 Charger\",\"Level 2 Charger\",\"EV Solar Arc Charger\",\"EV Solar Arc Charger\",\"EV Solar Arc Charger\",\"EV Solar Arc Charger\",\"EV Solar Arc Charger\",\"EV Solar Arc Charger\",\"EV Solar Arc Charger\",\"Level 2 Charger\",\"Level 2 Charger\",\"Level 3 Fast Charger\",\"Level 3 Fast Charger\",\"Level 2 Charger\",\"Level 2 Charger\",\"Level 3 Fast Charger\",\"Level 2 Charger\",\"Level 2 Charger\",\"Level 3 Fast Charger\",\"Level 3 Fast Charger\",\"Level 2 Charger\",\"Level 2 Charger\",\"Level 2 Charger\",\"Level 2 Charger\",\"EV Solar Arc Charger\",\"EV Solar Arc Charger\",\"EV Solar Arc Charger\",\"Level 2 Charger\",\"Level 2 Charger\",\"Level 2 Charger\",\"Level 2 Charger\",\"Level 2 Charger\",\"Level 2 Charger\",\"Level 2 Charger\",\"Level 2 Charger\",\"Level 2 Charger\",\"Level 2 Charger\",\"Level 2 Charger\",\"Level 2 Charger\",\"Level 2 Charger\",\"Level 2 Charger\",\"Level 3 Fast Charger\",\"Level 3 Fast Charger\",\"Level 3 Fast Charger\",\"Level 3 Fast Charger\",\"Level 2 Charger\",\"Level 2 Charger\",\"Level 2 Charger\",\"EV Solar Arc Charger\",\"EV Solar Arc Charger\",\"Level 2 Charger\",\"Level 2 Charger\",\"Level 2 Charger\",\"Level 2 Charger\",\"Level 2 Charger\",\"Level 2 Charger\",\"Level 2 Charger\",\"Level 3 Fast Charger\",\"Level 3 Fast Charger\",\"Level 2 Charger\",\"Level 2 Charger\",\"Level 3 Fast Charger\",\"Level 3 Fast Charger\",\"Level 3 Fast Charger\",\"Level 3 Fast Charger\",\"Level 2 Charger\",\"Level 2 Charger\",\"Level 2 Charger\",\"Level 2 Charger\",\"EV Solar Arc Charger\",\"EV Solar Arc Charger\",\"Level 2 Charger\",\"Level 2 Charger\",\"Level 2 Charger\",\"Level 3 Fast Charger\",\"Level 3 Fast Charger\",\"Level 3 Fast Charger\",\"Level 2 Charger\",\"Level 2 Charger\",\"Level 2 Charger\",\"Level 2 Charger\",\"EV Solar Arc Charger\",\"Level 2 Charger\",\"Level 3 Fast Charger\",\"Level 3 Fast Charger\",\"EV Solar Arc Charger\",\"EV Solar Arc Charger\",\"EV Solar Arc Charger\",\"EV Solar Arc Charger\",\"Level 2 Charger\",\"Level 2 Charger\",\"Level 2 Charger\",\"Level 2 Charger\",\"Level 2 Charger\",\"Level 2 Charger\",\"Level 2 Charger\",\"Level 2 Charger\",\"Level 3 Fast Charger\",\"Level 3 Fast Charger\",\"Level 2 Charger\",\"Level 2 Charger\",\"Level 2 Charger\",\"Level 2 Charger\",\"Level 2 Charger\",\"Level 2 Charger\",\"Level 2 Charger\",\"Level 2 Charger\",\"Level 2 Charger\"],\"lat\":[40.668034,40.668034,40.668034,40.70061,40.711246,40.711246,40.711246,40.711246,40.711246,40.711246,40.70061,40.70061,40.70061,40.70061,40.70061,40.592214,40.654817,40.654817,40.648214,40.654817,40.654817,40.654817,40.654817,40.654817,40.654817,40.654817,40.654817,40.694275,40.694275,40.694275,40.694275,40.646913,40.646913,40.646913,40.646913,40.724702,40.681639,40.705517,40.731483,40.730718,40.730718,40.6418,40.6418,40.6418,40.631422,40.69802,40.69802,40.69802,40.69834,40.69834,40.631239,40.730973,40.592085,40.731272,40.731272,40.731272,40.731351,40.731272,40.731272,40.731272,40.731272,40.731272,40.731483,40.731483,40.731483,40.731483,40.731483,40.731483,40.731483,40.71663,40.71663,40.71663,40.648081,40.648081,40.648081,40.648081,40.648081,40.648081,40.648081,40.690743,40.690743,40.65911,40.67944,40.655179,40.633285,40.711722,40.721981,40.612623,40.578188,40.578188,40.677969,40.685146,40.661018,40.670361,40.645338,40.686448,40.686039,40.589157,40.711965,40.711965,40.711965,40.64085,40.70904,40.633144,40.633452,40.70138,40.605116,40.664987,40.665253,40.664701,40.664701,40.664701,40.664701,40.664701,40.664701,40.635668,40.636143,40.67671,40.578084,40.577846,40.647324,40.667391,40.667391,40.693999,40.720795,40.717655,40.587383,40.587383,40.587383,40.600248,40.600248,40.667391,40.667391,40.667391,40.667391,40.667391,40.667391,40.667391,40.649009,40.649009,40.664987,40.664987,40.711118,40.711118,40.708726,40.711118,40.711118,40.660832,40.671308,40.671308,40.649977,40.67669,40.657155,40.649977,40.591314,40.591314,40.591314,40.591314,40.591314,40.622889,40.622889,40.578665,40.642674,40.592214,40.654488,40.654488,40.653831,40.653831,40.653831,40.627727,40.627727,40.627727,40.627727,40.708726,40.669156,40.654363,40.653513,40.591839,40.591839,40.591839,40.71307,40.664595,40.663276,40.646985,40.69486,40.69486,40.69486,40.69486,40.69486,40.69486,40.69486,40.69486,40.69486,40.586579,40.669676,40.669676,40.699927,40.699927,40.738096,40.738096,40.738096,40.672807,40.656695,40.602329,40.625843,40.648867,40.638827,40.638827,40.648606,40.648606,40.664113,40.664113,40.664113,40.664113,40.65815,40.65815,40.671122,40.671122,40.689456,40.689456,40.698466,40.7063,40.588627,40.588627,40.600248,40.600248,40.600248,40.576884,40.70226,40.70226,40.576822,40.59445,40.65815,40.670653,40.667954,40.657723,40.698761,40.698761,40.699502,40.699502,40.698761,40.698761,40.698761,40.698761,40.698761,40.698761,40.698761,40.698761,40.698761,40.698761,40.702555,40.702555,40.685654,40.685654,40.711118,40.660832,40.660832,40.622889,40.664595,40.664595,40.702555],\"legendgroup\":\"Brooklyn\",\"lon\":[-73.869949,-73.869949,-73.869949,-73.98042,-73.968348,-73.968348,-73.968348,-73.968348,-73.968348,-73.968348,-73.98042,-73.98042,-73.98042,-73.98042,-73.98042,-73.932546,-73.881479,-73.881479,-73.877613,-73.881479,-73.881479,-73.881479,-73.881479,-73.881479,-73.881479,-73.881479,-73.881479,-73.958854,-73.958854,-73.958854,-73.958854,-73.913395,-73.913395,-73.913395,-73.913395,-73.956934,-73.987684,-73.934242,-73.946271,-73.948891,-73.948891,-74.034055,-74.034055,-74.034055,-73.91852,-73.974986,-73.974986,-73.974986,-73.960921,-73.960921,-73.918502,-73.947675,-73.932521,-73.946848,-73.946848,-73.946848,-73.946628,-73.946848,-73.946848,-73.946848,-73.946848,-73.946848,-73.946271,-73.946271,-73.946271,-73.946271,-73.946271,-73.946271,-73.946271,-73.939205,-73.939205,-73.939205,-73.901772,-73.901772,-73.901772,-73.901772,-73.901772,-73.901772,-73.901772,-73.988605,-73.988605,-73.920368,-73.932407,-73.892416,-73.916735,-73.937926,-73.953281,-73.951906,-73.99203,-73.99203,-74.014363,-73.940431,-74.004859,-73.997693,-74.022864,-74.002026,-74.002221,-73.899781,-73.968027,-73.968027,-73.968027,-74.173771,-73.927616,-73.91573,-73.916446,-73.991723,-74.017319,-73.973384,-73.973164,-73.973557,-73.973557,-73.973557,-73.973557,-73.973557,-73.973557,-73.885339,-73.885842,-74.008238,-73.992966,-73.944047,-74.000818,-73.974508,-73.974508,-73.999196,-73.961226,-73.953014,-73.992191,-73.992191,-73.992191,-73.912051,-73.912051,-73.974508,-73.974508,-73.974508,-73.974508,-73.974508,-73.974508,-73.974508,-73.971603,-73.971603,-73.973384,-73.973384,-73.928548,-73.928548,-73.926318,-73.928548,-73.928548,-73.8697,-73.994452,-73.994452,-74.02012,-73.931938,-73.947351,-74.02012,-73.994488,-73.994488,-73.994488,-73.994488,-73.994488,-73.982824,-73.982824,-73.987588,-73.919717,-73.932546,-73.890676,-73.890676,-73.901511,-73.901511,-73.901511,-73.976281,-73.976281,-73.976281,-73.976281,-73.926318,-73.996907,-73.900725,-73.901371,-73.882699,-73.882699,-73.882699,-73.993821,-73.860612,-73.961227,-74.022721,-73.984674,-73.984674,-73.984674,-73.984674,-73.984674,-73.984674,-73.984674,-73.984674,-73.984674,-73.96381,-73.870515,-73.870515,-73.932531,-73.932531,-73.954533,-73.954533,-73.954533,-73.871627,-74.006815,-74.00318,-73.990929,-73.950471,-74.022721,-74.022721,-73.905256,-73.905256,-73.947763,-73.947763,-73.947763,-73.947763,-74.00044,-74.00044,-73.913501,-73.913501,-73.924024,-73.924024,-73.917768,-73.951781,-73.899217,-73.899217,-73.912051,-73.912051,-73.912051,-73.990241,-73.932478,-73.932478,-73.976465,-73.960233,-74.00044,-73.913955,-74.010346,-73.940499,-73.98987,-73.98987,-73.989556,-73.989556,-73.98987,-73.98987,-73.98987,-73.98987,-73.98987,-73.98987,-73.98987,-73.98987,-73.98987,-73.98987,-73.934382,-73.934382,-73.941462,-73.941462,-73.928548,-73.8697,-73.8697,-73.982824,-73.860612,-73.860612,-73.934382],\"marker\":{\"color\":\"#636efa\"},\"mode\":\"markers\",\"name\":\"Brooklyn\",\"showlegend\":true,\"subplot\":\"mapbox\",\"type\":\"scattermapbox\"},{\"hovertemplate\":\"\\u003cb\\u003e%{hovertext}\\u003c\\u002fb\\u003e\\u003cbr\\u003e\\u003cbr\\u003eBOROUGH=Staten Island\\u003cbr\\u003eLATITUDE=%{lat}\\u003cbr\\u003eLONGITUDE=%{lon}\\u003cextra\\u003e\\u003c\\u002fextra\\u003e\",\"hovertext\":[\"Level 2 Charger\",\"Level 2 Charger\",\"Level 2 Charger\",\"Level 3 Fast Charger\",\"Level 3 Fast Charger\",\"Level 3 Fast Charger\",\"Level 3 Fast Charger\",\"Level 3 Fast Charger\",\"EV Solar Arc Charger\",\"EV Solar Arc Charger\",\"Level 3 Fast Charger\",\"Level 3 Fast Charger\",\"Level 3 Fast Charger\",\"Level 3 Fast Charger\",\"Level 3 Fast Charger\",\"Level 3 Fast Charger\",\"Level 3 Fast Charger\",\"Level 3 Fast Charger\",\"Level 2 Charger\",\"Level 2 Charger\",\"Level 2 Charger\",\"Level 2 Charger\",\"Level 2 Charger\",\"Level 2 Charger\",\"Level 2 Charger\",\"Level 2 Charger\",\"Level 2 Charger\",\"Level 3 Fast Charger\",\"Level 3 Fast Charger\",\"Level 3 Fast Charger\",\"Level 3 Fast Charger\",\"Level 3 Fast Charger\",\"Level 3 Fast Charger\",\"Level 2 Charger\",\"Level 2 Charger\",\"Level 2 Charger\",\"Level 2 Charger\",\"Level 2 Charger\",\"EV Solar Arc Charger\",\"Level 2 Charger\",\"Level 2 Charger\",\"Level 2 Charger\",\"EV Solar Arc Charger\",\"Level 2 Charger\",\"Level 2 Charger\",\"Level 2 Charger\",\"Level 2 Charger\",\"Level 2 Charger\",\"Level 2 Charger\",\"Level 2 Charger\",\"Level 2 Charger\",\"Level 2 Charger\",\"Level 2 Charger\",\"EV Solar Arc Charger\",\"EV Solar Arc Charger\",\"EV Solar Arc Charger\",\"Level 3 Fast Charger\",\"Level 3 Fast Charger\",\"Level 3 Fast Charger\",\"Level 3 Fast Charger\",\"Level 2 Charger\",\"Level 2 Charger\",\"EV Solar Arc Charger\",\"EV Solar Arc Charger\",\"Level 2 Charger\",\"Level 2 Charger\",\"Level 2 Charger\",\"Level 2 Charger\",\"Level 2 Charger\",\"Level 2 Charger\",\"EV Solar Arc Charger\",\"EV Solar Arc Charger\",\"Level 2 Charger\",\"Level 2 Charger\",\"Level 2 Charger\",\"Level 2 Charger\",\"Level 2 Charger\",\"Level 2 Charger\",\"Level 2 Charger\",\"Level 2 Charger\",\"Level 3 Fast Charger\",\"Level 3 Fast Charger\",\"EV Solar Arc Charger\",\"EV Solar Arc Charger\",\"EV Solar Arc Charger\",\"Level 3 Fast Charger\",\"Level 3 Fast Charger\",\"Level 2 Charger\",\"Level 2 Charger\",\"Level 2 Charger\",\"EV Solar Arc Charger\",\"EV Solar Arc Charger\",\"Level 2 Charger\",\"EV Solar Arc Charger\",\"EV Solar Arc Charger\",\"EV Solar Arc Charger\",\"Level 2 Charger\",\"Level 2 Charger\",\"Level 2 Charger\",\"Level 2 Charger\",\"Level 2 Charger\",\"Level 2 Charger\",\"Level 2 Charger\",\"Level 3 Fast Charger\",\"Level 2 Charger\",\"Level 2 Charger\",\"Level 2 Charger\",\"Level 2 Charger\",\"Level 2 Charger\",\"Level 2 Charger\",\"Level 2 Charger\",\"Level 2 Charger\",\"DOT Municipal Level 2 Charger\"],\"lat\":[40.640708,40.615436,40.552071,40.637232,40.637232,40.637232,40.637232,40.637232,40.508319,40.508319,40.553917,40.553917,40.552071,40.552071,40.552071,40.552071,40.552071,40.552071,40.793705,40.509084,40.608756,40.608756,40.596745,40.509084,40.576725,40.509084,40.634573,40.643733,40.643733,40.643733,40.643733,40.643733,40.643733,40.642367,40.631925,40.644935,40.629667,40.631925,40.574514,40.62089,40.620778,40.618239,40.52066,40.530065,40.56161,40.56161,40.56161,40.56161,40.502357,40.592224,40.584008,40.636297,40.637675,40.587755,40.575685,40.575685,40.575993,40.575993,40.582243,40.582243,40.581606,40.581606,40.587755,40.587755,40.618239,40.62089,40.62089,40.62089,40.62089,40.62089,40.62852,40.62852,40.62852,40.62852,40.62852,40.62852,40.62852,40.62852,40.59048,40.575017,40.636097,40.636097,40.586223,40.575234,40.575234,40.586223,40.586223,40.586997,40.586997,40.571144,40.575234,40.575234,40.583744,40.583069,40.575234,40.575234,40.593273,40.623595,40.623595,40.623595,40.623595,40.623595,40.512,40.7301,40.5743,40.5743,40.593798,40.63368,40.571144,40.571144,40.571144,40.575374,40.640566],\"legendgroup\":\"Staten Island\",\"lon\":[-74.077697,-74.105751,-74.116133,-74.125556,-74.125556,-74.125556,-74.125556,-74.125556,-74.235614,-74.235614,-74.117306,-74.117306,-74.116133,-74.116133,-74.116133,-74.116133,-74.116133,-74.116133,-73.884135,-74.22093,-74.102344,-74.102344,-74.124263,-74.22093,-74.100726,-74.22093,-74.141818,-74.072789,-74.072789,-74.072789,-74.072789,-74.072789,-74.072789,-74.075274,-74.129397,-74.077204,-74.076027,-74.129397,-74.085629,-74.119394,-74.119351,-74.105161,-74.184425,-74.176447,-74.160443,-74.160443,-74.160443,-74.160443,-74.25144,-74.13628,-74.125528,-74.073382,-74.073719,-74.069261,-74.083179,-74.083179,-74.082618,-74.082618,-74.074594,-74.074594,-74.075187,-74.075187,-74.069261,-74.069261,-74.105161,-74.119394,-74.119394,-74.119394,-74.119394,-74.119394,-74.100238,-74.100238,-74.100238,-74.100238,-74.100238,-74.100238,-74.100238,-74.100238,-74.06675,-74.196645,-74.084519,-74.084519,-74.168484,-74.196696,-74.196696,-74.168484,-74.168484,-74.168316,-74.168316,-74.195327,-74.196696,-74.196696,-74.193041,-74.192892,-74.196696,-74.196696,-74.135732,-74.149133,-74.149133,-74.149133,-74.149133,-74.149133,-74.249725,-73.810908,-74.105888,-74.105888,-74.135437,-74.075159,-74.195327,-74.195327,-74.195327,-74.196743,-74.076713],\"marker\":{\"color\":\"#EF553B\"},\"mode\":\"markers\",\"name\":\"Staten Island\",\"showlegend\":true,\"subplot\":\"mapbox\",\"type\":\"scattermapbox\"},{\"hovertemplate\":\"\\u003cb\\u003e%{hovertext}\\u003c\\u002fb\\u003e\\u003cbr\\u003e\\u003cbr\\u003eBOROUGH=Manhattan\\u003cbr\\u003eLATITUDE=%{lat}\\u003cbr\\u003eLONGITUDE=%{lon}\\u003cextra\\u003e\\u003c\\u002fextra\\u003e\",\"hovertext\":[\"Level 2 Charger\",\"Level 2 Charger\",\"EV Solar Arc Charger\",\"Level 3 Fast Charger\",\"Level 3 Fast Charger\",\"Level 3 Fast Charger\",\"Level 3 Fast Charger\",\"Level 3 Fast Charger\",\"Level 3 Fast Charger\",\"Level 3 Fast Charger\",\"Level 2 Charger\",\"Level 3 Fast Charger\",\"Level 3 Fast Charger\",\"Level 2 Charger\",\"EV Solar Arc Charger\",\"EV Solar Arc Charger\",\"EV Solar Arc Charger\",\"EV Solar Arc Charger\",\"EV Solar Arc Charger\",\"Level 2 Charger\",\"Level 3 Fast Charger\",\"Level 3 Fast Charger\",\"Level 3 Fast Charger\",\"Level 2 Charger\",\"Level 2 Charger\",\"Level 2 Charger\",\"Level 2 Charger\",\"Level 3 Fast Charger\",\"Level 3 Fast Charger\",\"Level 3 Fast Charger\",\"Level 3 Fast Charger\",\"Level 3 Fast Charger\",\"Level 3 Fast Charger\",\"Level 3 Fast Charger\",\"Level 3 Fast Charger\",\"Level 2 Charger\",\"EV Solar Arc Charger\",\"Level 2 Charger\",\"Level 2 Charger\",\"Level 2 Charger\",\"Level 3 Fast Charger\",\"Level 3 Fast Charger\",\"Level 3 Fast Charger\",\"Level 3 Fast Charger\",\"Level 3 Fast Charger\",\"Level 3 Fast Charger\",\"Level 3 Fast Charger\",\"Level 3 Fast Charger\",\"Level 3 Fast Charger\",\"Level 3 Fast Charger\",\"Level 3 Fast Charger\",\"Level 3 Fast Charger\",\"Level 3 Fast Charger\",\"Level 2 Charger\",\"Level 3 Fast Charger\",\"Level 2 Charger\",\"Level 2 Charger\",\"Level 2 Charger\",\"Level 2 Charger\",\"Level 2 Charger\",\"Level 2 Charger\",\"Level 2 Charger\",\"Level 2 Charger\",\"Level 2 Charger\",\"Level 2 Charger\",\"Level 2 Charger\",\"Level 2 Charger\",\"EV Solar Arc Charger\",\"Level 2 Charger\",\"Level 2 Charger\",\"EV Solar Arc Charger\",\"EV Solar Arc Charger\",\"Level 2 Charger\",\"Level 2 Charger\",\"Level 2 Charger\",\"EV Solar Arc Charger\",\"Level 2 Charger\",\"Level 2 Charger\",\"Level 3 Fast Charger\",\"Level 3 Fast Charger\",\"Level 3 Fast Charger\",\"Level 2 Charger\",\"Level 2 Charger\",\"Level 2 Charger\",\"Level 2 Charger\",\"Level 2 Charger\",\"Level 2 Charger\",\"Level 2 Charger\",\"Level 2 Charger\",\"Level 2 Charger\",\"Level 2 Charger\",\"Level 2 Charger\",\"Level 2 Charger\",\"Level 2 Charger\",\"Level 2 Charger\",\"Level 3 Fast Charger\",\"Level 3 Fast Charger\",\"Level 2 Charger\",\"Level 2 Charger\",\"Level 2 Charger\",\"Level 2 Charger\",\"Level 2 Charger\",\"Level 2 Charger\",\"Level 2 Charger\",\"Level 2 Charger\",\"Level 2 Charger\",\"Level 2 Charger\",\"Level 2 Charger\",\"Level 2 Charger\",\"Level 2 Charger\",\"Level 2 Charger\",\"Level 2 Charger\",\"Level 2 Charger\",\"EV Solar Arc Charger\",\"EV Solar Arc Charger\",\"Level 2 Charger\",\"EV Solar Arc Charger\",\"EV Solar Arc Charger\",\"Level 2 Charger\",\"Level 2 Charger\",\"Level 2 Charger\",\"Level 2 Charger\",\"Level 2 Charger\",\"Level 2 Charger\",\"Level 3 Fast Charger\",\"Level 3 Fast Charger\",\"Level 3 Fast Charger\",\"Level 3 Fast Charger\",\"Level 2 Charger\",\"Level 3 Fast Charger\",\"Level 3 Fast Charger\",\"Level 3 Fast Charger\",\"Level 3 Fast Charger\",\"Level 3 Fast Charger\",\"Level 3 Fast Charger\",\"Level 3 Fast Charger\",\"Level 2 Charger\",\"Level 3 Fast Charger\",\"Level 3 Fast Charger\",\"Level 2 Charger\",\"Level 3 Fast Charger\",\"Level 3 Fast Charger\",\"Level 3 Fast Charger\",\"Level 3 Fast Charger\",\"Level 3 Fast Charger\",\"Level 3 Fast Charger\",\"Level 2 Charger\",\"Level 2 Charger\",\"Level 2 Charger\",\"Level 2 Charger\",\"Level 3 Fast Charger\",\"Level 3 Fast Charger\",\"Level 3 Fast Charger\",\"Level 3 Fast Charger\",\"Level 2 Charger\",\"Level 2 Charger\",\"Level 2 Charger\",\"Level 2 Charger\",\"Level 2 Charger\",\"Level 2 Charger\",\"Level 2 Charger\",\"Level 2 Charger\",\"Level 2 Charger\",\"Level 3 Fast Charger\",\"Level 3 Fast Charger\",\"Level 2 Charger\",\"Level 2 Charger\",\"Level 2 Charger\",\"Level 2 Charger\",\"Level 2 Charger\",\"Level 2 Charger\",\"Level 2 Charger\",\"Level 2 Charger\",\"Level 2 Charger\",\"Level 2 Charger\",\"Level 2 Charger\",\"Level 2 Charger\",\"Level 2 Charger\",\"Level 2 Charger\",\"Level 2 Charger\",\"Level 2 Charger\",\"EV Solar Arc Charger\",\"Level 2 Charger\",\"Level 2 Charger\",\"Level 2 Charger\",\"Level 3 Fast Charger\",\"Level 2 Charger\",\"Level 2 Charger\",\"Level 2 Charger\",\"Level 2 Charger\",\"Level 2 Charger\",\"Level 2 Charger\",\"Level 2 Charger\",\"Level 2 Charger\",\"Level 2 Charger\",\"Level 3 Fast Charger\",\"Level 3 Fast Charger\",\"Level 3 Fast Charger\",\"Level 2 Charger\",\"Level 2 Charger\",\"Level 2 Charger\",\"Level 2 Charger\",\"Level 2 Charger\",\"Level 2 Charger\",\"Level 2 Charger\",\"Level 2 Charger\",\"Level 2 Charger\",\"Level 2 Charger\",\"Level 2 Charger\",\"Level 2 Charger\",\"Level 3 Fast Charger\",\"Level 2 Charger\",\"Level 2 Charger\",\"Level 3 Fast Charger\",\"Level 3 Fast Charger\",\"Level 3 Fast Charger\",\"Level 3 Fast Charger\",\"Level 3 Fast Charger\",\"Level 3 Fast Charger\",\"Level 3 Fast Charger\",\"Level 3 Fast Charger\",\"Level 3 Fast Charger\",\"Level 3 Fast Charger\",\"Level 3 Fast Charger\",\"Level 3 Fast Charger\",\"Level 3 Fast Charger\",\"Level 3 Fast Charger\",\"Level 3 Fast Charger\",\"Level 3 Fast Charger\",\"Level 3 Fast Charger\",\"Level 3 Fast Charger\",\"Level 3 Fast Charger\",\"Level 2 Charger\",\"Level 2 Charger\",\"Level 2 Charger\",\"Level 2 Charger\",\"DOT Municipal Level 2 Charger\",\"DOT Municipal Level 3 Charger\"],\"lat\":[40.712806,40.712806,40.713001,40.713001,40.713001,40.710353,40.710353,40.710353,40.710353,40.710353,40.710353,40.846982,40.846982,40.792839,40.791469,40.791483,40.791469,40.791469,40.791469,40.71282,40.712735,40.83028,40.83028,40.821384,40.821384,40.788869,40.787146,40.787146,40.787146,40.785113,40.785113,40.785113,40.785113,40.788166,40.788166,40.788715,40.787573,40.785113,40.791082,40.827108,40.821384,40.821384,40.821384,40.821384,40.821384,40.821384,40.821384,40.821384,40.821408,40.821408,40.821408,40.821408,40.821408,40.785494,40.714417,40.877105,40.736103,40.855855,40.783638,40.825191,40.765234,40.703573,40.703573,40.703466,40.703466,40.710508,40.710508,40.710508,40.701283,40.79872,40.800068,40.79872,40.718875,40.78237,40.796655,40.818365,40.776309,40.843434,40.792269,40.792269,40.792269,40.805856,40.786761,40.786373,40.786373,40.786373,40.786373,40.786373,40.786373,40.786373,40.786373,40.815204,40.821351,40.767711,40.767711,40.79952,40.79952,40.79952,40.79952,40.79952,40.79952,40.79952,40.79952,40.781339,40.79872,40.79872,40.79872,40.79872,40.800068,40.79872,40.79872,40.79872,40.795535,40.872891,40.872891,40.866824,40.795089,40.795089,40.808657,40.869024,40.869024,40.71307,40.71307,40.71307,40.771149,40.771149,40.770957,40.771149,40.751183,40.751183,40.751183,40.751183,40.751183,40.751183,40.751183,40.751183,40.726159,40.726159,40.726159,40.726159,40.710508,40.710508,40.726159,40.726159,40.710508,40.710508,40.771149,40.771149,40.771149,40.771149,40.771149,40.771149,40.771149,40.771149,40.869218,40.808657,40.808361,40.808657,40.808023,40.808657,40.804756,40.804756,40.804756,40.868199,40.868199,40.868199,40.751183,40.751183,40.726159,40.726159,40.795535,40.795535,40.75131,40.75131,40.75131,40.75131,40.75131,40.75131,40.75131,40.75131,40.801789,40.71108,40.71108,40.756812,40.756738,40.76696,40.800892,40.828615,40.828615,40.815834,40.815908,40.840712,40.840712,40.85126,40.85126,40.716401,40.736468,40.736468,40.765016,40.765016,40.753599,40.753599,40.724887,40.724887,40.725041,40.724887,40.724783,40.724783,40.802127,40.802127,40.76948,40.800892,40.716209,40.712348,40.710369,40.712348,40.710932,40.712348,40.712348,40.712348,40.712348,40.836055,40.836055,40.836055,40.836055,40.738575,40.738575,40.738575,40.738575,40.738575,40.738575,40.738575,40.738575,40.739162,40.739162,40.804756,40.719086,40.719086],\"legendgroup\":\"Manhattan\",\"lon\":[-74.006096,-74.006096,-74.004181,-74.004181,-74.004181,-74.004007,-74.004007,-74.004007,-74.004007,-74.004007,-74.004007,-73.931709,-73.931709,-73.922819,-73.921474,-73.921463,-73.921474,-73.921474,-73.921474,-73.992461,-73.99245,-73.941602,-73.941602,-73.9581,-73.9581,-73.920097,-73.925083,-73.925083,-73.925083,-73.923366,-73.923366,-73.923366,-73.923366,-73.919762,-73.919762,-73.924539,-73.924403,-73.923366,-73.921051,-73.95466,-73.9581,-73.9581,-73.9581,-73.9581,-73.9581,-73.9581,-73.9581,-73.9581,-73.958161,-73.958161,-73.958161,-73.958161,-73.958161,-73.931397,-74.006089,-73.912256,-73.982196,-73.92712,-73.945626,-73.935731,-73.993076,-74.008036,-74.008036,-74.007538,-74.007538,-73.986196,-73.986196,-73.986196,-74.014578,-73.921194,-73.925671,-73.921194,-73.992735,-73.965238,-73.923829,-73.935359,-73.943758,-73.934301,-73.923827,-73.923827,-73.923827,-73.943,-73.928799,-73.931656,-73.931656,-73.931656,-73.931656,-73.931656,-73.931656,-73.931656,-73.931656,-73.955246,-73.958067,-73.970516,-73.970516,-73.92227,-73.92227,-73.92227,-73.92227,-73.92227,-73.92227,-73.92227,-73.92227,-73.962508,-73.921194,-73.921194,-73.921194,-73.921194,-73.925671,-73.921194,-73.921194,-73.921194,-73.922671,-73.918159,-73.918159,-73.928811,-73.976207,-73.976207,-73.935809,-73.913916,-73.913916,-73.993821,-73.993821,-73.993821,-73.993415,-73.993415,-73.992953,-73.993415,-74.006594,-74.006594,-74.006594,-74.006594,-74.006594,-74.006594,-74.006594,-74.006594,-74.010712,-74.010712,-74.010712,-74.010712,-73.986196,-73.986196,-74.010712,-74.010712,-73.986196,-73.986196,-73.993415,-73.993415,-73.993415,-73.993415,-73.993415,-73.993415,-73.993415,-73.993415,-73.913033,-73.935809,-73.936604,-73.935809,-73.936268,-73.935809,-73.934281,-73.934281,-73.934281,-73.911997,-73.911997,-73.911997,-74.006594,-74.006594,-74.010712,-74.010712,-73.922671,-73.922671,-74.005233,-74.005233,-74.005233,-74.005233,-74.005233,-74.005233,-74.005233,-74.005233,-73.939319,-74.000397,-74.000397,-73.971142,-73.970117,-73.963856,-73.941025,-73.943847,-73.943847,-73.944978,-73.945151,-73.93564,-73.93564,-73.935186,-73.935186,-73.983493,-73.983311,-73.983311,-73.984835,-73.984835,-73.994712,-73.994712,-73.978259,-73.978259,-73.978148,-73.978259,-73.978335,-73.978335,-73.936108,-73.936108,-73.989397,-73.941025,-73.983605,-74.000891,-74.00136,-74.000891,-74.003481,-74.000891,-74.000891,-74.000891,-74.000891,-73.947657,-73.947657,-73.947657,-73.947657,-73.976588,-73.976588,-73.976588,-73.976588,-73.976588,-73.976588,-73.976588,-73.976588,-73.976894,-73.976894,-73.934281,-73.98794,-73.98794],\"marker\":{\"color\":\"#00cc96\"},\"mode\":\"markers\",\"name\":\"Manhattan\",\"showlegend\":true,\"subplot\":\"mapbox\",\"type\":\"scattermapbox\"},{\"hovertemplate\":\"\\u003cb\\u003e%{hovertext}\\u003c\\u002fb\\u003e\\u003cbr\\u003e\\u003cbr\\u003eBOROUGH=Queens\\u003cbr\\u003eLATITUDE=%{lat}\\u003cbr\\u003eLONGITUDE=%{lon}\\u003cextra\\u003e\\u003c\\u002fextra\\u003e\",\"hovertext\":[\"Level 3 Fast Charger\",\"Level 3 Fast Charger\",\"Level 3 Fast Charger\",\"Level 3 Fast Charger\",\"Level 3 Fast Charger\",\"Level 3 Fast Charger\",\"Level 3 Fast Charger\",\"EV Solar Arc Charger\",\"EV Solar Arc Charger\",\"Level 2 Charger\",\"EV Solar Arc Charger\",\"EV Solar Arc Charger\",\"Level 2 Charger\",\"Level 2 Charger\",\"Level 3 Fast Charger\",\"Level 3 Fast Charger\",\"Level 3 Fast Charger\",\"Level 3 Fast Charger\",\"Level 2 Charger\",\"Level 2 Charger\",\"Level 2 Charger\",\"Level 2 Charger\",\"Level 2 Charger\",\"Level 2 Charger\",\"Level 2 Charger\",\"Level 2 Charger\",\"Level 2 Charger\",\"Level 2 Charger\",\"Level 2 Charger\",\"Level 2 Charger\",\"Level 2 Charger\",\"Level 2 Charger\",\"Level 2 Charger\",\"Level 2 Charger\",\"Level 2 Charger\",\"Level 2 Charger\",\"Level 2 Charger\",\"Level 2 Charger\",\"EV Solar Arc Charger\",\"Level 2 Charger\",\"Level 2 Charger\",\"Level 2 Charger\",\"Level 2 Charger\",\"Level 3 Fast Charger\",\"Level 3 Fast Charger\",\"Level 3 Fast Charger\",\"Level 3 Fast Charger\",\"Level 2 Charger\",\"Level 3 Fast Charger\",\"Level 3 Fast Charger\",\"Level 3 Fast Charger\",\"Level 3 Fast Charger\",\"EV Solar Arc Charger\",\"Level 3 Fast Charger\",\"Level 3 Fast Charger\",\"Level 3 Fast Charger\",\"Level 3 Fast Charger\",\"Level 3 Fast Charger\",\"Level 2 Charger\",\"EV Solar Arc Charger\",\"Level 2 Charger\",\"Level 2 Charger\",\"Level 2 Charger\",\"Level 2 Charger\",\"Level 2 Charger\",\"Level 2 Charger\",\"Level 2 Charger\",\"Level 3 Fast Charger\",\"Level 3 Fast Charger\",\"Level 2 Charger\",\"Level 2 Charger\",\"Level 2 Charger\",\"EV Solar Arc Charger\",\"Level 2 Charger\",\"Level 2 Charger\",\"Level 2 Charger\",\"Level 2 Charger\",\"Level 2 Charger\",\"Level 2 Charger\",\"Level 2 Charger\",\"Level 2 Charger\",\"Level 2 Charger\",\"Level 2 Charger\",\"Level 2 Charger\",\"Level 2 Charger\",\"Level 2 Charger\",\"Level 3 Fast Charger\",\"Level 3 Fast Charger\",\"Level 3 Fast Charger\",\"Level 3 Fast Charger\",\"Level 3 Fast Charger\",\"Level 2 Charger\",\"Level 2 Charger\",\"Level 2 Charger\",\"Level 2 Charger\",\"Level 2 Charger\",\"Level 2 Charger\",\"Level 2 Charger\",\"Level 2 Charger\",\"Level 2 Charger\",\"Level 3 Fast Charger\",\"Level 3 Fast Charger\",\"Level 2 Charger\",\"Level 2 Charger\",\"Level 2 Charger\",\"Level 2 Charger\",\"Level 2 Charger\",\"EV Solar Arc Charger\",\"EV Solar Arc Charger\",\"EV Solar Arc Charger\",\"EV Solar Arc Charger\",\"Level 2 Charger\",\"Level 2 Charger\",\"Level 3 Fast Charger\",\"Level 3 Fast Charger\",\"Level 2 Charger\",\"Level 2 Charger\",\"Level 2 Charger\",\"Level 3 Fast Charger - Boost\",\"Level 2 Charger\",\"Level 2 Charger\",\"Level 2 Charger\",\"Level 2 Charger\",\"Level 2 Charger\",\"Level 2 Charger\",\"Level 2 Charger\",\"Level 2 Charger\",\"Level 2 Charger\",\"Level 2 Charger\",\"Level 2 Charger\",\"Level 2 Charger\",\"EV Solar Arc Charger\",\"EV Solar Arc Charger\",\"EV Solar Arc Charger\",\"EV Solar Arc Charger\",\"Level 2 Charger\",\"Level 2 Charger\",\"Level 2 Charger\",\"EV Solar Arc Charger\",\"Level 2 Charger\",\"Level 2 Charger\",\"Level 2 Charger\",\"Level 2 Charger\",\"Level 2 Charger\",\"Level 2 Charger\",\"Level 3 Fast Charger\",\"Level 3 Fast Charger\",\"EV Solar Arc Charger\",\"Level 2 Charger\",\"EV Solar Arc Charger\",\"EV Solar Arc Charger\",\"Level 3 Fast Charger - Boost\",\"Level 2 Charger\",\"Level 2 Charger\",\"Level 2 Charger\",\"Level 2 Charger\",\"Level 2 Charger\",\"Level 2 Charger\",\"Level 2 Charger\",\"Level 2 Charger\",\"Level 2 Charger\",\"Level 2 Charger\",\"Level 2 Charger\",\"Level 2 Charger\",\"Level 2 Charger\",\"EV Solar Arc Charger\",\"EV Solar Arc Charger\",\"EV Solar Arc Charger\",\"Level 2 Charger\",\"Level 2 Charger\",\"Level 2 Charger\",\"Level 2 Charger\",\"Level 2 Charger\",\"Level 2 Charger\",\"Level 2 Charger\",\"Level 2 Charger\",\"Level 2 Charger\",\"Level 2 Charger\",\"Level 2 Charger\",\"Level 2 Charger\",\"Level 2 Charger\",\"Level 2 Charger\",\"Level 2 Charger\",\"Level 2 Charger\",\"Level 2 Charger\",\"Level 2 Charger\",\"Level 2 Charger\",\"Level 2 Charger\",\"Level 2 Charger\",\"Level 2 Charger\",\"Level 2 Charger\",\"Level 2 Charger\",\"Level 2 Charger\",\"Level 2 Charger\",\"Level 2 Charger\",\"Level 2 Charger\",\"Level 2 Charger\",\"Level 2 Charger\",\"Level 2 Charger\",\"Level 2 Charger\",\"Level 2 Charger\",\"Level 2 Charger\",\"Level 2 Charger\",\"Level 2 Charger\",\"Level 2 Charger\",\"Level 2 Charger\",\"Level 2 Charger\",\"Level 2 Charger\",\"Level 2 Charger\",\"Level 2 Charger\",\"Level 2 Charger\",\"Level 2 Charger\",\"EV Solar Arc Charger\",\"EV Solar Arc Charger\",\"EV Solar Arc Charger\",\"EV Solar Arc Charger\",\"EV Solar Arc Charger\",\"Level 2 Charger\",\"Level 2 Charger\",\"EV Solar Arc Charger\",\"Level 2 Charger\",\"Level 2 Charger\",\"Level 2 Charger\",\"Level 2 Charger\",\"Level 2 Charger\",\"Level 3 Fast Charger\",\"Level 3 Fast Charger\",\"Level 3 Fast Charger\",\"Level 3 Fast Charger\",\"Level 3 Fast Charger\",\"Level 3 Fast Charger\",\"Level 3 Fast Charger\",\"Level 3 Fast Charger\",\"Level 3 Fast Charger\",\"Level 2 Charger\",\"Level 2 Charger\",\"Level 2 Charger\",\"Level 2 Charger\",\"Level 2 Charger\",\"Level 3 Fast Charger\",\"Level 3 Fast Charger\",\"Level 2 Charger\",\"Level 2 Charger\",\"Level 2 Charger\",\"Level 2 Charger\",\"Level 2 Charger\",\"Level 2 Charger\",\"Level 2 Charger\",\"Level 3 Fast Charger\",\"Level 2 Charger\",\"Level 2 Charger\",\"Level 2 Charger\",\"Level 3 Fast Charger\",\"Level 2 Charger\",\"Level 2 Charger\",\"Level 2 Charger\",\"Level 3 Fast Charger\",\"Level 3 Fast Charger\",\"Level 3 Fast Charger\",\"Level 3 Fast Charger\",\"Level 3 Fast Charger\",\"Level 3 Fast Charger\",\"Level 2 Charger\",\"Level 2 Charger\",\"Level 2 Charger\",\"Level 2 Charger\",\"Level 2 Charger\",\"Level 2 Charger\",\"Level 2 Charger\",\"Level 2 Charger\",\"Level 2 Charger\",\"Level 2 Charger\",\"Level 2 Charger\",\"Level 2 Charger\",\"Level 2 Charger\",\"Level 2 Charger\",\"Level 2 Charger\",\"Level 2 Charger\",\"EV Solar Arc Charger\",\"Level 2 Charger\",\"Level 2 Charger\",\"Level 2 Charger\",\"Level 2 Charger\",\"Level 2 Charger\",\"Level 2 Charger\",\"Level 3 Fast Charger\",\"Level 3 Fast Charger\",\"Level 2 Charger\",\"Level 2 Charger\",\"Level 3 Fast Charger\",\"Level 3 Fast Charger\",\"Level 2 Charger\",\"Level 2 Charger\",\"Level 2 Charger\",\"Level 2 Charger\",\"Level 2 Charger\",\"Level 2 Charger\",\"Level 2 Charger\",\"Level 2 Charger\",\"Level 2 Charger\",\"Level 2 Charger\",\"Level 2 Charger\",\"Level 2 Charger\",\"Level 3 Fast Charger\",\"Level 3 Fast Charger\",\"Level 3 Fast Charger\",\"Level 3 Fast Charger\",\"Level 2 Charger\",\"Level 2 Charger\",\"Level 2 Charger\",\"Level 2 Charger\",\"Level 2 Charger\",\"Level 2 Charger\",\"Level 2 Charger\",\"Level 2 Charger\",\"EV Solar Arc Charger\",\"EV Solar Arc Charger\",\"EV Solar Arc Charger\",\"EV Solar Arc Charger\",\"Level 2 Charger\",\"Level 3 Fast Charger\",\"Level 2 Charger\",\"EV Solar Arc Charger\",\"EV Solar Arc Charger\",\"EV Solar Arc Charger\",\"Level 2 Charger\",\"Level 2 Charger\",\"Level 2 Charger\",\"Level 2 Charger\",\"Level 2 Charger\",\"Level 2 Charger\",\"Level 2 Charger\",\"Level 2 Charger\",\"Level 2 Charger\",\"Level 2 Charger\",\"Level 2 Charger\",\"Level 2 Charger\",\"Level 2 Charger\",\"Level 2 Charger\",\"Level 2 Charger\",\"Level 2 Charger\",\"Level 2 Charger\",\"Level 2 Charger\",\"Level 2 Charger\",\"Level 2 Charger\",\"Level 2 Charger\",\"Level 2 Charger\",\"Level 2 Charger\",\"Level 2 Charger\",\"Level 2 Charger\",\"Level 2 Charger\",\"Level 2 Charger\",\"Level 2 Charger\",\"Level 2 Charger\",\"Level 2 Charger\",\"Level 2 Charger\",\"Level 2 Charger\",\"Level 2 Charger\",\"Level 2 Charger\",\"Level 2 Charger\",\"Level 2 Charger\",\"Level 2 Charger\",\"Level 2 Charger\",\"Level 2 Charger\",\"Level 2 Charger\",\"DOT Municipal Level 2 Charger\",\"DOT Municipal Level 3 Charger\",\"DOT Municipal Level 2 Charger\",\"DOT Municipal Level 3 Charger\",\"DOT Municipal Level 2 Charger\",\"DOT Municipal Level 2 Charger\"],\"lat\":[40.712377,40.712377,40.712377,40.713329,40.712377,40.712377,40.712377,40.745042,40.745042,40.745042,40.745095,40.745095,40.778421,40.778421,40.778421,40.693916,40.693916,40.694094,40.662964,40.734606,40.734606,40.734606,40.734606,40.734606,40.734606,40.734606,40.734606,40.734606,40.73698,40.73698,40.73698,40.73698,40.734606,40.73698,40.735229,40.735229,40.735229,40.766974,40.703128,40.703128,40.703128,40.703128,40.703128,40.703128,40.703128,40.793864,40.793864,40.719651,40.662964,40.662964,40.662964,40.662964,40.703128,40.790301,40.790301,40.790301,40.790301,40.790301,40.793765,40.790985,40.790576,40.788899,40.788899,40.790976,40.794577,40.710935,40.788432,40.788899,40.788899,40.770185,40.715389,40.715389,40.715389,40.679639,40.679639,40.684142,40.740724,40.746088,40.749384,40.743237,40.743237,40.743237,40.770185,40.668235,40.749384,40.749384,40.749384,40.749384,40.749384,40.749384,40.749384,40.749341,40.749384,40.749384,40.749384,40.749384,40.743099,40.749384,40.734714,40.73466,40.737775,40.737775,40.72441,40.752701,40.752701,40.752701,40.79419,40.709174,40.709174,40.764102,40.764388,40.754395,40.75008,40.764388,40.764388,40.722386,40.722361,40.722361,40.673779,40.673779,40.673779,40.673779,40.744537,40.744537,40.744537,40.744537,40.753928,40.753928,40.754021,40.754021,40.754021,40.754021,40.753928,40.754021,40.753928,40.751616,40.751616,40.751616,40.681158,40.702998,40.702998,40.701545,40.753521,40.793297,40.73087,40.696323,40.696323,40.752161,40.710954,40.710954,40.710954,40.710954,40.753562,40.753562,40.753562,40.753562,40.686284,40.686284,40.702376,40.754021,40.730929,40.730929,40.730929,40.730929,40.725107,40.728776,40.728776,40.730954,40.752164,40.752164,40.752164,40.752164,40.752164,40.752442,40.752442,40.754021,40.750369,40.752164,40.751876,40.751876,40.751876,40.751876,40.752164,40.752164,40.752167,40.752167,40.752167,40.751876,40.751876,40.751876,40.751876,40.751876,40.751876,40.751876,40.752167,40.752167,40.752161,40.752161,40.752161,40.752161,40.752161,40.752161,40.752161,40.752161,40.710954,40.74913,40.751136,40.701474,40.701474,40.742377,40.742377,40.595127,40.593116,40.590278,40.584396,40.584972,40.583177,40.792442,40.794148,40.760974,40.734883,40.734883,40.734883,40.734883,40.734883,40.734883,40.734883,40.734883,40.734883,40.734883,40.734883,40.734883,40.762336,40.762336,40.734957,40.734883,40.734883,40.734883,40.734883,40.720249,40.720249,40.769692,40.769692,40.770849,40.770849,40.770849,40.69657,40.696682,40.69657,40.664778,40.664629,40.664629,40.597844,40.597844,40.597844,40.597844,40.735462,40.735462,40.735462,40.735462,40.735462,40.735462,40.735462,40.735462,40.735462,40.735462,40.734883,40.740165,40.740165,40.740165,40.740126,40.793414,40.79273,40.79314,40.79314,40.736818,40.736818,40.708578,40.760888,40.699311,40.699311,40.682344,40.7301,40.722429,40.679976,40.769581,40.75656,40.705661,40.705661,40.736834,40.736834,40.736834,40.736834,40.736834,40.736834,40.736834,40.736834,40.736834,40.736834,40.76822,40.768682,40.768682,40.768682,40.733733,40.733733,40.702193,40.702193,40.762286,40.657122,40.657122,40.657122,40.657122,40.657122,40.657122,40.726329,40.762473,40.762473,40.772829,40.772829,40.734205,40.713639,40.717155,40.764199,40.764199,40.764199,40.768295,40.768295,40.768295,40.768295,40.768295,40.768295,40.768295,40.768295,40.768295,40.768295,40.768295,40.768295,40.712377,40.712377,40.72441,40.734883,40.734883,40.734883,40.734883,40.734883,40.734883,40.664778,40.664778,40.664778,40.664778,40.720249,40.734883,40.734883,40.734883,40.734883,40.734883,40.720249,40.720249,40.720249,40.720249,40.720249,40.720249,40.720249,40.707865,40.734936,40.745815,40.745815,40.714856,40.714856,40.701386,40.714856],\"legendgroup\":\"Queens\",\"lon\":[-73.892143,-73.892143,-73.892143,-73.828601,-73.892143,-73.892143,-73.892143,-73.936191,-73.936191,-73.936191,-73.936635,-73.936635,-73.894593,-73.894593,-73.894593,-73.787682,-73.787682,-73.787263,-73.806765,-73.864774,-73.864774,-73.864774,-73.864774,-73.864774,-73.864774,-73.864774,-73.864774,-73.864774,-73.864625,-73.864625,-73.864625,-73.864625,-73.864774,-73.864625,-73.865098,-73.865098,-73.865098,-73.835301,-73.77772,-73.77772,-73.77772,-73.77772,-73.77772,-73.77772,-73.77772,-73.840525,-73.840525,-73.91119,-73.806765,-73.806765,-73.806765,-73.806765,-73.77772,-73.884412,-73.884412,-73.884412,-73.884412,-73.884412,-73.884156,-73.884396,-73.881894,-73.884411,-73.884411,-73.884374,-73.884162,-73.831627,-73.884444,-73.884411,-73.884411,-73.832925,-73.800369,-73.800369,-73.800369,-73.837298,-73.837298,-73.801479,-73.79283,-73.727535,-73.952233,-73.953941,-73.953941,-73.953941,-73.832925,-73.756839,-73.952233,-73.952233,-73.952233,-73.952233,-73.952233,-73.952233,-73.952233,-73.954023,-73.952233,-73.952233,-73.952233,-73.952233,-73.953992,-73.952233,-73.93697,-73.93711,-73.938082,-73.938082,-73.914492,-73.942118,-73.942118,-73.942118,-73.77855,-73.854849,-73.854849,-73.842217,-73.842368,-73.94923,-73.938208,-73.842368,-73.842368,-73.910043,-73.912677,-73.912677,-73.847565,-73.847565,-73.847565,-73.847565,-73.930602,-73.930602,-73.930602,-73.930602,-73.838823,-73.838823,-73.838509,-73.838509,-73.838509,-73.838509,-73.838823,-73.838509,-73.838823,-73.834155,-73.834155,-73.834155,-73.787784,-73.868023,-73.868023,-73.858223,-73.947412,-73.777047,-73.925175,-73.866356,-73.866356,-73.849609,-73.835147,-73.835147,-73.835147,-73.835147,-73.947466,-73.947466,-73.947466,-73.947466,-73.768455,-73.768455,-73.803607,-73.838509,-73.774773,-73.774773,-73.774773,-73.774773,-73.771463,-73.764505,-73.764505,-73.77464,-73.84963,-73.84963,-73.84963,-73.84963,-73.84963,-73.837885,-73.837885,-73.838509,-73.940301,-73.84963,-73.849331,-73.849331,-73.849331,-73.849331,-73.84963,-73.84963,-73.849641,-73.849641,-73.849641,-73.849331,-73.849331,-73.849331,-73.849331,-73.849331,-73.849331,-73.849331,-73.849641,-73.849641,-73.849609,-73.849609,-73.849609,-73.849609,-73.849609,-73.849609,-73.849609,-73.849609,-73.835147,-73.861966,-73.94204,-73.858238,-73.858238,-73.842157,-73.842157,-73.750371,-73.762539,-73.786049,-73.813149,-73.810876,-73.817764,-73.777563,-73.775415,-73.857649,-73.909957,-73.909957,-73.909957,-73.909957,-73.909957,-73.909957,-73.909957,-73.909957,-73.909957,-73.909957,-73.909957,-73.909957,-73.934464,-73.934464,-73.909719,-73.909957,-73.909957,-73.909957,-73.909957,-73.922845,-73.922845,-73.847197,-73.847197,-73.846552,-73.846552,-73.846552,-73.816405,-73.81595,-73.816405,-73.810159,-73.784675,-73.784675,-73.782485,-73.782485,-73.782485,-73.782485,-73.909675,-73.909675,-73.909675,-73.909675,-73.909675,-73.909675,-73.909675,-73.909675,-73.909675,-73.909675,-73.909957,-73.930693,-73.930693,-73.930693,-73.9307,-73.775096,-73.777616,-73.777925,-73.777925,-73.939753,-73.939753,-73.790579,-73.935819,-73.83157,-73.83157,-73.840046,-73.810908,-73.850982,-73.776214,-73.915593,-73.87593,-73.79211,-73.79211,-73.906426,-73.906426,-73.906426,-73.906426,-73.906426,-73.906426,-73.906426,-73.906426,-73.906426,-73.906426,-73.840605,-73.841095,-73.841095,-73.841095,-73.91054,-73.91054,-73.804192,-73.804192,-73.827436,-73.771566,-73.771566,-73.771566,-73.771566,-73.771566,-73.771566,-73.734788,-73.835496,-73.835496,-73.838857,-73.838857,-73.910298,-73.917886,-73.805825,-73.902694,-73.902694,-73.902694,-73.845753,-73.845753,-73.845753,-73.845753,-73.845753,-73.845753,-73.845753,-73.845753,-73.845753,-73.845753,-73.845753,-73.845753,-73.892143,-73.892143,-73.914492,-73.909957,-73.909957,-73.909957,-73.909957,-73.909957,-73.909957,-73.810159,-73.810159,-73.810159,-73.810159,-73.922845,-73.909957,-73.909957,-73.909957,-73.909957,-73.909957,-73.922845,-73.922845,-73.922845,-73.922845,-73.922845,-73.922845,-73.922845,-73.795295,-73.755509,-73.943549,-73.943549,-73.82705,-73.82705,-73.80374,-73.82705],\"marker\":{\"color\":\"#ab63fa\"},\"mode\":\"markers\",\"name\":\"Queens\",\"showlegend\":true,\"subplot\":\"mapbox\",\"type\":\"scattermapbox\"},{\"hovertemplate\":\"\\u003cb\\u003e%{hovertext}\\u003c\\u002fb\\u003e\\u003cbr\\u003e\\u003cbr\\u003eBOROUGH=Bronx\\u003cbr\\u003eLATITUDE=%{lat}\\u003cbr\\u003eLONGITUDE=%{lon}\\u003cextra\\u003e\\u003c\\u002fextra\\u003e\",\"hovertext\":[\"Level 2 Charger\",\"Level 2 Charger\",\"EV Solar Arc Charger\",\"Level 3 Fast Charger\",\"Level 3 Fast Charger\",\"Level 2 Charger\",\"EV Solar Arc Charger\",\"Level 3 Fast Charger\",\"Level 3 Fast Charger\",\"Level 3 Fast Charger\",\"Level 3 Fast Charger\",\"Level 3 Fast Charger\",\"Level 3 Fast Charger\",\"Level 3 Fast Charger\",\"Level 3 Fast Charger\",\"Level 2 Charger\",\"Level 2 Charger\",\"Level 2 Charger\",\"Level 2 Charger\",\"Level 2 Charger\",\"Level 2 Charger\",\"Level 2 Charger\",\"Level 2 Charger\",\"Level 2 Charger\",\"Level 2 Charger\",\"Level 2 Charger\",\"EV Solar Canopy Charger\",\"EV Solar Canopy Charger\",\"EV Solar Canopy Charger\",\"EV Solar Canopy Charger\",\"EV Solar Canopy Charger\",\"EV Solar Canopy Charger\",\"EV Solar Arc Charger\",\"Level 2 Charger\",\"Level 2 Charger\",\"Level 2 Charger\",\"Level 2 Charger\",\"Level 2 Charger\",\"Level 2 Charger\",\"EV Solar Arc Charger\",\"Level 2 Charger\",\"Level 2 Charger\",\"Level 2 Charger\",\"Level 2 Charger\",\"Level 2 Charger\",\"Level 3 Fast Charger\",\"Level 3 Fast Charger\",\"Level 3 Fast Charger\",\"Level 2 Charger\",\"Level 3 Fast Charger\",\"Level 3 Fast Charger\",\"EV Solar Arc Charger\",\"Level 2 Charger\",\"Level 2 Charger\",\"Level 2 Charger\",\"Level 2 Charger\",\"Level 2 Charger\",\"Level 2 Charger\",\"Level 2 Charger\",\"Level 2 Charger\",\"Level 2 Charger\",\"Level 2 Charger\",\"Level 2 Charger\",\"EV Solar Arc Charger\",\"Level 2 Charger\",\"Level 2 Charger\",\"Level 3 Fast Charger\",\"Level 2 Charger\",\"EV Solar Arc Charger\",\"EV Solar Arc Charger\",\"EV Solar Arc Charger\",\"EV Solar Arc Charger\",\"EV Solar Arc Charger\",\"EV Solar Arc Charger\",\"Level 2 Charger\",\"Level 2 Charger\",\"Level 2 Charger\",\"Level 2 Charger\",\"Level 2 Charger\",\"Level 2 Charger\",\"Level 2 Charger\",\"Level 2 Charger\",\"Level 2 Charger\",\"Level 2 Charger\",\"EV Solar Arc Charger\",\"EV Solar Arc Charger\",\"EV Solar Arc Charger\",\"Level 2 Charger\",\"Level 2 Charger\",\"Level 2 Charger\",\"Level 2 Charger\",\"Level 2 Charger\",\"Level 2 Charger\",\"Level 2 Charger\",\"Level 2 Charger\",\"Level 2 Charger\",\"Level 2 Charger\",\"Level 2 Charger\",\"Level 2 Charger\",\"Level 2 Charger\",\"Level 2 Charger\",\"Level 2 Charger\",\"Level 2 Charger\",\"Level 2 Charger\",\"Level 2 Charger\",\"Level 2 Charger\",\"Level 2 Charger\",\"Level 2 Charger\",\"Level 2 Charger\",\"EV Solar Arc Charger\",\"Level 2 Charger\",\"Level 2 Charger\",\"Level 2 Charger\",\"Level 2 Charger\",\"Level 2 Charger\",\"Level 2 Charger\",\"Level 2 Charger\",\"Level 2 Charger\",\"Level 2 Charger\",\"Level 2 Charger\",\"Level 2 Charger\",\"Level 2 Charger\",\"Level 2 Charger\",\"Level 2 Charger\",\"Level 2 Charger\",\"Level 3 Fast Charger\",\"Level 3 Fast Charger\",\"Level 2 Charger\",\"Level 3 Fast Charger\",\"Level 3 Fast Charger\",\"Level 2 Charger\",\"Level 2 Charger\",\"EV Solar Arc Charger\",\"EV Solar Arc Charger\",\"EV Solar Arc Charger\",\"Level 2 Charger\",\"Level 2 Charger\",\"Level 2 Charger\",\"Level 2 Charger\",\"DOT Municipal Level 2 Charger\"],\"lat\":[40.887018,40.827109,40.877534,40.887018,40.887018,40.887018,40.887018,40.804827,40.804827,40.804827,40.804827,40.804827,40.804827,40.877534,40.877917,40.879456,40.804742,40.804742,40.752194,40.793705,40.788899,40.790301,40.790976,40.790985,40.790312,40.790301,40.79368,40.79368,40.79368,40.79368,40.79368,40.79368,40.802228,40.804859,40.790301,40.83587,40.877537,40.840733,40.877105,40.876606,40.807335,40.830589,40.87759,40.833586,40.833586,40.880471,40.853544,40.853544,40.842206,40.803141,40.803141,40.833338,40.841369,40.803141,40.803141,40.803059,40.803059,40.803059,40.803059,40.803059,40.803059,40.803059,40.803059,40.82064,40.848615,40.848615,40.847311,40.833338,40.884065,40.895835,40.904759,40.904759,40.848118,40.848118,40.847311,40.847311,40.847311,40.847311,40.845802,40.845802,40.845802,40.845802,40.845802,40.845802,40.853828,40.853828,40.853828,40.847311,40.847311,40.847311,40.847311,40.819343,40.839498,40.812786,40.839273,40.842053,40.842053,40.842053,40.825144,40.888188,40.888188,40.888188,40.888188,40.839498,40.835683,40.842053,40.836086,40.818987,40.846206,40.825243,40.810347,40.816198,40.816198,40.908297,40.908297,40.908297,40.830714,40.887306,40.887306,40.887306,40.887306,40.887306,40.887306,40.820729,40.820729,40.855351,40.855351,40.840261,40.841527,40.841527,40.837181,40.856047,40.84707,40.84707,40.84707,40.829823,40.829823,40.829823,40.829823,40.863249],\"legendgroup\":\"Bronx\",\"lon\":[-73.878095,-73.843596,-73.887189,-73.878095,-73.878095,-73.878095,-73.878095,-73.884759,-73.884759,-73.884759,-73.884759,-73.884759,-73.884759,-73.887189,-73.892251,-73.885016,-73.885322,-73.885322,-73.842964,-73.884157,-73.884411,-73.884412,-73.884374,-73.884396,-73.884412,-73.884412,-73.884139,-73.884139,-73.884139,-73.884139,-73.884139,-73.884139,-73.877557,-73.884531,-73.884412,-73.825774,-73.890921,-73.838685,-73.912256,-73.912839,-73.912731,-73.887587,-73.89104,-73.845099,-73.845099,-73.821784,-73.897301,-73.897301,-73.844168,-73.909049,-73.909049,-73.883614,-73.897872,-73.909049,-73.909049,-73.908904,-73.908904,-73.908904,-73.908904,-73.908904,-73.908904,-73.908904,-73.908904,-73.931104,-73.868576,-73.868576,-73.870827,-73.883614,-73.901217,-73.892345,-73.896715,-73.896715,-73.821238,-73.821238,-73.870827,-73.870827,-73.870827,-73.870827,-73.868694,-73.868694,-73.868694,-73.868694,-73.868694,-73.868694,-73.827513,-73.827513,-73.827513,-73.870827,-73.870827,-73.870827,-73.870827,-73.878396,-73.90231,-73.889857,-73.920629,-73.889504,-73.889504,-73.889504,-73.843139,-73.826903,-73.826903,-73.826903,-73.826903,-73.90231,-73.882143,-73.889504,-73.882066,-73.928909,-73.899394,-73.867481,-73.924941,-73.896,-73.896,-73.853698,-73.853698,-73.853698,-73.827125,-73.84727,-73.84727,-73.84727,-73.84727,-73.84727,-73.84727,-73.915665,-73.915665,-73.801579,-73.801579,-73.928514,-73.87232,-73.87232,-73.920451,-73.843944,-73.895984,-73.895984,-73.895984,-73.844707,-73.844707,-73.844707,-73.844707,-73.90068],\"marker\":{\"color\":\"#FFA15A\"},\"mode\":\"markers\",\"name\":\"Bronx\",\"showlegend\":true,\"subplot\":\"mapbox\",\"type\":\"scattermapbox\"}],                        {\"template\":{\"data\":{\"histogram2dcontour\":[{\"type\":\"histogram2dcontour\",\"colorbar\":{\"outlinewidth\":0,\"ticks\":\"\"},\"colorscale\":[[0.0,\"#0d0887\"],[0.1111111111111111,\"#46039f\"],[0.2222222222222222,\"#7201a8\"],[0.3333333333333333,\"#9c179e\"],[0.4444444444444444,\"#bd3786\"],[0.5555555555555556,\"#d8576b\"],[0.6666666666666666,\"#ed7953\"],[0.7777777777777778,\"#fb9f3a\"],[0.8888888888888888,\"#fdca26\"],[1.0,\"#f0f921\"]]}],\"choropleth\":[{\"type\":\"choropleth\",\"colorbar\":{\"outlinewidth\":0,\"ticks\":\"\"}}],\"histogram2d\":[{\"type\":\"histogram2d\",\"colorbar\":{\"outlinewidth\":0,\"ticks\":\"\"},\"colorscale\":[[0.0,\"#0d0887\"],[0.1111111111111111,\"#46039f\"],[0.2222222222222222,\"#7201a8\"],[0.3333333333333333,\"#9c179e\"],[0.4444444444444444,\"#bd3786\"],[0.5555555555555556,\"#d8576b\"],[0.6666666666666666,\"#ed7953\"],[0.7777777777777778,\"#fb9f3a\"],[0.8888888888888888,\"#fdca26\"],[1.0,\"#f0f921\"]]}],\"heatmap\":[{\"type\":\"heatmap\",\"colorbar\":{\"outlinewidth\":0,\"ticks\":\"\"},\"colorscale\":[[0.0,\"#0d0887\"],[0.1111111111111111,\"#46039f\"],[0.2222222222222222,\"#7201a8\"],[0.3333333333333333,\"#9c179e\"],[0.4444444444444444,\"#bd3786\"],[0.5555555555555556,\"#d8576b\"],[0.6666666666666666,\"#ed7953\"],[0.7777777777777778,\"#fb9f3a\"],[0.8888888888888888,\"#fdca26\"],[1.0,\"#f0f921\"]]}],\"heatmapgl\":[{\"type\":\"heatmapgl\",\"colorbar\":{\"outlinewidth\":0,\"ticks\":\"\"},\"colorscale\":[[0.0,\"#0d0887\"],[0.1111111111111111,\"#46039f\"],[0.2222222222222222,\"#7201a8\"],[0.3333333333333333,\"#9c179e\"],[0.4444444444444444,\"#bd3786\"],[0.5555555555555556,\"#d8576b\"],[0.6666666666666666,\"#ed7953\"],[0.7777777777777778,\"#fb9f3a\"],[0.8888888888888888,\"#fdca26\"],[1.0,\"#f0f921\"]]}],\"contourcarpet\":[{\"type\":\"contourcarpet\",\"colorbar\":{\"outlinewidth\":0,\"ticks\":\"\"}}],\"contour\":[{\"type\":\"contour\",\"colorbar\":{\"outlinewidth\":0,\"ticks\":\"\"},\"colorscale\":[[0.0,\"#0d0887\"],[0.1111111111111111,\"#46039f\"],[0.2222222222222222,\"#7201a8\"],[0.3333333333333333,\"#9c179e\"],[0.4444444444444444,\"#bd3786\"],[0.5555555555555556,\"#d8576b\"],[0.6666666666666666,\"#ed7953\"],[0.7777777777777778,\"#fb9f3a\"],[0.8888888888888888,\"#fdca26\"],[1.0,\"#f0f921\"]]}],\"surface\":[{\"type\":\"surface\",\"colorbar\":{\"outlinewidth\":0,\"ticks\":\"\"},\"colorscale\":[[0.0,\"#0d0887\"],[0.1111111111111111,\"#46039f\"],[0.2222222222222222,\"#7201a8\"],[0.3333333333333333,\"#9c179e\"],[0.4444444444444444,\"#bd3786\"],[0.5555555555555556,\"#d8576b\"],[0.6666666666666666,\"#ed7953\"],[0.7777777777777778,\"#fb9f3a\"],[0.8888888888888888,\"#fdca26\"],[1.0,\"#f0f921\"]]}],\"mesh3d\":[{\"type\":\"mesh3d\",\"colorbar\":{\"outlinewidth\":0,\"ticks\":\"\"}}],\"scatter\":[{\"fillpattern\":{\"fillmode\":\"overlay\",\"size\":10,\"solidity\":0.2},\"type\":\"scatter\"}],\"parcoords\":[{\"type\":\"parcoords\",\"line\":{\"colorbar\":{\"outlinewidth\":0,\"ticks\":\"\"}}}],\"scatterpolargl\":[{\"type\":\"scatterpolargl\",\"marker\":{\"colorbar\":{\"outlinewidth\":0,\"ticks\":\"\"}}}],\"bar\":[{\"error_x\":{\"color\":\"#2a3f5f\"},\"error_y\":{\"color\":\"#2a3f5f\"},\"marker\":{\"line\":{\"color\":\"#E5ECF6\",\"width\":0.5},\"pattern\":{\"fillmode\":\"overlay\",\"size\":10,\"solidity\":0.2}},\"type\":\"bar\"}],\"scattergeo\":[{\"type\":\"scattergeo\",\"marker\":{\"colorbar\":{\"outlinewidth\":0,\"ticks\":\"\"}}}],\"scatterpolar\":[{\"type\":\"scatterpolar\",\"marker\":{\"colorbar\":{\"outlinewidth\":0,\"ticks\":\"\"}}}],\"histogram\":[{\"marker\":{\"pattern\":{\"fillmode\":\"overlay\",\"size\":10,\"solidity\":0.2}},\"type\":\"histogram\"}],\"scattergl\":[{\"type\":\"scattergl\",\"marker\":{\"colorbar\":{\"outlinewidth\":0,\"ticks\":\"\"}}}],\"scatter3d\":[{\"type\":\"scatter3d\",\"line\":{\"colorbar\":{\"outlinewidth\":0,\"ticks\":\"\"}},\"marker\":{\"colorbar\":{\"outlinewidth\":0,\"ticks\":\"\"}}}],\"scattermapbox\":[{\"type\":\"scattermapbox\",\"marker\":{\"colorbar\":{\"outlinewidth\":0,\"ticks\":\"\"}}}],\"scatterternary\":[{\"type\":\"scatterternary\",\"marker\":{\"colorbar\":{\"outlinewidth\":0,\"ticks\":\"\"}}}],\"scattercarpet\":[{\"type\":\"scattercarpet\",\"marker\":{\"colorbar\":{\"outlinewidth\":0,\"ticks\":\"\"}}}],\"carpet\":[{\"aaxis\":{\"endlinecolor\":\"#2a3f5f\",\"gridcolor\":\"white\",\"linecolor\":\"white\",\"minorgridcolor\":\"white\",\"startlinecolor\":\"#2a3f5f\"},\"baxis\":{\"endlinecolor\":\"#2a3f5f\",\"gridcolor\":\"white\",\"linecolor\":\"white\",\"minorgridcolor\":\"white\",\"startlinecolor\":\"#2a3f5f\"},\"type\":\"carpet\"}],\"table\":[{\"cells\":{\"fill\":{\"color\":\"#EBF0F8\"},\"line\":{\"color\":\"white\"}},\"header\":{\"fill\":{\"color\":\"#C8D4E3\"},\"line\":{\"color\":\"white\"}},\"type\":\"table\"}],\"barpolar\":[{\"marker\":{\"line\":{\"color\":\"#E5ECF6\",\"width\":0.5},\"pattern\":{\"fillmode\":\"overlay\",\"size\":10,\"solidity\":0.2}},\"type\":\"barpolar\"}],\"pie\":[{\"automargin\":true,\"type\":\"pie\"}]},\"layout\":{\"autotypenumbers\":\"strict\",\"colorway\":[\"#636efa\",\"#EF553B\",\"#00cc96\",\"#ab63fa\",\"#FFA15A\",\"#19d3f3\",\"#FF6692\",\"#B6E880\",\"#FF97FF\",\"#FECB52\"],\"font\":{\"color\":\"#2a3f5f\"},\"hovermode\":\"closest\",\"hoverlabel\":{\"align\":\"left\"},\"paper_bgcolor\":\"white\",\"plot_bgcolor\":\"#E5ECF6\",\"polar\":{\"bgcolor\":\"#E5ECF6\",\"angularaxis\":{\"gridcolor\":\"white\",\"linecolor\":\"white\",\"ticks\":\"\"},\"radialaxis\":{\"gridcolor\":\"white\",\"linecolor\":\"white\",\"ticks\":\"\"}},\"ternary\":{\"bgcolor\":\"#E5ECF6\",\"aaxis\":{\"gridcolor\":\"white\",\"linecolor\":\"white\",\"ticks\":\"\"},\"baxis\":{\"gridcolor\":\"white\",\"linecolor\":\"white\",\"ticks\":\"\"},\"caxis\":{\"gridcolor\":\"white\",\"linecolor\":\"white\",\"ticks\":\"\"}},\"coloraxis\":{\"colorbar\":{\"outlinewidth\":0,\"ticks\":\"\"}},\"colorscale\":{\"sequential\":[[0.0,\"#0d0887\"],[0.1111111111111111,\"#46039f\"],[0.2222222222222222,\"#7201a8\"],[0.3333333333333333,\"#9c179e\"],[0.4444444444444444,\"#bd3786\"],[0.5555555555555556,\"#d8576b\"],[0.6666666666666666,\"#ed7953\"],[0.7777777777777778,\"#fb9f3a\"],[0.8888888888888888,\"#fdca26\"],[1.0,\"#f0f921\"]],\"sequentialminus\":[[0.0,\"#0d0887\"],[0.1111111111111111,\"#46039f\"],[0.2222222222222222,\"#7201a8\"],[0.3333333333333333,\"#9c179e\"],[0.4444444444444444,\"#bd3786\"],[0.5555555555555556,\"#d8576b\"],[0.6666666666666666,\"#ed7953\"],[0.7777777777777778,\"#fb9f3a\"],[0.8888888888888888,\"#fdca26\"],[1.0,\"#f0f921\"]],\"diverging\":[[0,\"#8e0152\"],[0.1,\"#c51b7d\"],[0.2,\"#de77ae\"],[0.3,\"#f1b6da\"],[0.4,\"#fde0ef\"],[0.5,\"#f7f7f7\"],[0.6,\"#e6f5d0\"],[0.7,\"#b8e186\"],[0.8,\"#7fbc41\"],[0.9,\"#4d9221\"],[1,\"#276419\"]]},\"xaxis\":{\"gridcolor\":\"white\",\"linecolor\":\"white\",\"ticks\":\"\",\"title\":{\"standoff\":15},\"zerolinecolor\":\"white\",\"automargin\":true,\"zerolinewidth\":2},\"yaxis\":{\"gridcolor\":\"white\",\"linecolor\":\"white\",\"ticks\":\"\",\"title\":{\"standoff\":15},\"zerolinecolor\":\"white\",\"automargin\":true,\"zerolinewidth\":2},\"scene\":{\"xaxis\":{\"backgroundcolor\":\"#E5ECF6\",\"gridcolor\":\"white\",\"linecolor\":\"white\",\"showbackground\":true,\"ticks\":\"\",\"zerolinecolor\":\"white\",\"gridwidth\":2},\"yaxis\":{\"backgroundcolor\":\"#E5ECF6\",\"gridcolor\":\"white\",\"linecolor\":\"white\",\"showbackground\":true,\"ticks\":\"\",\"zerolinecolor\":\"white\",\"gridwidth\":2},\"zaxis\":{\"backgroundcolor\":\"#E5ECF6\",\"gridcolor\":\"white\",\"linecolor\":\"white\",\"showbackground\":true,\"ticks\":\"\",\"zerolinecolor\":\"white\",\"gridwidth\":2}},\"shapedefaults\":{\"line\":{\"color\":\"#2a3f5f\"}},\"annotationdefaults\":{\"arrowcolor\":\"#2a3f5f\",\"arrowhead\":0,\"arrowwidth\":1},\"geo\":{\"bgcolor\":\"white\",\"landcolor\":\"#E5ECF6\",\"subunitcolor\":\"white\",\"showland\":true,\"showlakes\":true,\"lakecolor\":\"white\"},\"title\":{\"x\":0.05},\"mapbox\":{\"style\":\"light\"}}},\"mapbox\":{\"domain\":{\"x\":[0.0,1.0],\"y\":[0.0,1.0]},\"center\":{\"lat\":40.72623973552983,\"lon\":-73.93292074799643},\"zoom\":8,\"style\":\"carto-positron\"},\"legend\":{\"title\":{\"text\":\"BOROUGH\"},\"tracegroupgap\":0},\"title\":{\"text\":\"Geographic Distribution of EV Chargers (Charging Stations) in NYC\"},\"margin\":{\"r\":0,\"t\":50,\"l\":0,\"b\":0}},                        {\"responsive\": true}                    ).then(function(){\n",
       "                            \n",
       "var gd = document.getElementById('288f98f5-af32-4c07-9b8b-14a00a42b725');\n",
       "var x = new MutationObserver(function (mutations, observer) {{\n",
       "        var display = window.getComputedStyle(gd).display;\n",
       "        if (!display || display === 'none') {{\n",
       "            console.log([gd, 'removed!']);\n",
       "            Plotly.purge(gd);\n",
       "            observer.disconnect();\n",
       "        }}\n",
       "}});\n",
       "\n",
       "// Listen for the removal of the full notebook cells\n",
       "var notebookContainer = gd.closest('#notebook-container');\n",
       "if (notebookContainer) {{\n",
       "    x.observe(notebookContainer, {childList: true});\n",
       "}}\n",
       "\n",
       "// Listen for the clearing of the current output cell\n",
       "var outputEl = gd.closest('.output');\n",
       "if (outputEl) {{\n",
       "    x.observe(outputEl, {childList: true});\n",
       "}}\n",
       "\n",
       "                        })                };                });            </script>        </div>"
      ]
     },
     "metadata": {},
     "output_type": "display_data"
    }
   ],
   "source": [
    "# Create the scatter map \n",
    "fig_map = px.scatter_mapbox(\n",
    "    ev_charging,\n",
    "    lat='LATITUDE',\n",
    "    lon='LONGITUDE',\n",
    "    color='BOROUGH',\n",
    "    mapbox_style='carto-positron',\n",
    "    title='Geographic Distribution of EV Chargers (Charging Stations) in NYC',\n",
    "    hover_name='TYPE OF CHARGER'\n",
    ")\n",
    "\n",
    "# Adjust map layout for better visualization \n",
    "fig_map.update_layout(margin={\"r\":0, \"t\":50, \"l\":0, \"b\":0})\n",
    "\n",
    "fig_map.show()"
   ]
  },
  {
   "cell_type": "markdown",
   "id": "ddac6b95-f9f5-4c65-98ac-edb603adfd27",
   "metadata": {},
   "source": [
    "### Summary"
   ]
  },
  {
   "cell_type": "markdown",
   "id": "91b90c00-6c86-4630-b4db-b6c605cc2143",
   "metadata": {},
   "source": [
    "**Observations**  \n",
    "1)Total Number of EV Charges by Borough:\n",
    "- Queens has the highest number of EV chargers (371), followed by Brooklyn (261) and Manhattan (238). Bronx and Staten Island have significantly fewer chargers, with 140 and 113 stations, respectively.\n",
    "- This indicates that Queens, likely due to its large area and diverse facilities, has invested significantly in EV infrastructure.\n",
    "\n",
    "2)Distribution by Charger Type:\n",
    "- Queens dominates across most charger types, including Level 2 Chargers, which are the most common type of EV chargers citywide.\n",
    "- Manhattan has the highest proportion of Level 3 Fast Chargers, likely reflecting its need for quick-charging infrastructure due to high vehicle density and commercial activity.\n",
    "- Solar-powered chargers are also present in Queens, Brooklyn, and Bronx, showing signs of a city-wide push for renewable energy adoption.\n",
    "\n",
    "3)Geographic Spread of EV Charges:\n",
    "- The scatter map shows a dense clustering of chargers in Manhattan, concentrated in central and high-traffic areas, aligning with its commercial focus.\n",
    "- Queens has a widespread distribution, with stations covering a variety of residential, industrial, and commercial zones.\n",
    "Bronx and Staten Island exhibit sparser networks, indicating potential areas for further development.\n",
    "\n",
    "\n",
    "**Key Takeaways**  \n",
    "Our hypothesis posited that the number and type of EV charging stations are unevenly distributed across the five NYC boroughs, potentially influenced by differences in fleet vehicle usage, area size, commercial development, or administrative priorities. We also suspected that the more commercially developed Manhattan could have more chargers(charging stations) than other boroughs. \n",
    "\n",
    "The data analysis we have conducted partially supports our hypothesis as it confirms significant disparities (uneven distribution), with Queens having the highest number of EV chargers overall (371), likely due to its large geographic size and diverse facilities. However, Manhattan, the borough most associated with commercial development, has fewer total chargers (238) than we expected. In the meantime, it's insightful to see that Manhattan leads in the proportion of advanced infrastructure, such as Level 3 Fast Chargers, which cater to high-density, fast-paced environments. This reflects administrative priorities aligning with Manhattan’s commercial and traffic demands. In contrast, Bronx and Staten Island, with fewer chargers overall and sparse networks of advanced chargers, are likely underserved areas, reflecting either lower current demand or less strategic investment. These findings suggest that while Manhattan’s commercial focus drives the deployment of advanced infrastructure, boroughs like Queens demonstrate the importance of area size and diverse usage contexts in determining the total number of chargers, ultimately supporting our hypothesis in a nuanced way."
   ]
  },
  {
   "cell_type": "code",
   "execution_count": null,
   "id": "8f042e17-7c5d-496f-a897-f3ea51f41c40",
   "metadata": {},
   "outputs": [],
   "source": []
  },
  {
   "cell_type": "code",
   "execution_count": null,
   "id": "9ec0c01b-7ebf-4b6d-ba93-739ec672a694",
   "metadata": {},
   "outputs": [],
   "source": []
  },
  {
   "cell_type": "code",
   "execution_count": null,
   "id": "ec7c8aec-2878-4899-b1f9-a9a0ed901d37",
   "metadata": {},
   "outputs": [],
   "source": []
  },
  {
   "cell_type": "code",
   "execution_count": null,
   "id": "899c79bc-54ff-42fe-8259-782c8b5bcd67",
   "metadata": {},
   "outputs": [],
   "source": []
  },
  {
   "cell_type": "code",
   "execution_count": null,
   "id": "e99a36ee-39e6-4d1d-88d4-36a8c0316d8e",
   "metadata": {},
   "outputs": [],
   "source": []
  },
  {
   "cell_type": "code",
   "execution_count": null,
   "id": "4d3d815b-6036-4cef-9a83-7c900c17f745",
   "metadata": {},
   "outputs": [],
   "source": []
  },
  {
   "cell_type": "code",
   "execution_count": null,
   "id": "3e9bbd46-d9ee-4956-87bc-2d773d6023b3",
   "metadata": {},
   "outputs": [],
   "source": []
  }
 ],
 "metadata": {
  "kernelspec": {
   "display_name": "Python 3 (ipykernel)",
   "language": "python",
   "name": "python3"
  },
  "language_info": {
   "codemirror_mode": {
    "name": "ipython",
    "version": 3
   },
   "file_extension": ".py",
   "mimetype": "text/x-python",
   "name": "python",
   "nbconvert_exporter": "python",
   "pygments_lexer": "ipython3",
   "version": "3.9.6"
  }
 },
 "nbformat": 4,
 "nbformat_minor": 5
}
