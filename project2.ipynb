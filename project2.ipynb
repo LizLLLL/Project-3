{
 "cells": [
  {
   "cell_type": "markdown",
   "id": "688d5dcd-9d91-429b-b9d3-82a829a1192d",
   "metadata": {
    "editable": true,
    "slideshow": {
     "slide_type": ""
    },
    "tags": []
   },
   "source": [
    "## Project 2\n",
    "## NYC Juvenile and Adult Case Closings(2017-2023)"
   ]
  },
  {
   "cell_type": "markdown",
   "id": "1386449c-def2-451c-ac38-b3fa9b32f4e8",
   "metadata": {},
   "source": [
    "In this project, we explore data from the *NYC Department of Probation*, focusing on trends in case closings for juveniles and adults between 2017 and 2023. The hypothesis being tested is whether systematic probation policies have led to similar trends for juveniles and adults over this period.\n",
    "\n",
    "We will analyze trends for:  \n",
    "**Early Discharge** (for both adults and juveniles).  \n",
    "**Probation-related** closures: Violation of Probation (adults) and Probation Revoked (juveniles).\n",
    "\n",
    "Key questions we are addressing:  \n",
    "How do trends in Early Discharge compare between juveniles and adults?  \n",
    "Are probation-related closures following similar patterns across these groups?\n",
    "\n",
    "More specific data info can be found here:  \n",
    "https://data.cityofnewyork.us/Public-Safety/DOP-Adult-Case-Closings-By-Reason/u6p4-fsey/about_data  \n",
    "https://data.cityofnewyork.us/Public-Safety/DOP-Juvenile-Case-Closings-By-Reason/wha7-46h5/about_data\n"
   ]
  },
  {
   "cell_type": "markdown",
   "id": "fd6c0143-bdff-4b2f-b4e6-2e14f7344cb1",
   "metadata": {},
   "source": [
    "### Step 1: Load and Inspect Data"
   ]
  },
  {
   "cell_type": "code",
   "execution_count": 1,
   "id": "f74c5bf8-f192-42a0-a8f9-ab217b832499",
   "metadata": {},
   "outputs": [
    {
     "ename": "FileNotFoundError",
     "evalue": "[Errno 2] No such file or directory: 'DOP_Adult_Case_Closings_By_Reason_20241124.csv'",
     "output_type": "error",
     "traceback": [
      "\u001b[0;31m---------------------------------------------------------------------------\u001b[0m",
      "\u001b[0;31mFileNotFoundError\u001b[0m                         Traceback (most recent call last)",
      "Cell \u001b[0;32mIn[1], line 4\u001b[0m\n\u001b[1;32m      1\u001b[0m \u001b[38;5;28;01mimport\u001b[39;00m \u001b[38;5;21;01mpandas\u001b[39;00m \u001b[38;5;28;01mas\u001b[39;00m \u001b[38;5;21;01mpd\u001b[39;00m\n\u001b[1;32m      3\u001b[0m \u001b[38;5;66;03m#Load datasets\u001b[39;00m\n\u001b[0;32m----> 4\u001b[0m adult_cases \u001b[38;5;241m=\u001b[39m \u001b[43mpd\u001b[49m\u001b[38;5;241;43m.\u001b[39;49m\u001b[43mread_csv\u001b[49m\u001b[43m(\u001b[49m\u001b[38;5;124;43m\"\u001b[39;49m\u001b[38;5;124;43mDOP_Adult_Case_Closings_By_Reason_20241124.csv\u001b[39;49m\u001b[38;5;124;43m\"\u001b[39;49m\u001b[43m)\u001b[49m\n\u001b[1;32m      5\u001b[0m juvenile_cases \u001b[38;5;241m=\u001b[39m pd\u001b[38;5;241m.\u001b[39mread_csv(\u001b[38;5;124m\"\u001b[39m\u001b[38;5;124mDOP_Juvenile_Case_Closings_By_Reason_20241124.csv\u001b[39m\u001b[38;5;124m\"\u001b[39m)\n\u001b[1;32m      7\u001b[0m \u001b[38;5;66;03m#Display the first few rows to understand the data structure\u001b[39;00m\n",
      "File \u001b[0;32m~/Library/Python/3.9/lib/python/site-packages/pandas/io/parsers/readers.py:1026\u001b[0m, in \u001b[0;36mread_csv\u001b[0;34m(filepath_or_buffer, sep, delimiter, header, names, index_col, usecols, dtype, engine, converters, true_values, false_values, skipinitialspace, skiprows, skipfooter, nrows, na_values, keep_default_na, na_filter, verbose, skip_blank_lines, parse_dates, infer_datetime_format, keep_date_col, date_parser, date_format, dayfirst, cache_dates, iterator, chunksize, compression, thousands, decimal, lineterminator, quotechar, quoting, doublequote, escapechar, comment, encoding, encoding_errors, dialect, on_bad_lines, delim_whitespace, low_memory, memory_map, float_precision, storage_options, dtype_backend)\u001b[0m\n\u001b[1;32m   1013\u001b[0m kwds_defaults \u001b[38;5;241m=\u001b[39m _refine_defaults_read(\n\u001b[1;32m   1014\u001b[0m     dialect,\n\u001b[1;32m   1015\u001b[0m     delimiter,\n\u001b[0;32m   (...)\u001b[0m\n\u001b[1;32m   1022\u001b[0m     dtype_backend\u001b[38;5;241m=\u001b[39mdtype_backend,\n\u001b[1;32m   1023\u001b[0m )\n\u001b[1;32m   1024\u001b[0m kwds\u001b[38;5;241m.\u001b[39mupdate(kwds_defaults)\n\u001b[0;32m-> 1026\u001b[0m \u001b[38;5;28;01mreturn\u001b[39;00m \u001b[43m_read\u001b[49m\u001b[43m(\u001b[49m\u001b[43mfilepath_or_buffer\u001b[49m\u001b[43m,\u001b[49m\u001b[43m \u001b[49m\u001b[43mkwds\u001b[49m\u001b[43m)\u001b[49m\n",
      "File \u001b[0;32m~/Library/Python/3.9/lib/python/site-packages/pandas/io/parsers/readers.py:620\u001b[0m, in \u001b[0;36m_read\u001b[0;34m(filepath_or_buffer, kwds)\u001b[0m\n\u001b[1;32m    617\u001b[0m _validate_names(kwds\u001b[38;5;241m.\u001b[39mget(\u001b[38;5;124m\"\u001b[39m\u001b[38;5;124mnames\u001b[39m\u001b[38;5;124m\"\u001b[39m, \u001b[38;5;28;01mNone\u001b[39;00m))\n\u001b[1;32m    619\u001b[0m \u001b[38;5;66;03m# Create the parser.\u001b[39;00m\n\u001b[0;32m--> 620\u001b[0m parser \u001b[38;5;241m=\u001b[39m \u001b[43mTextFileReader\u001b[49m\u001b[43m(\u001b[49m\u001b[43mfilepath_or_buffer\u001b[49m\u001b[43m,\u001b[49m\u001b[43m \u001b[49m\u001b[38;5;241;43m*\u001b[39;49m\u001b[38;5;241;43m*\u001b[39;49m\u001b[43mkwds\u001b[49m\u001b[43m)\u001b[49m\n\u001b[1;32m    622\u001b[0m \u001b[38;5;28;01mif\u001b[39;00m chunksize \u001b[38;5;129;01mor\u001b[39;00m iterator:\n\u001b[1;32m    623\u001b[0m     \u001b[38;5;28;01mreturn\u001b[39;00m parser\n",
      "File \u001b[0;32m~/Library/Python/3.9/lib/python/site-packages/pandas/io/parsers/readers.py:1620\u001b[0m, in \u001b[0;36mTextFileReader.__init__\u001b[0;34m(self, f, engine, **kwds)\u001b[0m\n\u001b[1;32m   1617\u001b[0m     \u001b[38;5;28mself\u001b[39m\u001b[38;5;241m.\u001b[39moptions[\u001b[38;5;124m\"\u001b[39m\u001b[38;5;124mhas_index_names\u001b[39m\u001b[38;5;124m\"\u001b[39m] \u001b[38;5;241m=\u001b[39m kwds[\u001b[38;5;124m\"\u001b[39m\u001b[38;5;124mhas_index_names\u001b[39m\u001b[38;5;124m\"\u001b[39m]\n\u001b[1;32m   1619\u001b[0m \u001b[38;5;28mself\u001b[39m\u001b[38;5;241m.\u001b[39mhandles: IOHandles \u001b[38;5;241m|\u001b[39m \u001b[38;5;28;01mNone\u001b[39;00m \u001b[38;5;241m=\u001b[39m \u001b[38;5;28;01mNone\u001b[39;00m\n\u001b[0;32m-> 1620\u001b[0m \u001b[38;5;28mself\u001b[39m\u001b[38;5;241m.\u001b[39m_engine \u001b[38;5;241m=\u001b[39m \u001b[38;5;28;43mself\u001b[39;49m\u001b[38;5;241;43m.\u001b[39;49m\u001b[43m_make_engine\u001b[49m\u001b[43m(\u001b[49m\u001b[43mf\u001b[49m\u001b[43m,\u001b[49m\u001b[43m \u001b[49m\u001b[38;5;28;43mself\u001b[39;49m\u001b[38;5;241;43m.\u001b[39;49m\u001b[43mengine\u001b[49m\u001b[43m)\u001b[49m\n",
      "File \u001b[0;32m~/Library/Python/3.9/lib/python/site-packages/pandas/io/parsers/readers.py:1880\u001b[0m, in \u001b[0;36mTextFileReader._make_engine\u001b[0;34m(self, f, engine)\u001b[0m\n\u001b[1;32m   1878\u001b[0m     \u001b[38;5;28;01mif\u001b[39;00m \u001b[38;5;124m\"\u001b[39m\u001b[38;5;124mb\u001b[39m\u001b[38;5;124m\"\u001b[39m \u001b[38;5;129;01mnot\u001b[39;00m \u001b[38;5;129;01min\u001b[39;00m mode:\n\u001b[1;32m   1879\u001b[0m         mode \u001b[38;5;241m+\u001b[39m\u001b[38;5;241m=\u001b[39m \u001b[38;5;124m\"\u001b[39m\u001b[38;5;124mb\u001b[39m\u001b[38;5;124m\"\u001b[39m\n\u001b[0;32m-> 1880\u001b[0m \u001b[38;5;28mself\u001b[39m\u001b[38;5;241m.\u001b[39mhandles \u001b[38;5;241m=\u001b[39m \u001b[43mget_handle\u001b[49m\u001b[43m(\u001b[49m\n\u001b[1;32m   1881\u001b[0m \u001b[43m    \u001b[49m\u001b[43mf\u001b[49m\u001b[43m,\u001b[49m\n\u001b[1;32m   1882\u001b[0m \u001b[43m    \u001b[49m\u001b[43mmode\u001b[49m\u001b[43m,\u001b[49m\n\u001b[1;32m   1883\u001b[0m \u001b[43m    \u001b[49m\u001b[43mencoding\u001b[49m\u001b[38;5;241;43m=\u001b[39;49m\u001b[38;5;28;43mself\u001b[39;49m\u001b[38;5;241;43m.\u001b[39;49m\u001b[43moptions\u001b[49m\u001b[38;5;241;43m.\u001b[39;49m\u001b[43mget\u001b[49m\u001b[43m(\u001b[49m\u001b[38;5;124;43m\"\u001b[39;49m\u001b[38;5;124;43mencoding\u001b[39;49m\u001b[38;5;124;43m\"\u001b[39;49m\u001b[43m,\u001b[49m\u001b[43m \u001b[49m\u001b[38;5;28;43;01mNone\u001b[39;49;00m\u001b[43m)\u001b[49m\u001b[43m,\u001b[49m\n\u001b[1;32m   1884\u001b[0m \u001b[43m    \u001b[49m\u001b[43mcompression\u001b[49m\u001b[38;5;241;43m=\u001b[39;49m\u001b[38;5;28;43mself\u001b[39;49m\u001b[38;5;241;43m.\u001b[39;49m\u001b[43moptions\u001b[49m\u001b[38;5;241;43m.\u001b[39;49m\u001b[43mget\u001b[49m\u001b[43m(\u001b[49m\u001b[38;5;124;43m\"\u001b[39;49m\u001b[38;5;124;43mcompression\u001b[39;49m\u001b[38;5;124;43m\"\u001b[39;49m\u001b[43m,\u001b[49m\u001b[43m \u001b[49m\u001b[38;5;28;43;01mNone\u001b[39;49;00m\u001b[43m)\u001b[49m\u001b[43m,\u001b[49m\n\u001b[1;32m   1885\u001b[0m \u001b[43m    \u001b[49m\u001b[43mmemory_map\u001b[49m\u001b[38;5;241;43m=\u001b[39;49m\u001b[38;5;28;43mself\u001b[39;49m\u001b[38;5;241;43m.\u001b[39;49m\u001b[43moptions\u001b[49m\u001b[38;5;241;43m.\u001b[39;49m\u001b[43mget\u001b[49m\u001b[43m(\u001b[49m\u001b[38;5;124;43m\"\u001b[39;49m\u001b[38;5;124;43mmemory_map\u001b[39;49m\u001b[38;5;124;43m\"\u001b[39;49m\u001b[43m,\u001b[49m\u001b[43m \u001b[49m\u001b[38;5;28;43;01mFalse\u001b[39;49;00m\u001b[43m)\u001b[49m\u001b[43m,\u001b[49m\n\u001b[1;32m   1886\u001b[0m \u001b[43m    \u001b[49m\u001b[43mis_text\u001b[49m\u001b[38;5;241;43m=\u001b[39;49m\u001b[43mis_text\u001b[49m\u001b[43m,\u001b[49m\n\u001b[1;32m   1887\u001b[0m \u001b[43m    \u001b[49m\u001b[43merrors\u001b[49m\u001b[38;5;241;43m=\u001b[39;49m\u001b[38;5;28;43mself\u001b[39;49m\u001b[38;5;241;43m.\u001b[39;49m\u001b[43moptions\u001b[49m\u001b[38;5;241;43m.\u001b[39;49m\u001b[43mget\u001b[49m\u001b[43m(\u001b[49m\u001b[38;5;124;43m\"\u001b[39;49m\u001b[38;5;124;43mencoding_errors\u001b[39;49m\u001b[38;5;124;43m\"\u001b[39;49m\u001b[43m,\u001b[49m\u001b[43m \u001b[49m\u001b[38;5;124;43m\"\u001b[39;49m\u001b[38;5;124;43mstrict\u001b[39;49m\u001b[38;5;124;43m\"\u001b[39;49m\u001b[43m)\u001b[49m\u001b[43m,\u001b[49m\n\u001b[1;32m   1888\u001b[0m \u001b[43m    \u001b[49m\u001b[43mstorage_options\u001b[49m\u001b[38;5;241;43m=\u001b[39;49m\u001b[38;5;28;43mself\u001b[39;49m\u001b[38;5;241;43m.\u001b[39;49m\u001b[43moptions\u001b[49m\u001b[38;5;241;43m.\u001b[39;49m\u001b[43mget\u001b[49m\u001b[43m(\u001b[49m\u001b[38;5;124;43m\"\u001b[39;49m\u001b[38;5;124;43mstorage_options\u001b[39;49m\u001b[38;5;124;43m\"\u001b[39;49m\u001b[43m,\u001b[49m\u001b[43m \u001b[49m\u001b[38;5;28;43;01mNone\u001b[39;49;00m\u001b[43m)\u001b[49m\u001b[43m,\u001b[49m\n\u001b[1;32m   1889\u001b[0m \u001b[43m\u001b[49m\u001b[43m)\u001b[49m\n\u001b[1;32m   1890\u001b[0m \u001b[38;5;28;01massert\u001b[39;00m \u001b[38;5;28mself\u001b[39m\u001b[38;5;241m.\u001b[39mhandles \u001b[38;5;129;01mis\u001b[39;00m \u001b[38;5;129;01mnot\u001b[39;00m \u001b[38;5;28;01mNone\u001b[39;00m\n\u001b[1;32m   1891\u001b[0m f \u001b[38;5;241m=\u001b[39m \u001b[38;5;28mself\u001b[39m\u001b[38;5;241m.\u001b[39mhandles\u001b[38;5;241m.\u001b[39mhandle\n",
      "File \u001b[0;32m~/Library/Python/3.9/lib/python/site-packages/pandas/io/common.py:873\u001b[0m, in \u001b[0;36mget_handle\u001b[0;34m(path_or_buf, mode, encoding, compression, memory_map, is_text, errors, storage_options)\u001b[0m\n\u001b[1;32m    868\u001b[0m \u001b[38;5;28;01melif\u001b[39;00m \u001b[38;5;28misinstance\u001b[39m(handle, \u001b[38;5;28mstr\u001b[39m):\n\u001b[1;32m    869\u001b[0m     \u001b[38;5;66;03m# Check whether the filename is to be opened in binary mode.\u001b[39;00m\n\u001b[1;32m    870\u001b[0m     \u001b[38;5;66;03m# Binary mode does not support 'encoding' and 'newline'.\u001b[39;00m\n\u001b[1;32m    871\u001b[0m     \u001b[38;5;28;01mif\u001b[39;00m ioargs\u001b[38;5;241m.\u001b[39mencoding \u001b[38;5;129;01mand\u001b[39;00m \u001b[38;5;124m\"\u001b[39m\u001b[38;5;124mb\u001b[39m\u001b[38;5;124m\"\u001b[39m \u001b[38;5;129;01mnot\u001b[39;00m \u001b[38;5;129;01min\u001b[39;00m ioargs\u001b[38;5;241m.\u001b[39mmode:\n\u001b[1;32m    872\u001b[0m         \u001b[38;5;66;03m# Encoding\u001b[39;00m\n\u001b[0;32m--> 873\u001b[0m         handle \u001b[38;5;241m=\u001b[39m \u001b[38;5;28;43mopen\u001b[39;49m\u001b[43m(\u001b[49m\n\u001b[1;32m    874\u001b[0m \u001b[43m            \u001b[49m\u001b[43mhandle\u001b[49m\u001b[43m,\u001b[49m\n\u001b[1;32m    875\u001b[0m \u001b[43m            \u001b[49m\u001b[43mioargs\u001b[49m\u001b[38;5;241;43m.\u001b[39;49m\u001b[43mmode\u001b[49m\u001b[43m,\u001b[49m\n\u001b[1;32m    876\u001b[0m \u001b[43m            \u001b[49m\u001b[43mencoding\u001b[49m\u001b[38;5;241;43m=\u001b[39;49m\u001b[43mioargs\u001b[49m\u001b[38;5;241;43m.\u001b[39;49m\u001b[43mencoding\u001b[49m\u001b[43m,\u001b[49m\n\u001b[1;32m    877\u001b[0m \u001b[43m            \u001b[49m\u001b[43merrors\u001b[49m\u001b[38;5;241;43m=\u001b[39;49m\u001b[43merrors\u001b[49m\u001b[43m,\u001b[49m\n\u001b[1;32m    878\u001b[0m \u001b[43m            \u001b[49m\u001b[43mnewline\u001b[49m\u001b[38;5;241;43m=\u001b[39;49m\u001b[38;5;124;43m\"\u001b[39;49m\u001b[38;5;124;43m\"\u001b[39;49m\u001b[43m,\u001b[49m\n\u001b[1;32m    879\u001b[0m \u001b[43m        \u001b[49m\u001b[43m)\u001b[49m\n\u001b[1;32m    880\u001b[0m     \u001b[38;5;28;01melse\u001b[39;00m:\n\u001b[1;32m    881\u001b[0m         \u001b[38;5;66;03m# Binary mode\u001b[39;00m\n\u001b[1;32m    882\u001b[0m         handle \u001b[38;5;241m=\u001b[39m \u001b[38;5;28mopen\u001b[39m(handle, ioargs\u001b[38;5;241m.\u001b[39mmode)\n",
      "\u001b[0;31mFileNotFoundError\u001b[0m: [Errno 2] No such file or directory: 'DOP_Adult_Case_Closings_By_Reason_20241124.csv'"
     ]
    }
   ],
   "source": [
    "import pandas as pd\n",
    "\n",
    "#Load datasets\n",
    "adult_cases = pd.read_csv(\"DOP_Adult_Case_Closings_By_Reason_20241124.csv\")\n",
    "juvenile_cases = pd.read_csv(\"DOP_Juvenile_Case_Closings_By_Reason_20241124.csv\")\n",
    "\n",
    "#Display the first few rows to understand the data structure\n",
    "adult_cases.head(), juvenile_cases.head()"
   ]
  },
  {
   "cell_type": "markdown",
   "id": "4a82656d-8cdb-4a94-b31f-a4a9d2989915",
   "metadata": {},
   "source": [
    "### Step 2: Filter the Data\n",
    "\n",
    "We filter the data to include only the data from 2017 to 2023, and the case closing reasons we choose to look at are Early Discharge for both adult and juvenile cases and Violation of Probation (adults) and Probation Revoked(juveniles)."
   ]
  },
  {
   "cell_type": "code",
   "execution_count": null,
   "id": "6f410048-f513-40e6-a68c-b01cc2fad924",
   "metadata": {},
   "outputs": [],
   "source": [
    "# Filter the relevant years and case closing reasons\n",
    "years = range(2017, 2024)\n",
    "adult_cases = adult_cases[\n",
    "    (adult_cases['Year'].isin(years)) &\n",
    "    (adult_cases['Supervision Closing Reason'].isin(['Early Discharge', 'Violation of Probation']))\n",
    "]\n",
    "juvenile_cases = juvenile_cases[\n",
    "    (juvenile_cases['Year'].isin(years)) &\n",
    "    (juvenile_cases['Supervision Closing Reason'].isin(['Early Discharge', 'Probation Revoked']))\n",
    "]\n",
    "\n",
    "# Check the cleaned data\n",
    "adult_cases.head(), juvenile_cases.head()"
   ]
  },
  {
   "cell_type": "markdown",
   "id": "0a1136c3-f4db-4d0b-a869-62f580f8f60e",
   "metadata": {},
   "source": [
    "### Step 3: Group the Data by Year and Reason"
   ]
  },
  {
   "cell_type": "code",
   "execution_count": null,
   "id": "b273282d-c461-451e-a8c1-497d66c360e0",
   "metadata": {},
   "outputs": [],
   "source": [
    "# Group by year and reason, summing the counts\n",
    "adult_grouped = adult_cases.groupby(['Year', 'Supervision Closing Reason'])['Supervision Closing Count'].sum().reset_index()\n",
    "juvenile_grouped = juvenile_cases.groupby(['Year', 'Supervision Closing Reason'])['Supervision Closing Count'].sum().reset_index()\n",
    "\n",
    "# Pivot tables for visualization purposes \n",
    "adult_pivot = adult_grouped.pivot(index='Year', columns='Supervision Closing Reason', values='Supervision Closing Count').fillna(0)\n",
    "juvenile_pivot = juvenile_grouped.pivot(index='Year', columns='Supervision Closing Reason', values='Supervision Closing Count').fillna(0)\n",
    "\n",
    "adult_pivot, juvenile_pivot"
   ]
  },
  {
   "cell_type": "markdown",
   "id": "4c40b3e1-2baa-4a80-ac25-78917d5cd906",
   "metadata": {},
   "source": [
    "### Step 4: Visualizing Trends in Early Discharge"
   ]
  },
  {
   "cell_type": "code",
   "execution_count": null,
   "id": "4fe7cb4c-f99f-4642-b02c-b621c6850051",
   "metadata": {
    "editable": true,
    "slideshow": {
     "slide_type": ""
    },
    "tags": []
   },
   "outputs": [],
   "source": [
    "import plotly.express as px\n",
    "import plotly.io as pio \n",
    "\n",
    "pio.renderers.default = \"vscode+jupyterlab+notebook_connected\" \n",
    "\n",
    "# Early Discharge trends for adult and juvenile cases \n",
    "early_discharge = adult_pivot[['Early Discharge']].rename(columns={'Early Discharge': 'Adult Early Discharge'}).reset_index()\n",
    "early_discharge['Juvenile Early Discharge'] = juvenile_pivot['Early Discharge'].values \n",
    "\n",
    "fig = px.line(\n",
    "    early_discharge,\n",
    "    x='Year',\n",
    "    y=['Adult Early Discharge', 'Juvenile Early Discharge'],\n",
    "    markers=True,\n",
    "    title=\"Trends in Early Discharge (2017-2023)\",\n",
    "    labels={'value': 'Number of Cases Closed', 'Year':'Year'}\n",
    ")\n",
    "fig.update_layout(\n",
    "    legend_title_text='Case Type',\n",
    "    xaxis_title='Year',\n",
    "    yaxis_title='Number of Cases Closed',\n",
    "    yaxis=dict(tickmode='linear',tick0=0,dtick=200) # Set tick interval on y-axis to 200\n",
    ")\n",
    "fig.show()"
   ]
  },
  {
   "cell_type": "markdown",
   "id": "394bae93-3deb-4e80-8932-c51e1a4bd515",
   "metadata": {},
   "source": [
    "**Observations**:  \n",
    "- Adults: A significant increase in Early Discharges from 2017 to 2019, followed by a drop in 2020 and 2021, possibly due to the COVID-19 pandemic. Numbers recovered slightly in 2023.\n",
    "- Juveniles: A consistent decline from 2017 to 2021, with a small rise in 2022 before dipping again in 2023. Early Discharges for juveniles are far lower than for adults across all years.\n"
   ]
  },
  {
   "cell_type": "markdown",
   "id": "734a9473-643f-4ca7-803a-154acaf3a800",
   "metadata": {},
   "source": [
    "### Step 5: Visualize Trends in Probation-Related Closings"
   ]
  },
  {
   "cell_type": "code",
   "execution_count": null,
   "id": "d3830263-9304-45a8-8f97-4dcc35a70d65",
   "metadata": {},
   "outputs": [],
   "source": [
    "# Probation-related trends for adults and juveniles\n",
    "probation_related = adult_pivot[['Violation of Probation']].rename(columns={'Violation of Probation': 'Adult Violation of Probation'}).reset_index()\n",
    "probation_related['Juvenile Probation Revoked'] = juvenile_pivot['Probation Revoked'].values\n",
    "\n",
    "fig = px.line(\n",
    "    probation_related,\n",
    "    x='Year',\n",
    "    y=['Adult Violation of Probation', 'Juvenile Probation Revoked'],\n",
    "    markers=True,\n",
    "    title=\"Trends in Probation-Related Closings (2017-2023)\",\n",
    "    labels={'value': 'Number of Cases Closed', 'Year': 'Year'}\n",
    ")\n",
    "fig.update_layout(\n",
    "    legend_title_text='Case Type',\n",
    "    xaxis_title='Year',\n",
    "    yaxis_title='Number of Cases Closed',\n",
    "    yaxis=dict(tickmode='linear', tick0=0, dtick=200) \n",
    ")\n",
    "fig.show()"
   ]
  },
  {
   "cell_type": "markdown",
   "id": "77c9899c-a1a1-441d-af42-81c6aa7f2819",
   "metadata": {},
   "source": [
    "**Observations:**  \n",
    "- Adults: A steady decrease in violations from 2017 to 2020, followed by a recovery in 2022 and 2023.\n",
    "The trend may reflect shifts in enforcement or changes in supervision practices during and after the pandemic.\n",
    "- Juveniles: A sharper decline in probation revocations from 2017 to 2021. A modest recovery in 2023, but the overall numbers are far lower than for adults."
   ]
  },
  {
   "cell_type": "markdown",
   "id": "1f619b04-0c6d-4b62-a1c5-6d46e6745fdd",
   "metadata": {},
   "source": [
    "### Step 6: Compare All Trends in A Single Visualization "
   ]
  },
  {
   "cell_type": "code",
   "execution_count": null,
   "id": "0af0e783-6db2-4c02-82fc-7e04ff6bcd59",
   "metadata": {},
   "outputs": [],
   "source": [
    "# Combine all adult and juvenile trends for both Early Discharge and Probation-related closings\n",
    "combined_data = adult_pivot[['Early Discharge', 'Violation of Probation']].rename(\n",
    "    columns={'Early Discharge': 'Adult Early Discharge', 'Violation of Probation': 'Adult Violation of Probation'}\n",
    ").reset_index()\n",
    "combined_data['Juvenile Early Discharge'] = juvenile_pivot['Early Discharge'].values\n",
    "combined_data['Juvenile Probation Revoked'] = juvenile_pivot['Probation Revoked'].values\n",
    "\n",
    "fig = px.line(\n",
    "    combined_data,\n",
    "    x='Year',\n",
    "    y=['Adult Early Discharge', 'Juvenile Early Discharge', 'Adult Violation of Probation', 'Juvenile Probation Revoked'],\n",
    "    markers=True,\n",
    "    title=\"Comparing Early Discharge and Probation-Related Trends (2017-2023)\",\n",
    "    labels={'value': 'Number of Cases Closed', 'Year': 'Year'}\n",
    ")\n",
    "fig.update_layout(\n",
    "    legend_title_text='Case Type',\n",
    "    xaxis_title='Year',\n",
    "    yaxis_title='Number of Cases Closed',\n",
    "    yaxis=dict(tickmode='linear', tick0=0, dtick=200)\n",
    ")\n",
    "fig.show()"
   ]
  },
  {
   "cell_type": "markdown",
   "id": "d5db9341-6e5c-47cd-872d-5d57c3b3e622",
   "metadata": {},
   "source": [
    "### Summary\n",
    "**Observations:**  \n",
    "1)Early Discharge:  \n",
    "- Adults show a substantial increase in Early Discharges from 2017 to 2019, contrasting with a steady decline for juveniles.\n",
    "- This suggests different policies or practices influencing Early Discharge decisions for these groups.\n",
    "  \n",
    "2)Probation-Related Closings:  \n",
    "- Both adults (Violation of Probation) and juveniles (Probation Revoked) exhibit a decline from 2017 to 2020, followed by some recovery in 2023.\n",
    "- Juvenile numbers are consistently much lower, reflecting differences in enforcement or probation structures.\n",
    "  \n",
    "3)Cross-Group Similarities:  \n",
    "- Both groups experienced notable declines in case closings during 2020 and 2021, likely due to pandemic disruptions.\n",
    "Recovery trends from 2022 onwards are similar, though they differ in magnitude between adults and juveniles.\n",
    "\n",
    "**Key Takeaways**:  \n",
    "The trends reflect potential systematic impacts of NYC probation policies, external factors (e.g., COVID-19), and differing practices for adults and juveniles. Early Discharge appears more frequent for adults, suggesting a policy shift toward rehabilitation for this group. Probation-related closures, though declining for both groups, highlight stricter monitoring for adults. While similar cross-group shifts started in 2020 could be attributed to COVID, it is also worth further exploration of how a new US president and the new administration could be influencing the overall probation policies and practices in the country. \n"
   ]
  },
  {
   "cell_type": "code",
   "execution_count": null,
   "id": "027b1cfc-4d3d-4b4f-ba6f-954d0601544f",
   "metadata": {},
   "outputs": [],
   "source": []
  },
  {
   "cell_type": "code",
   "execution_count": null,
   "id": "663c0f49-816c-4d51-9e36-984da4f7b418",
   "metadata": {},
   "outputs": [],
   "source": []
  },
  {
   "cell_type": "code",
   "execution_count": null,
   "id": "a69d116d-5e8c-4b78-bce9-fc54bd9049bc",
   "metadata": {},
   "outputs": [],
   "source": []
  },
  {
   "cell_type": "code",
   "execution_count": null,
   "id": "75316c09-0559-4b03-8dfb-0ece8ba30713",
   "metadata": {},
   "outputs": [],
   "source": []
  },
  {
   "cell_type": "code",
   "execution_count": null,
   "id": "214d4099-9da0-46dd-be44-48b492516763",
   "metadata": {},
   "outputs": [],
   "source": []
  },
  {
   "cell_type": "code",
   "execution_count": null,
   "id": "946bc3dd-d1ff-4d14-bcc0-1e1ac2e9d774",
   "metadata": {},
   "outputs": [],
   "source": []
  },
  {
   "cell_type": "code",
   "execution_count": null,
   "id": "91f0b8c9-6774-4168-9e41-c2069e3b5106",
   "metadata": {},
   "outputs": [],
   "source": []
  },
  {
   "cell_type": "code",
   "execution_count": null,
   "id": "d458b054-b1aa-406f-bd96-d5238a765ed7",
   "metadata": {},
   "outputs": [],
   "source": []
  },
  {
   "cell_type": "code",
   "execution_count": null,
   "id": "5ff952ff-f887-49a7-8703-7a6c67ce54ed",
   "metadata": {},
   "outputs": [],
   "source": []
  }
 ],
 "metadata": {
  "kernelspec": {
   "display_name": "Python 3 (ipykernel)",
   "language": "python",
   "name": "python3"
  },
  "language_info": {
   "codemirror_mode": {
    "name": "ipython",
    "version": 3
   },
   "file_extension": ".py",
   "mimetype": "text/x-python",
   "name": "python",
   "nbconvert_exporter": "python",
   "pygments_lexer": "ipython3",
   "version": "3.9.6"
  }
 },
 "nbformat": 4,
 "nbformat_minor": 5
}
