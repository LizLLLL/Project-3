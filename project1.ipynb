{
 "cells": [
  {
   "cell_type": "markdown",
   "id": "420cca82-00de-460a-93e7-22dc4f10c3d9",
   "metadata": {
    "editable": true,
    "slideshow": {
     "slide_type": ""
    },
    "tags": []
   },
   "source": [
    "## Project 1"
   ]
  },
  {
   "cell_type": "markdown",
   "id": "18df6b5c-88b1-440a-ba78-88f46c9091dd",
   "metadata": {},
   "source": [
    "# **Step 1**\n",
    "In this project, we examine the *FDNY_Monthly_Response_Times* data disclosed by the Fire Department of NYC.\n",
    "\n",
    "The dataset has 6552 rows and 5 columns, with one numeric column.\n",
    "\n",
    "Detailed information about the dataset can be found here: \n",
    "\n",
    "https://data.cityofnewyork.us/Social-Services/FDNY-Monthly-Response-Times/j34j-vqvt/about_data\n",
    "\n",
    "\n"
   ]
  },
  {
   "cell_type": "markdown",
   "id": "31512fab-cbc4-492b-96e0-cd13653de7ff",
   "metadata": {},
   "source": [
    "# **Step 2**\n",
    "\n",
    "The numeric column we are going to use is \"INCIDENT COUNT\".\n",
    "\n",
    "Other columns: \"YEAR MONTH\", \"INCIDENT CLASSIFICATION\", \"INCIDENT BOROUGH\" and \"AVERAGE RESPONSE TIME\""
   ]
  },
  {
   "cell_type": "markdown",
   "id": "b5fb1e59-e106-44e1-ba53-6c0a3a877dbf",
   "metadata": {},
   "source": [
    "# **Step 3**\n",
    "\n",
    "We created a *Project 1* notebook here."
   ]
  },
  {
   "cell_type": "markdown",
   "id": "a37710cb-c767-4115-a17d-ef8933254d24",
   "metadata": {},
   "source": [
    "# **Step 4 - Using Pandas**\n",
    "\n",
    "**— PART 4.A: Read in the data**"
   ]
  },
  {
   "cell_type": "code",
   "execution_count": 35,
   "id": "8e7383ed-919a-450c-bcf9-f255ce6d97ac",
   "metadata": {},
   "outputs": [
    {
     "data": {
      "text/html": [
       "<div>\n",
       "<style scoped>\n",
       "    .dataframe tbody tr th:only-of-type {\n",
       "        vertical-align: middle;\n",
       "    }\n",
       "\n",
       "    .dataframe tbody tr th {\n",
       "        vertical-align: top;\n",
       "    }\n",
       "\n",
       "    .dataframe thead th {\n",
       "        text-align: right;\n",
       "    }\n",
       "</style>\n",
       "<table border=\"1\" class=\"dataframe\">\n",
       "  <thead>\n",
       "    <tr style=\"text-align: right;\">\n",
       "      <th></th>\n",
       "      <th>YEARMONTH</th>\n",
       "      <th>INCIDENTCLASSIFICATION</th>\n",
       "      <th>INCIDENTBOROUGH</th>\n",
       "      <th>INCIDENTCOUNT</th>\n",
       "      <th>AVERAGERESPONSETIME</th>\n",
       "    </tr>\n",
       "  </thead>\n",
       "  <tbody>\n",
       "    <tr>\n",
       "      <th>0</th>\n",
       "      <td>2009/07</td>\n",
       "      <td>All Fire/Emergency Incidents</td>\n",
       "      <td>Citywide</td>\n",
       "      <td>40850</td>\n",
       "      <td>04:27</td>\n",
       "    </tr>\n",
       "    <tr>\n",
       "      <th>1</th>\n",
       "      <td>2009/07</td>\n",
       "      <td>All Fire/Emergency Incidents</td>\n",
       "      <td>Manhattan</td>\n",
       "      <td>10709</td>\n",
       "      <td>04:32</td>\n",
       "    </tr>\n",
       "    <tr>\n",
       "      <th>2</th>\n",
       "      <td>2009/07</td>\n",
       "      <td>All Fire/Emergency Incidents</td>\n",
       "      <td>Bronx</td>\n",
       "      <td>8137</td>\n",
       "      <td>04:37</td>\n",
       "    </tr>\n",
       "    <tr>\n",
       "      <th>3</th>\n",
       "      <td>2009/07</td>\n",
       "      <td>All Fire/Emergency Incidents</td>\n",
       "      <td>Staten Island</td>\n",
       "      <td>2205</td>\n",
       "      <td>04:45</td>\n",
       "    </tr>\n",
       "    <tr>\n",
       "      <th>4</th>\n",
       "      <td>2009/07</td>\n",
       "      <td>All Fire/Emergency Incidents</td>\n",
       "      <td>Brooklyn</td>\n",
       "      <td>11505</td>\n",
       "      <td>04:01</td>\n",
       "    </tr>\n",
       "    <tr>\n",
       "      <th>...</th>\n",
       "      <td>...</td>\n",
       "      <td>...</td>\n",
       "      <td>...</td>\n",
       "      <td>...</td>\n",
       "      <td>...</td>\n",
       "    </tr>\n",
       "    <tr>\n",
       "      <th>6547</th>\n",
       "      <td>FY 2021</td>\n",
       "      <td>Structural Fires</td>\n",
       "      <td>Brooklyn</td>\n",
       "      <td>7357</td>\n",
       "      <td>1899-12-31T03:51:00.000</td>\n",
       "    </tr>\n",
       "    <tr>\n",
       "      <th>6548</th>\n",
       "      <td>FY 2021</td>\n",
       "      <td>Structural Fires</td>\n",
       "      <td>Citywide</td>\n",
       "      <td>24359</td>\n",
       "      <td>1899-12-31T04:22:00.000</td>\n",
       "    </tr>\n",
       "    <tr>\n",
       "      <th>6549</th>\n",
       "      <td>FY 2021</td>\n",
       "      <td>Structural Fires</td>\n",
       "      <td>Manhattan</td>\n",
       "      <td>4798</td>\n",
       "      <td>1899-12-31T04:23:00.000</td>\n",
       "    </tr>\n",
       "    <tr>\n",
       "      <th>6550</th>\n",
       "      <td>FY 2021</td>\n",
       "      <td>Structural Fires</td>\n",
       "      <td>Queens</td>\n",
       "      <td>5227</td>\n",
       "      <td>1899-12-31T04:43:00.000</td>\n",
       "    </tr>\n",
       "    <tr>\n",
       "      <th>6551</th>\n",
       "      <td>FY 2021</td>\n",
       "      <td>Structural Fires</td>\n",
       "      <td>Staten Island</td>\n",
       "      <td>1395</td>\n",
       "      <td>1899-12-31T04:49:00.000</td>\n",
       "    </tr>\n",
       "  </tbody>\n",
       "</table>\n",
       "<p>6552 rows × 5 columns</p>\n",
       "</div>"
      ],
      "text/plain": [
       "     YEARMONTH        INCIDENTCLASSIFICATION INCIDENTBOROUGH  INCIDENTCOUNT  \\\n",
       "0      2009/07  All Fire/Emergency Incidents        Citywide          40850   \n",
       "1      2009/07  All Fire/Emergency Incidents       Manhattan          10709   \n",
       "2      2009/07  All Fire/Emergency Incidents           Bronx           8137   \n",
       "3      2009/07  All Fire/Emergency Incidents   Staten Island           2205   \n",
       "4      2009/07  All Fire/Emergency Incidents        Brooklyn          11505   \n",
       "...        ...                           ...             ...            ...   \n",
       "6547   FY 2021              Structural Fires        Brooklyn           7357   \n",
       "6548   FY 2021              Structural Fires        Citywide          24359   \n",
       "6549   FY 2021              Structural Fires       Manhattan           4798   \n",
       "6550   FY 2021              Structural Fires          Queens           5227   \n",
       "6551   FY 2021              Structural Fires   Staten Island           1395   \n",
       "\n",
       "          AVERAGERESPONSETIME  \n",
       "0                       04:27  \n",
       "1                       04:32  \n",
       "2                       04:37  \n",
       "3                       04:45  \n",
       "4                       04:01  \n",
       "...                       ...  \n",
       "6547  1899-12-31T03:51:00.000  \n",
       "6548  1899-12-31T04:22:00.000  \n",
       "6549  1899-12-31T04:23:00.000  \n",
       "6550  1899-12-31T04:43:00.000  \n",
       "6551  1899-12-31T04:49:00.000  \n",
       "\n",
       "[6552 rows x 5 columns]"
      ]
     },
     "execution_count": 35,
     "metadata": {},
     "output_type": "execute_result"
    }
   ],
   "source": [
    "import pandas as pd\n",
    "project = pd.read_csv(\"FDNY_Monthly_Response_Times.csv\")\n",
    "project"
   ]
  },
  {
   "cell_type": "markdown",
   "id": "3defdf10-333b-4335-aea9-6d7738f497a9",
   "metadata": {},
   "source": [
    "**—— PART 4.B: Compute the Mean, the Median and the Mode**\n",
    "\n",
    "We choose to focus on the statistics of monthly \"Incident Count\" of \"All Fire/Emergency Incidents\" for \"Manhattan\" in 2019."
   ]
  },
  {
   "cell_type": "markdown",
   "id": "7eb9ccfb-a233-41be-ae9b-55f40a83daee",
   "metadata": {},
   "source": [
    "Before calculating, we filter the data for the monthly \"Incident Count\" of \"All Fire/Emergency Incidents\" for \"Manhattan\" in 2019. \n",
    "\n",
    "(*Citation note: I used AI tools to help correct my conversion function for \"YEARMONTH\" to \"YYYY/MM\".*)"
   ]
  },
  {
   "cell_type": "code",
   "execution_count": 65,
   "id": "c3658ff7-982f-48b8-a125-d4f0235bd95e",
   "metadata": {},
   "outputs": [
    {
     "data": {
      "text/html": [
       "<div>\n",
       "<style scoped>\n",
       "    .dataframe tbody tr th:only-of-type {\n",
       "        vertical-align: middle;\n",
       "    }\n",
       "\n",
       "    .dataframe tbody tr th {\n",
       "        vertical-align: top;\n",
       "    }\n",
       "\n",
       "    .dataframe thead th {\n",
       "        text-align: right;\n",
       "    }\n",
       "</style>\n",
       "<table border=\"1\" class=\"dataframe\">\n",
       "  <thead>\n",
       "    <tr style=\"text-align: right;\">\n",
       "      <th></th>\n",
       "      <th>YEARMONTH</th>\n",
       "      <th>INCIDENTCLASSIFICATION</th>\n",
       "      <th>INCIDENTBOROUGH</th>\n",
       "      <th>INCIDENTCOUNT</th>\n",
       "      <th>AVERAGERESPONSETIME</th>\n",
       "      <th>YEARMONTH_dt</th>\n",
       "    </tr>\n",
       "  </thead>\n",
       "  <tbody>\n",
       "    <tr>\n",
       "      <th>5127</th>\n",
       "      <td>2019/01</td>\n",
       "      <td>All Fire/Emergency Incidents</td>\n",
       "      <td>Manhattan</td>\n",
       "      <td>13605</td>\n",
       "      <td>1899-12-31T05:35:00.000</td>\n",
       "      <td>2019-01-01</td>\n",
       "    </tr>\n",
       "    <tr>\n",
       "      <th>5169</th>\n",
       "      <td>2019/02</td>\n",
       "      <td>All Fire/Emergency Incidents</td>\n",
       "      <td>Manhattan</td>\n",
       "      <td>12238</td>\n",
       "      <td>1899-12-31T05:39:00.000</td>\n",
       "      <td>2019-02-01</td>\n",
       "    </tr>\n",
       "    <tr>\n",
       "      <th>5211</th>\n",
       "      <td>2019/03</td>\n",
       "      <td>All Fire/Emergency Incidents</td>\n",
       "      <td>Manhattan</td>\n",
       "      <td>13115</td>\n",
       "      <td>1899-12-31T05:29:00.000</td>\n",
       "      <td>2019-03-01</td>\n",
       "    </tr>\n",
       "    <tr>\n",
       "      <th>5253</th>\n",
       "      <td>2019/04</td>\n",
       "      <td>All Fire/Emergency Incidents</td>\n",
       "      <td>Manhattan</td>\n",
       "      <td>12541</td>\n",
       "      <td>1899-12-31T05:31:00.000</td>\n",
       "      <td>2019-04-01</td>\n",
       "    </tr>\n",
       "    <tr>\n",
       "      <th>5295</th>\n",
       "      <td>2019/05</td>\n",
       "      <td>All Fire/Emergency Incidents</td>\n",
       "      <td>Manhattan</td>\n",
       "      <td>13997</td>\n",
       "      <td>1899-12-31T05:33:00.000</td>\n",
       "      <td>2019-05-01</td>\n",
       "    </tr>\n",
       "    <tr>\n",
       "      <th>5337</th>\n",
       "      <td>2019/06</td>\n",
       "      <td>All Fire/Emergency Incidents</td>\n",
       "      <td>Manhattan</td>\n",
       "      <td>14425</td>\n",
       "      <td>1899-12-31T05:36:00.000</td>\n",
       "      <td>2019-06-01</td>\n",
       "    </tr>\n",
       "    <tr>\n",
       "      <th>5379</th>\n",
       "      <td>2019/07</td>\n",
       "      <td>All Fire/Emergency Incidents</td>\n",
       "      <td>Manhattan</td>\n",
       "      <td>15782</td>\n",
       "      <td>1899-12-31T05:46:00.000</td>\n",
       "      <td>2019-07-01</td>\n",
       "    </tr>\n",
       "    <tr>\n",
       "      <th>5421</th>\n",
       "      <td>2019/08</td>\n",
       "      <td>All Fire/Emergency Incidents</td>\n",
       "      <td>Manhattan</td>\n",
       "      <td>14725</td>\n",
       "      <td>1899-12-31T05:30:00.000</td>\n",
       "      <td>2019-08-01</td>\n",
       "    </tr>\n",
       "    <tr>\n",
       "      <th>5463</th>\n",
       "      <td>2019/09</td>\n",
       "      <td>All Fire/Emergency Incidents</td>\n",
       "      <td>Manhattan</td>\n",
       "      <td>13964</td>\n",
       "      <td>1899-12-31T05:37:00.000</td>\n",
       "      <td>2019-09-01</td>\n",
       "    </tr>\n",
       "    <tr>\n",
       "      <th>5505</th>\n",
       "      <td>2019/10</td>\n",
       "      <td>All Fire/Emergency Incidents</td>\n",
       "      <td>Manhattan</td>\n",
       "      <td>13405</td>\n",
       "      <td>1899-12-31T05:33:00.000</td>\n",
       "      <td>2019-10-01</td>\n",
       "    </tr>\n",
       "    <tr>\n",
       "      <th>5547</th>\n",
       "      <td>2019/11</td>\n",
       "      <td>All Fire/Emergency Incidents</td>\n",
       "      <td>Manhattan</td>\n",
       "      <td>12359</td>\n",
       "      <td>1899-12-31T05:38:00.000</td>\n",
       "      <td>2019-11-01</td>\n",
       "    </tr>\n",
       "    <tr>\n",
       "      <th>5589</th>\n",
       "      <td>2019/12</td>\n",
       "      <td>All Fire/Emergency Incidents</td>\n",
       "      <td>Manhattan</td>\n",
       "      <td>12750</td>\n",
       "      <td>1899-12-31T05:41:00.000</td>\n",
       "      <td>2019-12-01</td>\n",
       "    </tr>\n",
       "  </tbody>\n",
       "</table>\n",
       "</div>"
      ],
      "text/plain": [
       "     YEARMONTH        INCIDENTCLASSIFICATION INCIDENTBOROUGH  INCIDENTCOUNT  \\\n",
       "5127   2019/01  All Fire/Emergency Incidents       Manhattan          13605   \n",
       "5169   2019/02  All Fire/Emergency Incidents       Manhattan          12238   \n",
       "5211   2019/03  All Fire/Emergency Incidents       Manhattan          13115   \n",
       "5253   2019/04  All Fire/Emergency Incidents       Manhattan          12541   \n",
       "5295   2019/05  All Fire/Emergency Incidents       Manhattan          13997   \n",
       "5337   2019/06  All Fire/Emergency Incidents       Manhattan          14425   \n",
       "5379   2019/07  All Fire/Emergency Incidents       Manhattan          15782   \n",
       "5421   2019/08  All Fire/Emergency Incidents       Manhattan          14725   \n",
       "5463   2019/09  All Fire/Emergency Incidents       Manhattan          13964   \n",
       "5505   2019/10  All Fire/Emergency Incidents       Manhattan          13405   \n",
       "5547   2019/11  All Fire/Emergency Incidents       Manhattan          12359   \n",
       "5589   2019/12  All Fire/Emergency Incidents       Manhattan          12750   \n",
       "\n",
       "          AVERAGERESPONSETIME YEARMONTH_dt  \n",
       "5127  1899-12-31T05:35:00.000   2019-01-01  \n",
       "5169  1899-12-31T05:39:00.000   2019-02-01  \n",
       "5211  1899-12-31T05:29:00.000   2019-03-01  \n",
       "5253  1899-12-31T05:31:00.000   2019-04-01  \n",
       "5295  1899-12-31T05:33:00.000   2019-05-01  \n",
       "5337  1899-12-31T05:36:00.000   2019-06-01  \n",
       "5379  1899-12-31T05:46:00.000   2019-07-01  \n",
       "5421  1899-12-31T05:30:00.000   2019-08-01  \n",
       "5463  1899-12-31T05:37:00.000   2019-09-01  \n",
       "5505  1899-12-31T05:33:00.000   2019-10-01  \n",
       "5547  1899-12-31T05:38:00.000   2019-11-01  \n",
       "5589  1899-12-31T05:41:00.000   2019-12-01  "
      ]
     },
     "execution_count": 65,
     "metadata": {},
     "output_type": "execute_result"
    }
   ],
   "source": [
    "# Convert \"YEARMONTH\" to YYYY/MM format and process only rows in YYYY/MM format\n",
    "project['YEARMONTH_dt'] = pd.to_datetime(project['YEARMONTH'], errors='coerce', format='%Y/%m')\n",
    "\n",
    "# Filter the data for 2019\n",
    "data_2019 = project[(project['INCIDENTCLASSIFICATION'] == 'All Fire/Emergency Incidents') &\n",
    "                    (project['INCIDENTBOROUGH'] == 'Manhattan') &\n",
    "                    (project['YEARMONTH_dt'].dt.year == 2019)]\n",
    "\n",
    "data_2019"
   ]
  },
  {
   "cell_type": "markdown",
   "id": "4311f7e2-dc08-46e3-956d-1698416e9ed8",
   "metadata": {},
   "source": [
    "**a. The Mean** "
   ]
  },
  {
   "cell_type": "code",
   "execution_count": 69,
   "id": "6dcdadbe-fcf5-4ae1-a996-663aa9457737",
   "metadata": {},
   "outputs": [
    {
     "data": {
      "text/plain": [
       "13575.5"
      ]
     },
     "execution_count": 69,
     "metadata": {},
     "output_type": "execute_result"
    }
   ],
   "source": [
    "mean_monthly_incident_2019 = data_2019['INCIDENTCOUNT'].mean()\n",
    "mean_monthly_incident_2019"
   ]
  },
  {
   "cell_type": "markdown",
   "id": "5d6a62ae-5a57-44cc-9df8-299d9cdf1846",
   "metadata": {},
   "source": [
    "**b. The Median**"
   ]
  },
  {
   "cell_type": "code",
   "execution_count": 73,
   "id": "a5259d0d-a350-4009-a750-26aaea8ade79",
   "metadata": {},
   "outputs": [
    {
     "data": {
      "text/plain": [
       "13505.0"
      ]
     },
     "execution_count": 73,
     "metadata": {},
     "output_type": "execute_result"
    }
   ],
   "source": [
    "median_monthly_incident_2019 = data_2019['INCIDENTCOUNT'].median()\n",
    "median_monthly_incident_2019"
   ]
  },
  {
   "cell_type": "markdown",
   "id": "fc39fdd0-2cc3-44ed-97cd-282669434acf",
   "metadata": {},
   "source": [
    "**c. The Mode**"
   ]
  },
  {
   "cell_type": "code",
   "execution_count": 76,
   "id": "444ff543-c6ee-40c4-945c-6143348f16ca",
   "metadata": {},
   "outputs": [
    {
     "data": {
      "text/plain": [
       "0     12238\n",
       "1     12359\n",
       "2     12541\n",
       "3     12750\n",
       "4     13115\n",
       "5     13405\n",
       "6     13605\n",
       "7     13964\n",
       "8     13997\n",
       "9     14425\n",
       "10    14725\n",
       "11    15782\n",
       "Name: INCIDENTCOUNT, dtype: int64"
      ]
     },
     "execution_count": 76,
     "metadata": {},
     "output_type": "execute_result"
    }
   ],
   "source": [
    "mode_monthly_incident_2019 = data_2019['INCIDENTCOUNT'].mode()\n",
    "mode_monthly_incident_2019"
   ]
  },
  {
   "cell_type": "markdown",
   "id": "44b463d5-b577-4682-af69-9081a588ffc7",
   "metadata": {},
   "source": [
    "As all the monthly counts of incidents in 2019 did not repeat themselves - each number occurred only once, we can see that the output for mode actually listed all the monthly counts in 2019, indicating no mode. "
   ]
  },
  {
   "cell_type": "markdown",
   "id": "bfac366c-6ef8-4585-9d14-0555a54d0b21",
   "metadata": {},
   "source": [
    "# **Step 5**\n",
    "\n",
    "Repeat the previous step using only the Python standard library (“the hard way” - not using pandas, a spreadsheet program, etc).\n"
   ]
  },
  {
   "cell_type": "code",
   "execution_count": 117,
   "id": "00a1d772-2693-4769-a3cd-1c7f2c28f584",
   "metadata": {},
   "outputs": [],
   "source": [
    "# Import modules and read in the data using Python standard library\n",
    "\n",
    "import csv\n",
    "from datetime import datetime\n",
    "from statistics import mean, median, multimode\n",
    "\n",
    "data = []\n",
    "\n",
    "with open('FDNY_Monthly_Response_Times.csv', mode = 'r') as file:\n",
    "     reader = csv.DictReader(file)\n",
    "     for row in reader:\n",
    "         # Process only rows in YYYY/MM format\n",
    "         if len(row['YEARMONTH']) == 7 and row['YEARMONTH'][4] == '/':\n",
    "             year_month = datetime.strptime(row['YEARMONTH'], '%Y/%m')\n",
    "             row['YEARMONTH_dt'] = year_month\n",
    "             data.append(row)"
   ]
  },
  {
   "cell_type": "code",
   "execution_count": 119,
   "id": "7a549577-59e3-4fc9-82b1-5ff03668ff64",
   "metadata": {},
   "outputs": [],
   "source": [
    "# Filter the data for 2019\n",
    "data_2019 = [\n",
    "    int(row['INCIDENTCOUNT'])\n",
    "    for row in data \n",
    "    if row ['INCIDENTCLASSIFICATION'] == 'All Fire/Emergency Incidents'\n",
    "    and row['INCIDENTBOROUGH'] == 'Manhattan'\n",
    "    and row['YEARMONTH_dt'].year == 2019\n",
    "]"
   ]
  },
  {
   "cell_type": "code",
   "execution_count": 121,
   "id": "71008635-1453-462d-bcbc-cbe873aff850",
   "metadata": {},
   "outputs": [
    {
     "data": {
      "text/plain": [
       "13575.5"
      ]
     },
     "execution_count": 121,
     "metadata": {},
     "output_type": "execute_result"
    }
   ],
   "source": [
    "# Compute the mean\n",
    "mean_monthly_incident = mean(data_2019)\n",
    "mean_monthly_incident"
   ]
  },
  {
   "cell_type": "code",
   "execution_count": 123,
   "id": "67f960ff-3e97-45ca-b9bb-a91097e64c69",
   "metadata": {},
   "outputs": [
    {
     "data": {
      "text/plain": [
       "13505.0"
      ]
     },
     "execution_count": 123,
     "metadata": {},
     "output_type": "execute_result"
    }
   ],
   "source": [
    "# Compute the median\n",
    "median_monthly_incident = median(data_2019)\n",
    "median_monthly_incident"
   ]
  },
  {
   "cell_type": "code",
   "execution_count": 125,
   "id": "b5bfb343-d263-4594-a4a2-86fefe6aafee",
   "metadata": {},
   "outputs": [
    {
     "data": {
      "text/plain": [
       "[13605,\n",
       " 12238,\n",
       " 13115,\n",
       " 12541,\n",
       " 13997,\n",
       " 14425,\n",
       " 15782,\n",
       " 14725,\n",
       " 13964,\n",
       " 13405,\n",
       " 12359,\n",
       " 12750]"
      ]
     },
     "execution_count": 125,
     "metadata": {},
     "output_type": "execute_result"
    }
   ],
   "source": [
    "# Compute the mode\n",
    "mode_monthly_incident = multimode(data_2019)\n",
    "mode_monthly_incident"
   ]
  },
  {
   "cell_type": "markdown",
   "id": "74379923-317f-4eca-b00c-a88966237514",
   "metadata": {},
   "source": [
    "We can see that the outputs in Step 5 are the same as those in Step 4."
   ]
  },
  {
   "cell_type": "markdown",
   "id": "08b16242-7ad5-4786-a927-8c897feec704",
   "metadata": {},
   "source": [
    "# **Step 6 - Data Visualization**"
   ]
  },
  {
   "cell_type": "markdown",
   "id": "dc84e5bf-6226-4311-8892-b6937094d3ce",
   "metadata": {},
   "source": [
    "We are createing a text-based sparklinne for the \"Incident Count\" of \"All Fire/Emergency Incidents\" in \"Manhattan\" for each month in 2019. "
   ]
  },
  {
   "cell_type": "markdown",
   "id": "4442bbde-38da-4b1e-ab18-f1aac59c12fb",
   "metadata": {},
   "source": [
    "We use only the Python standard library, and it's not hard-coded."
   ]
  },
  {
   "cell_type": "code",
   "execution_count": 137,
   "id": "54b1423d-46e0-4f90-94c7-fc6c24970a36",
   "metadata": {},
   "outputs": [
    {
     "data": {
      "text/plain": [
       "15782"
      ]
     },
     "execution_count": 137,
     "metadata": {},
     "output_type": "execute_result"
    }
   ],
   "source": [
    "# Find the max count so that the bars are scaled appropriately \n",
    "max_count = max(data_2019)\n",
    "max_count"
   ]
  },
  {
   "cell_type": "code",
   "execution_count": 139,
   "id": "3cf1226d-ecb0-49b7-b18d-e6fb5c9bd970",
   "metadata": {},
   "outputs": [
    {
     "name": "stdout",
     "output_type": "stream",
     "text": [
      "2019-01: |🔥🔥🔥🔥🔥🔥🔥🔥🔥🔥🔥🔥🔥🔥🔥🔥🔥🔥🔥🔥🔥🔥🔥🔥🔥🔥🔥🔥🔥🔥🔥🔥🔥🔥 (13605)\n",
      "2019-02: |🔥🔥🔥🔥🔥🔥🔥🔥🔥🔥🔥🔥🔥🔥🔥🔥🔥🔥🔥🔥🔥🔥🔥🔥🔥🔥🔥🔥🔥🔥🔥 (12238)\n",
      "2019-03: |🔥🔥🔥🔥🔥🔥🔥🔥🔥🔥🔥🔥🔥🔥🔥🔥🔥🔥🔥🔥🔥🔥🔥🔥🔥🔥🔥🔥🔥🔥🔥🔥🔥 (13115)\n",
      "2019-04: |🔥🔥🔥🔥🔥🔥🔥🔥🔥🔥🔥🔥🔥🔥🔥🔥🔥🔥🔥🔥🔥🔥🔥🔥🔥🔥🔥🔥🔥🔥🔥 (12541)\n",
      "2019-05: |🔥🔥🔥🔥🔥🔥🔥🔥🔥🔥🔥🔥🔥🔥🔥🔥🔥🔥🔥🔥🔥🔥🔥🔥🔥🔥🔥🔥🔥🔥🔥🔥🔥🔥🔥 (13997)\n",
      "2019-06: |🔥🔥🔥🔥🔥🔥🔥🔥🔥🔥🔥🔥🔥🔥🔥🔥🔥🔥🔥🔥🔥🔥🔥🔥🔥🔥🔥🔥🔥🔥🔥🔥🔥🔥🔥🔥 (14425)\n",
      "2019-07: |🔥🔥🔥🔥🔥🔥🔥🔥🔥🔥🔥🔥🔥🔥🔥🔥🔥🔥🔥🔥🔥🔥🔥🔥🔥🔥🔥🔥🔥🔥🔥🔥🔥🔥🔥🔥🔥🔥🔥🔥 (15782)\n",
      "2019-08: |🔥🔥🔥🔥🔥🔥🔥🔥🔥🔥🔥🔥🔥🔥🔥🔥🔥🔥🔥🔥🔥🔥🔥🔥🔥🔥🔥🔥🔥🔥🔥🔥🔥🔥🔥🔥🔥 (14725)\n",
      "2019-09: |🔥🔥🔥🔥🔥🔥🔥🔥🔥🔥🔥🔥🔥🔥🔥🔥🔥🔥🔥🔥🔥🔥🔥🔥🔥🔥🔥🔥🔥🔥🔥🔥🔥🔥🔥 (13964)\n",
      "2019-10: |🔥🔥🔥🔥🔥🔥🔥🔥🔥🔥🔥🔥🔥🔥🔥🔥🔥🔥🔥🔥🔥🔥🔥🔥🔥🔥🔥🔥🔥🔥🔥🔥🔥 (13405)\n",
      "2019-11: |🔥🔥🔥🔥🔥🔥🔥🔥🔥🔥🔥🔥🔥🔥🔥🔥🔥🔥🔥🔥🔥🔥🔥🔥🔥🔥🔥🔥🔥🔥🔥 (12359)\n",
      "2019-12: |🔥🔥🔥🔥🔥🔥🔥🔥🔥🔥🔥🔥🔥🔥🔥🔥🔥🔥🔥🔥🔥🔥🔥🔥🔥🔥🔥🔥🔥🔥🔥🔥 (12750)\n"
     ]
    }
   ],
   "source": [
    "# Display each month and its incident count as a text-based bar chart\n",
    "\n",
    "for row in data:\n",
    "    if (\n",
    "        row['INCIDENTCLASSIFICATION'] == 'All Fire/Emergency Incidents'\n",
    "        and row['INCIDENTBOROUGH'] == 'Manhattan'\n",
    "        and row['YEARMONTH_dt'].year == 2019\n",
    "    ):\n",
    "        Month = row['YEARMONTH_dt'].strftime('%Y-%m')\n",
    "        Count = int(row['INCIDENTCOUNT'])\n",
    "        # Scale the bar to a width of up to 40 characters based on the max_count\n",
    "        Bar = '|' + '🔥'*(Count * 40// max_count)\n",
    "        print(f\"{Month}: {Bar} ({Count})\")"
   ]
  },
  {
   "cell_type": "markdown",
   "id": "fafa8920-6e40-4bd6-8db9-c5fb3b3c01f5",
   "metadata": {},
   "source": [
    "We have here a simple text-based sparkline for \"All Fire/Emergency Incidents\" in Manhattan for each month in 2019. Each bar's length of 🔥 is scaled relative to the max count of 15782 in July 2019. \n",
    "(*Citation note: I used Al tools to help fix my function for the scaling.*)"
   ]
  }
 ],
 "metadata": {
  "kernelspec": {
   "display_name": "Python 3 (ipykernel)",
   "language": "python",
   "name": "python3"
  },
  "language_info": {
   "codemirror_mode": {
    "name": "ipython",
    "version": 3
   },
   "file_extension": ".py",
   "mimetype": "text/x-python",
   "name": "python",
   "nbconvert_exporter": "python",
   "pygments_lexer": "ipython3",
   "version": "3.9.6"
  }
 },
 "nbformat": 4,
 "nbformat_minor": 5
}
